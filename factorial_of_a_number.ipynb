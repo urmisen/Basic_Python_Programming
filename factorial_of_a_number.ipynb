{
  "nbformat": 4,
  "nbformat_minor": 0,
  "metadata": {
    "colab": {
      "name": "factorial_of_a_number.ipynb",
      "provenance": [],
      "collapsed_sections": []
    },
    "kernelspec": {
      "name": "python3",
      "display_name": "Python 3"
    }
  },
  "cells": [
    {
      "cell_type": "markdown",
      "metadata": {
        "id": "eSlCTBBhvHeP"
      },
      "source": [
        "### **Python Program for factorial of a number**\r\n",
        "\r\n",
        "Factorial of a non-negative integer, is multiplication of all integers smaller than or equal to n. For example factorial of 6 is 6*5*4*3*2*1 which is 720.\r\n",
        "\r\n",
        "Method 1: Recursive\r\n"
      ]
    },
    {
      "cell_type": "code",
      "metadata": {
        "colab": {
          "base_uri": "https://localhost:8080/"
        },
        "id": "4EJVB2fFtjLX",
        "outputId": "17f590b9-24d5-43f7-c665-e2f9553460fe"
      },
      "source": [
        "# Python 3 program to find \r\n",
        "# factorial of given number \r\n",
        "def factorial(n): \r\n",
        "\t\r\n",
        "\t# single line to find factorial \r\n",
        "\treturn 1 if (n==1 or n==0) else n * factorial(n - 1); \r\n",
        "\r\n",
        "# Driver Code \r\n",
        "num = 5; \r\n",
        "print(\"Factorial of\",num,\"is\", \r\n",
        "factorial(num)) \r\n",
        "\r\n",
        "# This code is contributed by Smitha Dinesh Semwal \r\n"
      ],
      "execution_count": 10,
      "outputs": [
        {
          "output_type": "stream",
          "text": [
            "Factorial of 5 is 120\n"
          ],
          "name": "stdout"
        }
      ]
    },
    {
      "cell_type": "markdown",
      "metadata": {
        "id": "0W9ZY7Cfvpzk"
      },
      "source": [
        "Method #2: Iterative"
      ]
    },
    {
      "cell_type": "code",
      "metadata": {
        "colab": {
          "base_uri": "https://localhost:8080/"
        },
        "id": "mpaIuWI3vRTZ",
        "outputId": "66ab196e-b9ee-4158-f2e9-26d10e972d8f"
      },
      "source": [
        "# Python 3 program to find \r\n",
        "# factorial of given number \r\n",
        "def factorial(n): \r\n",
        "\tif n < 0: \r\n",
        "\t\treturn 0\r\n",
        "\telif n == 0 or n == 1: \r\n",
        "\t\treturn 1\r\n",
        "\telse: \r\n",
        "\t\tfact = 1\r\n",
        "\t\twhile(n > 1): \r\n",
        "\t\t\tfact *= n \r\n",
        "\t\t\tn -= 1\r\n",
        "\t\treturn fact \r\n",
        "\r\n",
        "# Driver Code \r\n",
        "num = 5; \r\n",
        "print(\"Factorial of\",num,\"is\", \r\n",
        "factorial(num)) \r\n",
        "\r\n",
        "# This code is contributed by Dharmik Thakkar \r\n"
      ],
      "execution_count": 11,
      "outputs": [
        {
          "output_type": "stream",
          "text": [
            "Factorial of 5 is 120\n"
          ],
          "name": "stdout"
        }
      ]
    },
    {
      "cell_type": "markdown",
      "metadata": {
        "id": "va9nCVgZx80T"
      },
      "source": [
        "Method 3- One line Solution (Using Ternary operator):"
      ]
    },
    {
      "cell_type": "code",
      "metadata": {
        "colab": {
          "base_uri": "https://localhost:8080/"
        },
        "id": "0MmEhcchvvSQ",
        "outputId": "55744be2-1398-4e2c-d8e4-5a7999846377"
      },
      "source": [
        "# Python 3 program to find \r\n",
        "# factorial of given number \r\n",
        "\r\n",
        "def factorial(n): \r\n",
        "\r\n",
        "\t# single line to find factorial \r\n",
        "\treturn 1 if (n==1 or n==0) else n * factorial(n - 1) \r\n",
        "\r\n",
        "\r\n",
        "# Driver Code \r\n",
        "num = 5\r\n",
        "print (\"Factorial of\",num,\"is\", \r\n",
        "\tfactorial(num)) \r\n",
        "\r\n",
        "# This code is contributed \r\n",
        "# by Smitha Dinesh Semwal. \r\n"
      ],
      "execution_count": 12,
      "outputs": [
        {
          "output_type": "stream",
          "text": [
            "Factorial of 5 is 120\n"
          ],
          "name": "stdout"
        }
      ]
    },
    {
      "cell_type": "code",
      "metadata": {
        "id": "gfZmKzPAx-3x"
      },
      "source": [
        ""
      ],
      "execution_count": null,
      "outputs": []
    }
  ]
}