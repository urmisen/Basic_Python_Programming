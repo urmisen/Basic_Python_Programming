{
  "nbformat": 4,
  "nbformat_minor": 0,
  "metadata": {
    "colab": {
      "name": "find_largest_element_in_an_array.ipynb",
      "provenance": [],
      "collapsed_sections": []
    },
    "kernelspec": {
      "name": "python3",
      "display_name": "Python 3"
    }
  },
  "cells": [
    {
      "cell_type": "markdown",
      "metadata": {
        "id": "eSlCTBBhvHeP"
      },
      "source": [
        "### **Python Program to find largest element in an array**"
      ]
    },
    {
      "cell_type": "code",
      "metadata": {
        "colab": {
          "base_uri": "https://localhost:8080/"
        },
        "id": "4EJVB2fFtjLX",
        "outputId": "513f11cf-ad4e-493c-c2b7-175c87ca8cf8"
      },
      "source": [
        "# Python3 program to find maximum \r\n",
        "# in arr[] of size n \r\n",
        "\r\n",
        "# python function to find maximum \r\n",
        "# in arr[] of size n \r\n",
        "def largest(arr,n): \r\n",
        "\r\n",
        "\t# Initialize maximum element \r\n",
        "\tmax = arr[0] \r\n",
        "\r\n",
        "\t# Traverse array elements from second \r\n",
        "\t# and compare every element with \r\n",
        "\t# current max \r\n",
        "\tfor i in range(1, n): \r\n",
        "\t\tif arr[i] > max: \r\n",
        "\t\t\tmax = arr[i] \r\n",
        "\treturn max\r\n",
        "\r\n",
        "# Driver Code \r\n",
        "arr = [10, 324, 45, 90, 9808] \r\n",
        "n = len(arr) \r\n",
        "Ans = largest(arr,n) \r\n",
        "print (\"Largest in given array is\",Ans) \r\n",
        "\r\n",
        "# This code is contributed by Smitha Dinesh Semwal \r\n"
      ],
      "execution_count": 25,
      "outputs": [
        {
          "output_type": "stream",
          "text": [
            "Largest in given array is 9808\n"
          ],
          "name": "stdout"
        }
      ]
    },
    {
      "cell_type": "code",
      "metadata": {
        "id": "ueubT7XiAmhn"
      },
      "source": [
        ""
      ],
      "execution_count": null,
      "outputs": []
    }
  ]
}