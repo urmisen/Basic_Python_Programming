{
  "nbformat": 4,
  "nbformat_minor": 0,
  "metadata": {
    "colab": {
      "name": "find_largest_number_in_a_List.ipynb",
      "provenance": [],
      "collapsed_sections": []
    },
    "kernelspec": {
      "name": "python3",
      "display_name": "Python 3"
    }
  },
  "cells": [
    {
      "cell_type": "markdown",
      "metadata": {
        "id": "eSlCTBBhvHeP"
      },
      "source": [
        "### **Python program to find largest number in a list**\r\n",
        "\r\n",
        "Method 1 : Sort the list in ascending order and print the last element in the list.  \r\n",
        "\r\n",
        "\r\n"
      ]
    },
    {
      "cell_type": "code",
      "metadata": {
        "colab": {
          "base_uri": "https://localhost:8080/"
        },
        "id": "HEM_sUtkGavb",
        "outputId": "2d61ec36-6b7e-4e7c-ab45-899048fe8572"
      },
      "source": [
        "# Python program to find largest \r\n",
        "# number in a list \r\n",
        "\r\n",
        "# list of numbers \r\n",
        "list1 = [10, 20, 4, 45, 99] \r\n",
        "\r\n",
        "# sorting the list \r\n",
        "list1.sort() \r\n",
        "\r\n",
        "# printing the last element \r\n",
        "print(\"Largest element is:\", list1[-1]) \r\n"
      ],
      "execution_count": 8,
      "outputs": [
        {
          "output_type": "stream",
          "text": [
            "Largest element is: 99\n"
          ],
          "name": "stdout"
        }
      ]
    },
    {
      "cell_type": "markdown",
      "metadata": {
        "id": "vKouqmIUnsD_"
      },
      "source": [
        "Method 2 : Using max() method\r\n",
        "\r\n"
      ]
    },
    {
      "cell_type": "code",
      "metadata": {
        "colab": {
          "base_uri": "https://localhost:8080/"
        },
        "id": "2tN6UgHEiRtd",
        "outputId": "b5b762b4-be3f-4320-bb65-bf105fde4baf"
      },
      "source": [
        "# Python program to find largest \r\n",
        "# number in a list \r\n",
        "\r\n",
        "# list of numbers \r\n",
        "list1 = [10, 20, 4, 45, 99] \r\n",
        "\r\n",
        "\r\n",
        "# printing the maximum element \r\n",
        "print(\"Largest element is:\", max(list1)) \r\n"
      ],
      "execution_count": 9,
      "outputs": [
        {
          "output_type": "stream",
          "text": [
            "Largest element is: 99\n"
          ],
          "name": "stdout"
        }
      ]
    },
    {
      "cell_type": "markdown",
      "metadata": {
        "id": "4ZaqtbZqpF3s"
      },
      "source": [
        "Method 3 : Find max list element on inputs provided by user"
      ]
    },
    {
      "cell_type": "code",
      "metadata": {
        "colab": {
          "base_uri": "https://localhost:8080/"
        },
        "id": "O_gldxCcn1-S",
        "outputId": "298ae7a7-8b11-4c7f-bd01-a558013c5b5f"
      },
      "source": [
        "# Python program to find largest \r\n",
        "# number in a list \r\n",
        "\r\n",
        "# creating empty list \r\n",
        "list1 = [] \r\n",
        "\r\n",
        "# asking number of elements to put in list \r\n",
        "num = int(input(\"Enter number of elements in list: \")) \r\n",
        "\r\n",
        "# iterating till num to append elements in list \r\n",
        "for i in range(1, num + 1): \r\n",
        "\tele = int(input(\"Enter elements: \")) \r\n",
        "\tlist1.append(ele) \r\n",
        "\t\r\n",
        "# print maximum element \r\n",
        "print(\"Largest element is:\", max(list1)) \r\n"
      ],
      "execution_count": 10,
      "outputs": [
        {
          "output_type": "stream",
          "text": [
            "Enter number of elements in list: 5\n",
            "Enter elements: 7\n",
            "Enter elements: 9\n",
            "Enter elements: 1\n",
            "Enter elements: 12\n",
            "Enter elements: 44\n",
            "Largest element is: 44\n"
          ],
          "name": "stdout"
        }
      ]
    },
    {
      "cell_type": "markdown",
      "metadata": {
        "id": "0suPbvfwuYAU"
      },
      "source": [
        "Method 4 : Without using built in functions in python:"
      ]
    },
    {
      "cell_type": "code",
      "metadata": {
        "colab": {
          "base_uri": "https://localhost:8080/"
        },
        "id": "dFaPoqP7qd3o",
        "outputId": "77c2dcc2-71c8-4631-b5c3-0c6b9ada9e14"
      },
      "source": [
        "# Python program to find largest \r\n",
        "# number in a list \r\n",
        "\r\n",
        "def myMax(list1): \r\n",
        "\r\n",
        "\t# Assume first number in list is largest \r\n",
        "\t# initially and assign it to variable \"max\" \r\n",
        "\tmax = list1[0] \r\n",
        "\r\n",
        "\t# Now traverse through the list and compare \r\n",
        "\t# each number with \"max\" value. Whichever is \r\n",
        "\t# largest assign that value to \"max'. \r\n",
        "\tfor x in list1: \r\n",
        "\t\tif x > max : \r\n",
        "\t\t\tmax = x \r\n",
        "\t\r\n",
        "\t# after complete traversing the list \r\n",
        "\t# return the \"max\" value \r\n",
        "\treturn max\r\n",
        "\r\n",
        "\r\n",
        "# Driver code \r\n",
        "list1 = [10, 20, 4, 45, 99] \r\n",
        "print(\"Largest element is:\", myMax(list1)) \r\n"
      ],
      "execution_count": 11,
      "outputs": [
        {
          "output_type": "stream",
          "text": [
            "Largest element is: 99\n"
          ],
          "name": "stdout"
        }
      ]
    },
    {
      "cell_type": "code",
      "metadata": {
        "id": "9DMPQxJHudRH"
      },
      "source": [
        ""
      ],
      "execution_count": null,
      "outputs": []
    }
  ]
}