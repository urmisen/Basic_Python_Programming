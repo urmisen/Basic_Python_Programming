{
  "nbformat": 4,
  "nbformat_minor": 0,
  "metadata": {
    "colab": {
      "name": "add_two_numbers.ipynb",
      "provenance": []
    },
    "kernelspec": {
      "name": "python3",
      "display_name": "Python 3"
    }
  },
  "cells": [
    {
      "cell_type": "markdown",
      "metadata": {
        "id": "eSlCTBBhvHeP"
      },
      "source": [
        "### **Python program to add two numbers**"
      ]
    },
    {
      "cell_type": "code",
      "metadata": {
        "colab": {
          "base_uri": "https://localhost:8080/"
        },
        "id": "4EJVB2fFtjLX",
        "outputId": "abc75dea-c76b-46f9-9272-ca993d37c700"
      },
      "source": [
        "# Python3 program to add two numbers \r\n",
        "  \r\n",
        "num1 = 63\r\n",
        "num2 = 19\r\n",
        "  \r\n",
        "# Adding two nos \r\n",
        "sum = num1 + num2 \r\n",
        "  \r\n",
        "# printing values \r\n",
        "print(\"Sum of {0} and {1} is {2}\" .format(num1, num2, sum)) "
      ],
      "execution_count": 2,
      "outputs": [
        {
          "output_type": "stream",
          "text": [
            "Sum of 63 and 19 is 82\n"
          ],
          "name": "stdout"
        }
      ]
    },
    {
      "cell_type": "markdown",
      "metadata": {
        "id": "0W9ZY7Cfvpzk"
      },
      "source": [
        "### **Adding two number provided by user input**"
      ]
    },
    {
      "cell_type": "code",
      "metadata": {
        "colab": {
          "base_uri": "https://localhost:8080/"
        },
        "id": "mpaIuWI3vRTZ",
        "outputId": "b15f0425-6331-40c5-fccd-5f1e0cad5bc5"
      },
      "source": [
        "# Python3 program to add two numbers \r\n",
        "  \r\n",
        "number1 = input(\"First number: \") \r\n",
        "number2 = input(\"\\nSecond number: \") \r\n",
        "  \r\n",
        "# Adding two numbers \r\n",
        "# User might also enter float numbers \r\n",
        "sum = float(number1) + float(number2) \r\n",
        "  \r\n",
        "# Display the sum \r\n",
        "# will print value in float \r\n",
        "print(\"The sum of {0} and {1} is {2}\" .format(number1, number2, sum)) "
      ],
      "execution_count": 3,
      "outputs": [
        {
          "output_type": "stream",
          "text": [
            "First number: 49\n",
            "\n",
            "Second number: 34\n",
            "The sum of 49 and 34 is 83.0\n"
          ],
          "name": "stdout"
        }
      ]
    },
    {
      "cell_type": "code",
      "metadata": {
        "id": "0MmEhcchvvSQ"
      },
      "source": [
        ""
      ],
      "execution_count": null,
      "outputs": []
    }
  ]
}