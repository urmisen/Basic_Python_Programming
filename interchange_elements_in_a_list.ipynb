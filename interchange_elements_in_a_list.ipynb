{
  "nbformat": 4,
  "nbformat_minor": 0,
  "metadata": {
    "colab": {
      "name": "interchange_elements_in_a_list.ipynb",
      "provenance": [],
      "collapsed_sections": []
    },
    "kernelspec": {
      "name": "python3",
      "display_name": "Python 3"
    }
  },
  "cells": [
    {
      "cell_type": "markdown",
      "metadata": {
        "id": "eSlCTBBhvHeP"
      },
      "source": [
        "### **Python program to interchange first and last elements in a list**\r\n",
        "\r\n",
        "Approach #1: Find the length of the list and simply swap the first element with (n-1)th element."
      ]
    },
    {
      "cell_type": "code",
      "metadata": {
        "colab": {
          "base_uri": "https://localhost:8080/"
        },
        "id": "HEM_sUtkGavb",
        "outputId": "29b59587-62be-4a02-ceac-b4c074008dda"
      },
      "source": [
        "# Python3 program to swap first \r\n",
        "# and last element of a list \r\n",
        "\r\n",
        "# Swap function \r\n",
        "def swapList(newList): \r\n",
        "\tsize = len(newList) \r\n",
        "\t\r\n",
        "\t# Swapping \r\n",
        "\ttemp = newList[0] \r\n",
        "\tnewList[0] = newList[size - 1] \r\n",
        "\tnewList[size - 1] = temp \r\n",
        "\t\r\n",
        "\treturn newList \r\n",
        "\t\r\n",
        "# Driver code \r\n",
        "newList = [12, 35, 9, 56, 24] \r\n",
        "\r\n",
        "print(swapList(newList)) \r\n"
      ],
      "execution_count": 2,
      "outputs": [
        {
          "output_type": "stream",
          "text": [
            "[24, 35, 9, 56, 12]\n"
          ],
          "name": "stdout"
        }
      ]
    },
    {
      "cell_type": "markdown",
      "metadata": {
        "id": "48rIunQ8Pjvr"
      },
      "source": [
        "Approach #2: The last element of the list can be referred as list[-1]. Therefore, we can simply swap list[0] with list[-1]."
      ]
    },
    {
      "cell_type": "code",
      "metadata": {
        "colab": {
          "base_uri": "https://localhost:8080/"
        },
        "id": "3Fy5GwL4NPMx",
        "outputId": "03144a8b-237a-49e5-fd3e-ee1d8b60fa32"
      },
      "source": [
        "# Python3 program to swap first \r\n",
        "# and last element of a list \r\n",
        "\r\n",
        "# Swap function \r\n",
        "def swapList(newList): \r\n",
        "\t\r\n",
        "\tnewList[0], newList[-1] = newList[-1], newList[0] \r\n",
        "\r\n",
        "\treturn newList \r\n",
        "\t\r\n",
        "# Driver code \r\n",
        "newList = [12, 35, 9, 56, 24] \r\n",
        "print(swapList(newList)) \r\n"
      ],
      "execution_count": 3,
      "outputs": [
        {
          "output_type": "stream",
          "text": [
            "[24, 35, 9, 56, 12]\n"
          ],
          "name": "stdout"
        }
      ]
    },
    {
      "cell_type": "code",
      "metadata": {
        "id": "PcduO0AFRXei"
      },
      "source": [
        ""
      ],
      "execution_count": null,
      "outputs": []
    }
  ]
}