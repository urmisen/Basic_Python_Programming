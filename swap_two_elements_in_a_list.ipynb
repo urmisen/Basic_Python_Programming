{
  "nbformat": 4,
  "nbformat_minor": 0,
  "metadata": {
    "colab": {
      "name": "swap_two_elements_in_a_list.ipynb",
      "provenance": [],
      "collapsed_sections": []
    },
    "kernelspec": {
      "name": "python3",
      "display_name": "Python 3"
    }
  },
  "cells": [
    {
      "cell_type": "markdown",
      "metadata": {
        "id": "eSlCTBBhvHeP"
      },
      "source": [
        "### **Python program to swap two elements in a list**\r\n",
        "\r\n",
        "Approach #1: Simple swap\r\n",
        "\r\n",
        "Since the positions of the elements are known, we can simply swap the positions of the elements."
      ]
    },
    {
      "cell_type": "code",
      "metadata": {
        "colab": {
          "base_uri": "https://localhost:8080/"
        },
        "id": "HEM_sUtkGavb",
        "outputId": "f2225420-a6da-4c6d-dad4-5f8e8eb8f012"
      },
      "source": [
        "# Python3 program to swap elements \r\n",
        "# at given positions \r\n",
        "\r\n",
        "# Swap function \r\n",
        "def swapPositions(list, pos1, pos2): \r\n",
        "\t\r\n",
        "\tlist[pos1], list[pos2] = list[pos2], list[pos1] \r\n",
        "\treturn list\r\n",
        "\r\n",
        "# Driver function \r\n",
        "List = [23, 65, 19, 90] \r\n",
        "pos1, pos2 = 1, 3\r\n",
        "\r\n",
        "print(swapPositions(List, pos1-1, pos2-1)) \r\n"
      ],
      "execution_count": 4,
      "outputs": [
        {
          "output_type": "stream",
          "text": [
            "[19, 65, 23, 90]\n"
          ],
          "name": "stdout"
        }
      ]
    },
    {
      "cell_type": "markdown",
      "metadata": {
        "id": "48rIunQ8Pjvr"
      },
      "source": [
        "Approach #2 : Using Inbuilt list.pop() function\r\n",
        "\r\n",
        "Pop the element at pos1 and store it in a variable. Similarly, pop the element at pos2 and store it in another variable. Now insert the two popped element at each other’s original position."
      ]
    },
    {
      "cell_type": "code",
      "metadata": {
        "colab": {
          "base_uri": "https://localhost:8080/"
        },
        "id": "3Fy5GwL4NPMx",
        "outputId": "4d841968-c5e3-48c0-d987-671feb402ecc"
      },
      "source": [
        "# Python3 program to swap elements \r\n",
        "# at given positions \r\n",
        "\r\n",
        "# Swap function \r\n",
        "def swapPositions(list, pos1, pos2): \r\n",
        "\t\r\n",
        "\t# popping both the elements from list \r\n",
        "\tfirst_ele = list.pop(pos1) \r\n",
        "\tsecond_ele = list.pop(pos2-1) \r\n",
        "\t\r\n",
        "\t# inserting in each others positions \r\n",
        "\tlist.insert(pos1, second_ele) \r\n",
        "\tlist.insert(pos2, first_ele) \r\n",
        "\t\r\n",
        "\treturn list\r\n",
        "\r\n",
        "# Driver function \r\n",
        "List = [23, 65, 19, 90] \r\n",
        "pos1, pos2 = 1, 3\r\n",
        "\r\n",
        "print(swapPositions(List, pos1-1, pos2-1)) \r\n"
      ],
      "execution_count": 5,
      "outputs": [
        {
          "output_type": "stream",
          "text": [
            "[19, 65, 23, 90]\n"
          ],
          "name": "stdout"
        }
      ]
    },
    {
      "cell_type": "code",
      "metadata": {
        "id": "PcduO0AFRXei"
      },
      "source": [
        ""
      ],
      "execution_count": 5,
      "outputs": []
    }
  ]
}