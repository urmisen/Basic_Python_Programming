{
  "nbformat": 4,
  "nbformat_minor": 0,
  "metadata": {
    "colab": {
      "name": "Transpose_a_matrix.ipynb",
      "provenance": [],
      "collapsed_sections": []
    },
    "kernelspec": {
      "name": "python3",
      "display_name": "Python 3"
    }
  },
  "cells": [
    {
      "cell_type": "markdown",
      "metadata": {
        "id": "eSlCTBBhvHeP"
      },
      "source": [
        "### **Transpose a matrix in Single line in Python**\r\n",
        "\r\n",
        "1. Using Nested List Comprehension: \r\n",
        "\r\n",
        "Nested list comprehension are used to iterate through each element in the matrix.In the given example ,we iterate through each element of matrix (m) in column major manner and assign the result to rez matrix which is the transpose of m.\r\n",
        "\r\n",
        "\r\n",
        "\r\n",
        "\r\n"
      ]
    },
    {
      "cell_type": "code",
      "metadata": {
        "colab": {
          "base_uri": "https://localhost:8080/"
        },
        "id": "HEM_sUtkGavb",
        "outputId": "fb7189c2-cd84-400c-c3b5-af062eeaa363"
      },
      "source": [
        "m = [[1,2],[3,4],[5,6]] \r\n",
        "for row in m : \r\n",
        "\tprint(row) \r\n",
        "rez = [[m[j][i] for j in range(len(m))] for i in range(len(m[0]))] \r\n",
        "print(\"\\n\") \r\n",
        "for row in rez: \r\n",
        "\tprint(row) \r\n"
      ],
      "execution_count": 7,
      "outputs": [
        {
          "output_type": "stream",
          "text": [
            "[1, 2]\n",
            "[3, 4]\n",
            "[5, 6]\n",
            "\n",
            "\n",
            "[1, 3, 5]\n",
            "[2, 4, 6]\n"
          ],
          "name": "stdout"
        }
      ]
    },
    {
      "cell_type": "markdown",
      "metadata": {
        "id": "mut12yxoX9ty"
      },
      "source": [
        "2. Using zip:\r\n",
        "\r\n",
        " Zip returns an iterator of tuples, where the i-th tuple contains the i-th element from each of the argument sequences or iterables. In this example we unzip our array using * and then zip it to get the transpose."
      ]
    },
    {
      "cell_type": "code",
      "metadata": {
        "colab": {
          "base_uri": "https://localhost:8080/"
        },
        "id": "q8H7nZEwPJrd",
        "outputId": "0d07a315-9d7d-4d34-f0e1-47930711e153"
      },
      "source": [
        "matrix=[(1,2,3),(4,5,6),(7,8,9),(10,11,12)] \r\n",
        "for row in matrix: \r\n",
        "\tprint(row) \r\n",
        "print(\"\\n\") \r\n",
        "t_matrix = zip(*matrix) \r\n",
        "for row in t_matrix: \r\n",
        "\tprint(row) \r\n"
      ],
      "execution_count": 8,
      "outputs": [
        {
          "output_type": "stream",
          "text": [
            "(1, 2, 3)\n",
            "(4, 5, 6)\n",
            "(7, 8, 9)\n",
            "(10, 11, 12)\n",
            "\n",
            "\n",
            "(1, 4, 7, 10)\n",
            "(2, 5, 8, 11)\n",
            "(3, 6, 9, 12)\n"
          ],
          "name": "stdout"
        }
      ]
    },
    {
      "cell_type": "markdown",
      "metadata": {
        "id": "3bPLUoYDZkr3"
      },
      "source": [
        "3. Using numpy: NumPy is a general-purpose array-processing package designed to efficiently manipulate large multi-dimensional arrays. The transpose method returns a transposed view of the passed multi-dimensional matrix."
      ]
    },
    {
      "cell_type": "code",
      "metadata": {
        "colab": {
          "base_uri": "https://localhost:8080/"
        },
        "id": "zwg5zD1tYAEb",
        "outputId": "845109d5-8d59-42d3-e03f-6f88040ec08d"
      },
      "source": [
        "# You need to install numpy in order to import it \r\n",
        "# Numpy transpose returns similar result when \r\n",
        "# applied on 1D matrix \r\n",
        "import numpy \r\n",
        "matrix=[[1,2,3],[4,5,6]] \r\n",
        "print(matrix) \r\n",
        "print(\"\\n\") \r\n",
        "print(numpy.transpose(matrix)) \r\n"
      ],
      "execution_count": 9,
      "outputs": [
        {
          "output_type": "stream",
          "text": [
            "[[1, 2, 3], [4, 5, 6]]\n",
            "\n",
            "\n",
            "[[1 4]\n",
            " [2 5]\n",
            " [3 6]]\n"
          ],
          "name": "stdout"
        }
      ]
    },
    {
      "cell_type": "markdown",
      "metadata": {
        "id": "9f-Je6kmZsg5"
      },
      "source": [
        "simply using “.T” after the variable"
      ]
    },
    {
      "cell_type": "code",
      "metadata": {
        "colab": {
          "base_uri": "https://localhost:8080/"
        },
        "id": "jP6uowbtZpF8",
        "outputId": "d6185444-54da-417d-fdee-ae89752b677e"
      },
      "source": [
        "# You need to install numpy in order to import it \r\n",
        "import numpy as np \r\n",
        "matrix = np.array([[1,2,3],[4,5,6]]) \r\n",
        "print(matrix) \r\n",
        "print(\"\\n\") \r\n",
        "print(matrix.T) \r\n"
      ],
      "execution_count": 10,
      "outputs": [
        {
          "output_type": "stream",
          "text": [
            "[[1 2 3]\n",
            " [4 5 6]]\n",
            "\n",
            "\n",
            "[[1 4]\n",
            " [2 5]\n",
            " [3 6]]\n"
          ],
          "name": "stdout"
        }
      ]
    },
    {
      "cell_type": "code",
      "metadata": {
        "id": "u2B3oYDVZvtR"
      },
      "source": [
        ""
      ],
      "execution_count": null,
      "outputs": []
    }
  ]
}