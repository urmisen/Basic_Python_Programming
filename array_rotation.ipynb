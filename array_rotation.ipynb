{
  "nbformat": 4,
  "nbformat_minor": 0,
  "metadata": {
    "colab": {
      "name": "array_rotation.ipynb",
      "provenance": [],
      "collapsed_sections": []
    },
    "kernelspec": {
      "name": "python3",
      "display_name": "Python 3"
    }
  },
  "cells": [
    {
      "cell_type": "markdown",
      "metadata": {
        "id": "eSlCTBBhvHeP"
      },
      "source": [
        "### **Python Program for array rotation**\r\n",
        "\r\n",
        "Write a function rotate(ar[], d, n) that rotates arr[] of size n by d elements. \r\n",
        "\r\n",
        "(Using temp array)  \r\n",
        "\r\n",
        "\r\n",
        "\r\n",
        "Input arr[] = [1, 2, 3, 4, 5, 6, 7], d = 2, n =7\r\n",
        "1. Store d elements in a temp array\r\n",
        "   temp[] = [1, 2]\r\n",
        "2. Shift rest of the arr[]\r\n",
        "   arr[] = [3, 4, 5, 6, 7, 6, 7]\r\n",
        "3. Store back the d elements\r\n",
        "   arr[] = [3, 4, 5, 6, 7, 1, 2]"
      ]
    },
    {
      "cell_type": "code",
      "metadata": {
        "colab": {
          "base_uri": "https://localhost:8080/"
        },
        "id": "HEM_sUtkGavb",
        "outputId": "7615fa2c-a46f-466e-c3a3-dcfeca462a01"
      },
      "source": [
        "#Function to left rotate arr[] of size n by d*/\r\n",
        "def leftRotate(arr, d, n):\r\n",
        "\tfor i in range(d):\r\n",
        "\t\tleftRotatebyOne(arr, n)\r\n",
        "\r\n",
        "#Function to left Rotate arr[] of size n by 1*/ \r\n",
        "def leftRotatebyOne(arr, n):\r\n",
        "\ttemp = arr[0]\r\n",
        "\tfor i in range(n-1):\r\n",
        "\t\tarr[i] = arr[i+1]\r\n",
        "\tarr[n-1] = temp\r\n",
        "\t\t\r\n",
        "\r\n",
        "# utility function to print an array */\r\n",
        "def printArray(arr,size):\r\n",
        "\tfor i in range(size):\r\n",
        "\t\tprint (\"%d\"% arr[i],end=\" \")\r\n",
        "\r\n",
        "\r\n",
        "# Driver program to test above functions */\r\n",
        "arr = [1, 2, 3, 4, 5, 6, 7]\r\n",
        "leftRotate(arr, 2, 7)\r\n",
        "printArray(arr, 7)\r\n",
        "\r\n",
        "# This code is contributed by Shreyanshi Arun\r\n"
      ],
      "execution_count": 29,
      "outputs": [
        {
          "output_type": "stream",
          "text": [
            "3 4 5 6 7 1 2 "
          ],
          "name": "stdout"
        }
      ]
    },
    {
      "cell_type": "markdown",
      "metadata": {
        "id": "C36S64wHGOtM"
      },
      "source": [
        "Time complexity: O(n) \r\n",
        "\r\n",
        "Auxiliary Space: O(d)"
      ]
    },
    {
      "cell_type": "markdown",
      "metadata": {
        "id": "ITnU8CAUGvig"
      },
      "source": [
        "Another Approach : Using List slicing"
      ]
    },
    {
      "cell_type": "code",
      "metadata": {
        "colab": {
          "base_uri": "https://localhost:8080/"
        },
        "id": "ueubT7XiAmhn",
        "outputId": "067834cf-b042-4717-e306-e2cb5fe5f1da"
      },
      "source": [
        "# Python program using the List \r\n",
        "# slicing approch to rotate the array\r\n",
        "def rotateList(arr,d,n):\r\n",
        "  arr[:]=arr[d:n]+arr[0:d]\r\n",
        "  return arr\r\n",
        "# Driver function to test above function \r\n",
        "arr = [1, 2, 3, 4, 5, 6] \r\n",
        "print(arr) \r\n",
        "print(\"Rotated list is\") \r\n",
        "print(rotateList(arr,2,len(arr))) \r\n",
        "\r\n",
        "# this code is contributed by virusbuddah\r\n"
      ],
      "execution_count": 28,
      "outputs": [
        {
          "output_type": "stream",
          "text": [
            "[1, 2, 3, 4, 5, 6]\n",
            "Rotated list is\n",
            "[3, 4, 5, 6, 1, 2]\n"
          ],
          "name": "stdout"
        }
      ]
    },
    {
      "cell_type": "code",
      "metadata": {
        "id": "9zLAVv-LG6pU"
      },
      "source": [
        ""
      ],
      "execution_count": null,
      "outputs": []
    }
  ]
}