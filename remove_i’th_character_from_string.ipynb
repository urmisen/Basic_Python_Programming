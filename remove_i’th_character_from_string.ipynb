{
  "nbformat": 4,
  "nbformat_minor": 0,
  "metadata": {
    "colab": {
      "name": "remove_i’th_character_from_string.ipynb",
      "provenance": [],
      "collapsed_sections": []
    },
    "kernelspec": {
      "name": "python3",
      "display_name": "Python 3"
    }
  },
  "cells": [
    {
      "cell_type": "markdown",
      "metadata": {
        "id": "eSlCTBBhvHeP"
      },
      "source": [
        "### **Ways to remove i’th character from string in Python**\r\n",
        "\r\n",
        "Method 1 : Naive Method\r\n",
        "In this method, one just has to run a loop and append the characters as they come and build a new string from the existing one except when the index is i.\r\n",
        "\r\n",
        "\r\n",
        "\r\n"
      ]
    },
    {
      "cell_type": "code",
      "metadata": {
        "colab": {
          "base_uri": "https://localhost:8080/"
        },
        "id": "HEM_sUtkGavb",
        "outputId": "e45483a8-1188-4018-e7d9-7a508988f413"
      },
      "source": [
        "# Python code to demonstrate \r\n",
        "# method to remove i'th character \r\n",
        "# Naive Method \r\n",
        "\r\n",
        "# Initializing String \r\n",
        "test_str = \"GeeksForGeeks\"\r\n",
        "\r\n",
        "# Printing original string \r\n",
        "print (\"The original string is : \" + test_str) \r\n",
        "\r\n",
        "# Removing char at pos 3 \r\n",
        "# using loop \r\n",
        "new_str = \"\" \r\n",
        "\r\n",
        "for i in range(len(test_str)): \r\n",
        "\tif i != 2: \r\n",
        "\t\tnew_str = new_str + test_str[i] \r\n",
        "\r\n",
        "# Printing string after removal \r\n",
        "print (\"The string after removal of i'th character : \" + new_str) \r\n"
      ],
      "execution_count": 16,
      "outputs": [
        {
          "output_type": "stream",
          "text": [
            "The original string is : GeeksForGeeks\n",
            "The string after removal of i'th character : GeksForGeeks\n"
          ],
          "name": "stdout"
        }
      ]
    },
    {
      "cell_type": "markdown",
      "metadata": {
        "id": "LliOai1C_pJV"
      },
      "source": [
        "Method 2 : Using str.replace()\r\n",
        "\r\n",
        "replace() can possibly be used for performing the task of removal as we can replace the particular index with empty char, and hence solve the issue."
      ]
    },
    {
      "cell_type": "code",
      "metadata": {
        "id": "u2B3oYDVZvtR",
        "colab": {
          "base_uri": "https://localhost:8080/"
        },
        "outputId": "aabb8cf5-3561-431a-fe61-eac679d7d36f"
      },
      "source": [
        "# Python code to demonstrate \r\n",
        "# method to remove i'th character \r\n",
        "# using replace() \r\n",
        "\r\n",
        "# Initializing String \r\n",
        "test_str = \"GeeksForGeeks\"\r\n",
        "\r\n",
        "# Printing original string \r\n",
        "print (\"The original string is : \" + test_str) \r\n",
        "\r\n",
        "# Removing char at pos 3 \r\n",
        "# using replace \r\n",
        "new_str = test_str.replace('e', '') \r\n",
        "\r\n",
        "# Printing string after removal \r\n",
        "# removes all occurrences of 'e' \r\n",
        "print (\"The string after removal of i'th character( doesn't work) : \" + new_str) \r\n",
        "\r\n",
        "# Removing 1st occurrence of s, i.e 5th pos. \r\n",
        "# if we wish to remove it. \r\n",
        "new_str = test_str.replace('s', '', 1) \r\n",
        "\r\n",
        "# Printing string after removal \r\n",
        "# removes first occurrences of s \r\n",
        "print (\"The string after removal of i'th character(works) : \" + new_str) \r\n"
      ],
      "execution_count": 17,
      "outputs": [
        {
          "output_type": "stream",
          "text": [
            "The original string is : GeeksForGeeks\n",
            "The string after removal of i'th character( doesn't work) : GksForGks\n",
            "The string after removal of i'th character(works) : GeekForGeeks\n"
          ],
          "name": "stdout"
        }
      ]
    },
    {
      "cell_type": "markdown",
      "metadata": {
        "id": "hICnpThfABkE"
      },
      "source": [
        "Method 3 : Using slice + concatenation\r\n",
        "\r\n",
        "Once can use string slice and slice the string before the pos i, and slice after the pos i. Then using string concatenation of both, i’th character can appear to be deleted from the string."
      ]
    },
    {
      "cell_type": "code",
      "metadata": {
        "colab": {
          "base_uri": "https://localhost:8080/"
        },
        "id": "JjO8Xedk_zIs",
        "outputId": "1b6d74c4-6dcb-4acb-8325-56c5a93643ad"
      },
      "source": [
        "# Python code to demonstrate \r\n",
        "# method to remove i'th character \r\n",
        "# using slice + concatenation \r\n",
        "\r\n",
        "# Initializing String \r\n",
        "test_str = \"GeeksForGeeks\"\r\n",
        "\r\n",
        "# Printing original string \r\n",
        "print (\"The original string is : \" + test_str) \r\n",
        "\r\n",
        "# Removing char at pos 3 \r\n",
        "# using slice + concatenation \r\n",
        "new_str = test_str[:2] + test_str[3:] \r\n",
        "\r\n",
        "# Printing string after removal \r\n",
        "# removes ele. at 3rd index \r\n",
        "print (\"The string after removal of i'th character : \" + new_str) \r\n"
      ],
      "execution_count": 18,
      "outputs": [
        {
          "output_type": "stream",
          "text": [
            "The original string is : GeeksForGeeks\n",
            "The string after removal of i'th character : GeksForGeeks\n"
          ],
          "name": "stdout"
        }
      ]
    },
    {
      "cell_type": "markdown",
      "metadata": {
        "id": "yNarKKOWANdU"
      },
      "source": [
        "Method 4 : Using str.join() and list comprehension\r\n",
        "\r\n",
        "In this method, each element of string is first converted as each element of list, and then each of them is joined to form a string except the specified index."
      ]
    },
    {
      "cell_type": "code",
      "metadata": {
        "colab": {
          "base_uri": "https://localhost:8080/"
        },
        "id": "2q-eKFhgAM6-",
        "outputId": "a8f175fb-1586-45cc-ec91-24f5ed83d54a"
      },
      "source": [
        "# Python code to demonstrate \r\n",
        "# method to remove i'th character \r\n",
        "# using join() + list comprehension \r\n",
        "\r\n",
        "# Initializing String \r\n",
        "test_str = \"GeeksForGeeks\"\r\n",
        "\r\n",
        "# Printing original string \r\n",
        "print (\"The original string is : \" + test_str) \r\n",
        "\r\n",
        "# Removing char at pos 3 \r\n",
        "# using join() + list comprehension \r\n",
        "new_str = ''.join([test_str[i] for i in range(len(test_str)) if i != 2]) \r\n",
        "\r\n",
        "# Printing string after removal \r\n",
        "# removes ele. at 3rd index \r\n",
        "print (\"The string after removal of i'th character : \" + new_str) \r\n"
      ],
      "execution_count": 19,
      "outputs": [
        {
          "output_type": "stream",
          "text": [
            "The original string is : GeeksForGeeks\n",
            "The string after removal of i'th character : GeksForGeeks\n"
          ],
          "name": "stdout"
        }
      ]
    },
    {
      "cell_type": "code",
      "metadata": {
        "id": "RBnRW9wbAJkU"
      },
      "source": [
        ""
      ],
      "execution_count": null,
      "outputs": []
    }
  ]
}