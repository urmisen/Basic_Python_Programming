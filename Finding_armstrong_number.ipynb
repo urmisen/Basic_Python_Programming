{
  "nbformat": 4,
  "nbformat_minor": 0,
  "metadata": {
    "colab": {
      "name": "Finding_armstrong_number.ipynb",
      "provenance": [],
      "collapsed_sections": []
    },
    "kernelspec": {
      "name": "python3",
      "display_name": "Python 3"
    }
  },
  "cells": [
    {
      "cell_type": "markdown",
      "metadata": {
        "id": "eSlCTBBhvHeP"
      },
      "source": [
        "### **Python Program to check Armstrong Number**\r\n",
        "\r\n",
        "A positive integer of n digits is called an Armstrong number of order n (order is number of digits) if.\r\n",
        "\r\n",
        "abcd... = pow(a,n) + pow(b,n) + pow(c,n) + pow(d,n) + .... \r\n",
        "\r\n",
        "such as,\r\n",
        "\r\n",
        "153 is an Armstrong number. As\r\n",
        "1*1*1 + 5*5*5 + 3*3*3 = 153\r\n",
        "\r\n",
        "120 is not a Armstrong number. As\r\n",
        "1*1*1 + 2*2*2 + 0*0*0 = 9\r\n"
      ]
    },
    {
      "cell_type": "code",
      "metadata": {
        "colab": {
          "base_uri": "https://localhost:8080/"
        },
        "id": "4EJVB2fFtjLX",
        "outputId": "90bb458e-d32e-4835-faa1-f623e654c3a5"
      },
      "source": [
        "# Python program to determine whether \r\n",
        "# the number is Armstrong number or not \r\n",
        "\r\n",
        "# Function to calculate x raised to \r\n",
        "# the power y \r\n",
        "def power(x, y): \r\n",
        "\t\r\n",
        "\tif y == 0: \r\n",
        "\t\treturn 1\r\n",
        "\tif y % 2 == 0: \r\n",
        "\t\treturn power(x, y // 2) * power(x, y // 2) \r\n",
        "\t\t\r\n",
        "\treturn x * power(x, y // 2) * power(x, y // 2) \r\n",
        "\r\n",
        "# Function to calculate order of the number \r\n",
        "def order(x): \r\n",
        "\r\n",
        "\t# Variable to store of the number \r\n",
        "\tn = 0\r\n",
        "\twhile (x != 0): \r\n",
        "\t\tn = n + 1\r\n",
        "\t\tx = x // 10\r\n",
        "\t\t\r\n",
        "\treturn n \r\n",
        "\r\n",
        "# Function to check whether the given \r\n",
        "# number is Armstrong number or not \r\n",
        "def isArmstrong(x): \r\n",
        "\t\r\n",
        "\tn = order(x) \r\n",
        "\ttemp = x \r\n",
        "\tsum1 = 0\r\n",
        "\t\r\n",
        "\twhile (temp != 0): \r\n",
        "\t\tr = temp % 10\r\n",
        "\t\tsum1 = sum1 + power(r, n) \r\n",
        "\t\ttemp = temp // 10\r\n",
        "\r\n",
        "\t# If condition satisfies \r\n",
        "\treturn (sum1 == x) \r\n",
        "\r\n",
        "# Driver code \r\n",
        "x = 153\r\n",
        "print(isArmstrong(x)) \r\n",
        "\r\n",
        "x = 1253\r\n",
        "print(isArmstrong(x)) \r\n"
      ],
      "execution_count": 13,
      "outputs": [
        {
          "output_type": "stream",
          "text": [
            "True\n",
            "False\n"
          ],
          "name": "stdout"
        }
      ]
    },
    {
      "cell_type": "code",
      "metadata": {
        "id": "gfZmKzPAx-3x"
      },
      "source": [
        ""
      ],
      "execution_count": null,
      "outputs": []
    }
  ]
}