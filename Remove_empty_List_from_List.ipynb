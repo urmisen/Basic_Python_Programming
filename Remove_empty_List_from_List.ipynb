{
  "nbformat": 4,
  "nbformat_minor": 0,
  "metadata": {
    "colab": {
      "name": "Remove_empty_List_from_List.ipynb",
      "provenance": [],
      "collapsed_sections": []
    },
    "kernelspec": {
      "name": "python3",
      "display_name": "Python 3"
    }
  },
  "cells": [
    {
      "cell_type": "markdown",
      "metadata": {
        "id": "eSlCTBBhvHeP"
      },
      "source": [
        "### **Python – Remove empty List from List**\r\n",
        "Method #1 : Using list comprehension\r\n",
        "This is one of the way in which this problem can be solved. In this, we iterate through the list and don’t include the list which is empty.\r\n",
        "\r\n",
        "\r\n",
        "\r\n",
        "\r\n"
      ]
    },
    {
      "cell_type": "code",
      "metadata": {
        "colab": {
          "base_uri": "https://localhost:8080/"
        },
        "id": "HEM_sUtkGavb",
        "outputId": "f57eb2f0-3a1e-490e-f81f-cf92193de255"
      },
      "source": [
        "# Python3 code to demonstrate \r\n",
        "# Remove empty List from List \r\n",
        "# using list comprehension \r\n",
        "\r\n",
        "# Initializing list \r\n",
        "test_list = [5, 6, [], 3, [], [], 9] \r\n",
        "\r\n",
        "# printing original list \r\n",
        "print(\"The original list is : \" + str(test_list)) \r\n",
        "\r\n",
        "# Remove empty List from List \r\n",
        "# using list comprehension \r\n",
        "res = [ele for ele in test_list if ele != []] \r\n",
        "\r\n",
        "# printing result \r\n",
        "print (\"List after empty list removal : \" + str(res)) \r\n"
      ],
      "execution_count": 19,
      "outputs": [
        {
          "output_type": "stream",
          "text": [
            "The original list is : [5, 6, [], 3, [], [], 9]\n",
            "List after empty list removal : [5, 6, 3, 9]\n"
          ],
          "name": "stdout"
        }
      ]
    },
    {
      "cell_type": "markdown",
      "metadata": {
        "id": "vKouqmIUnsD_"
      },
      "source": [
        "Method #2 : Using filter()\r\n",
        "This is yet another way in which this task can be performed. In this we filter None values. The none values include empty lists as well and hence these get removed."
      ]
    },
    {
      "cell_type": "code",
      "metadata": {
        "colab": {
          "base_uri": "https://localhost:8080/"
        },
        "id": "2tN6UgHEiRtd",
        "outputId": "5c88fead-87dd-468d-e170-ff706ed5ff91"
      },
      "source": [
        "# Python3 code to demonstrate \r\n",
        "# Remove empty List from List \r\n",
        "# using filter() \r\n",
        "\r\n",
        "# Initializing list \r\n",
        "test_list = [5, 6, [], 3, [], [], 9] \r\n",
        "\r\n",
        "# printing original list \r\n",
        "print(\"The original list is : \" + str(test_list)) \r\n",
        "\r\n",
        "# Remove empty List from List \r\n",
        "# using filter \r\n",
        "res = list(filter(None, test_list)) \r\n",
        "\r\n",
        "# printing result \r\n",
        "print (\"List after empty list removal : \" + str(res)) \r\n"
      ],
      "execution_count": 20,
      "outputs": [
        {
          "output_type": "stream",
          "text": [
            "The original list is : [5, 6, [], 3, [], [], 9]\n",
            "List after empty list removal : [5, 6, 3, 9]\n"
          ],
          "name": "stdout"
        }
      ]
    },
    {
      "cell_type": "code",
      "metadata": {
        "id": "ZAGM-tST0F-b"
      },
      "source": [
        ""
      ],
      "execution_count": null,
      "outputs": []
    }
  ]
}