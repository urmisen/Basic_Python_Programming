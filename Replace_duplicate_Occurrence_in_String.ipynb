{
  "nbformat": 4,
  "nbformat_minor": 0,
  "metadata": {
    "colab": {
      "name": " Replace_duplicate_Occurrence_in_String.ipynb",
      "provenance": [],
      "collapsed_sections": []
    },
    "kernelspec": {
      "name": "python3",
      "display_name": "Python 3"
    }
  },
  "cells": [
    {
      "cell_type": "markdown",
      "metadata": {
        "id": "eSlCTBBhvHeP"
      },
      "source": [
        "### **Python – Replace duplicate Occurrence in String**\r\n",
        "\r\n",
        "Method #1 : Using split() + enumerate() + loop\r\n",
        "The combination of above functions can be used to perform this task. In this, we separate the words using split. In this, we memoize the first occurrence in set and check if the value is saved before and then is replaced is already occurred."
      ]
    },
    {
      "cell_type": "code",
      "metadata": {
        "colab": {
          "base_uri": "https://localhost:8080/"
        },
        "id": "HEM_sUtkGavb",
        "outputId": "2fb3418b-bb2e-4aad-f31e-fd96c677d3cc"
      },
      "source": [
        "# Python3 code to demonstrate working of \r\n",
        "# Replace duplicate Occurrence in String \r\n",
        "# Using split() + enumerate() + loop \r\n",
        "\r\n",
        "# initializing string \r\n",
        "test_str = 'Gfg is best . Gfg also has Classes now. Classes help understand better . ' \r\n",
        "global str\r\n",
        "# printing original string \r\n",
        "print(\"The original string is : \" + (test_str)) \r\n",
        "\r\n",
        "# initializing replace mapping \r\n",
        "repl_dict = {'Gfg' : 'It', 'Classes' : 'They' } \r\n",
        "\r\n",
        "# Replace duplicate Occurrence in String \r\n",
        "# Using split() + enumerate() + loop \r\n",
        "test_list = test_str.split(' ') \r\n",
        "res = set() \r\n",
        "for idx, ele in enumerate(test_list): \r\n",
        "\tif ele in repl_dict: \r\n",
        "\t\tif ele in res: \r\n",
        "\t\t\ttest_list[idx] = repl_dict[ele] \r\n",
        "\t\telse: \r\n",
        "\t\t\tres.add(ele) \r\n",
        "res = ' '.join(test_list) \r\n",
        "\r\n",
        "# printing result \r\n",
        "print(\"The string after replacing : \" + (res)) \r\n"
      ],
      "execution_count": 1,
      "outputs": [
        {
          "output_type": "stream",
          "text": [
            "The original string is : Gfg is best . Gfg also has Classes now. Classes help understand better . \n",
            "The string after replacing : Gfg is best . It also has Classes now. They help understand better . \n"
          ],
          "name": "stdout"
        }
      ]
    },
    {
      "cell_type": "markdown",
      "metadata": {
        "id": "Mm7n0tJzcIPa"
      },
      "source": [
        "Method #2 : Using keys() + index() + list comprehension\r\n",
        "This is yet another way in which this task can be performed. In this, we don’t require memoization. This is one liner approach to solve this problem."
      ]
    },
    {
      "cell_type": "code",
      "metadata": {
        "colab": {
          "base_uri": "https://localhost:8080/"
        },
        "id": "dC5x6QuHMf1s",
        "outputId": "fabd1ce2-d01d-4a47-f082-3ca39d70ae28"
      },
      "source": [
        "# Python3 code to demonstrate working of \r\n",
        "# Replace duplicate Occurrence in String \r\n",
        "# Using keys() + index() + list comprehension \r\n",
        "\r\n",
        "# initializing string \r\n",
        "test_str = 'Gfg is best . Gfg also has Classes now. Classes help understand better . '\r\n",
        "\r\n",
        "# printing original string \r\n",
        "print(\"The original string is : \" + (test_str)) \r\n",
        "\r\n",
        "# initializing replace mapping \r\n",
        "repl_dict = {'Gfg' : 'It', 'Classes' : 'They' } \r\n",
        "\r\n",
        "# Replace duplicate Occurrence in String \r\n",
        "# Using keys() + index() + list comprehension \r\n",
        "test_list = test_str.split(' ') \r\n",
        "res = ' '.join([repl_dict.get(val) if val in repl_dict.keys() and test_list.index(val) != idx \r\n",
        "\t\t\t\t\t\t\t\telse val for idx, val in enumerate(test_list)]) \r\n",
        "\r\n",
        "# printing result \r\n",
        "print(\"The string after replacing : \" + (res)) \r\n"
      ],
      "execution_count": 2,
      "outputs": [
        {
          "output_type": "stream",
          "text": [
            "The original string is : Gfg is best . Gfg also has Classes now. Classes help understand better . \n",
            "The string after replacing : Gfg is best . It also has Classes now. They help understand better . \n"
          ],
          "name": "stdout"
        }
      ]
    },
    {
      "cell_type": "code",
      "metadata": {
        "id": "QOpiOSJLc2JW"
      },
      "source": [
        ""
      ],
      "execution_count": 2,
      "outputs": []
    }
  ]
}