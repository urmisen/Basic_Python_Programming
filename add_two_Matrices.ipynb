{
  "nbformat": 4,
  "nbformat_minor": 0,
  "metadata": {
    "colab": {
      "name": "add_two_Matrices.ipynb",
      "provenance": [],
      "collapsed_sections": []
    },
    "kernelspec": {
      "name": "python3",
      "display_name": "Python 3"
    }
  },
  "cells": [
    {
      "cell_type": "markdown",
      "metadata": {
        "id": "eSlCTBBhvHeP"
      },
      "source": [
        "### **Python program to add two Matrices**\r\n",
        "\r\n",
        "Method 1: Using for loop: \r\n",
        "\r\n",
        "\r\n",
        "\r\n",
        "\r\n"
      ]
    },
    {
      "cell_type": "code",
      "metadata": {
        "colab": {
          "base_uri": "https://localhost:8080/"
        },
        "id": "HEM_sUtkGavb",
        "outputId": "68c944cc-3a8a-4497-ef67-4f327c7cbbb7"
      },
      "source": [
        "# Program to add two matrices using nested loop\r\n",
        "\r\n",
        "X = [[1,2,3],\r\n",
        "\t[4 ,5,6],\r\n",
        "\t[7 ,8,9]]\r\n",
        "\r\n",
        "Y = [[9,8,7],\r\n",
        "\t[6,5,4],\r\n",
        "\t[3,2,1]]\r\n",
        "\r\n",
        "\r\n",
        "result = [[0,0,0],\r\n",
        "\t\t[0,0,0],\r\n",
        "\t\t[0,0,0]]\r\n",
        "\r\n",
        "# iterate through rows\r\n",
        "for i in range(len(X)): \r\n",
        "# iterate through columns\r\n",
        "\tfor j in range(len(X[0])):\r\n",
        "\t\tresult[i][j] = X[i][j] + Y[i][j]\r\n",
        "\r\n",
        "for r in result:\r\n",
        "\tprint(r)\r\n"
      ],
      "execution_count": 1,
      "outputs": [
        {
          "output_type": "stream",
          "text": [
            "[10, 10, 10]\n",
            "[10, 10, 10]\n",
            "[10, 10, 10]\n"
          ],
          "name": "stdout"
        }
      ]
    },
    {
      "cell_type": "markdown",
      "metadata": {
        "id": "P8BRfRnv72TC"
      },
      "source": [
        "Time Complexity: O(len(X) * len(X[0]))\r\n",
        "\r\n",
        "Auxiliary Space: O(len(X) * len(X[0]))"
      ]
    },
    {
      "cell_type": "code",
      "metadata": {
        "id": "-1JTYzi077Vb"
      },
      "source": [
        ""
      ],
      "execution_count": null,
      "outputs": []
    }
  ]
}