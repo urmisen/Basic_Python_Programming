{
  "nbformat": 4,
  "nbformat_minor": 0,
  "metadata": {
    "colab": {
      "name": "Maximum_of_three_numbers.ipynb",
      "provenance": []
    },
    "kernelspec": {
      "name": "python3",
      "display_name": "Python 3"
    }
  },
  "cells": [
    {
      "cell_type": "markdown",
      "metadata": {
        "id": "eSlCTBBhvHeP"
      },
      "source": [
        "### **Python program maximum of three**\r\n",
        "\r\n",
        "Method #1: (Simple)"
      ]
    },
    {
      "cell_type": "code",
      "metadata": {
        "colab": {
          "base_uri": "https://localhost:8080/"
        },
        "id": "4EJVB2fFtjLX",
        "outputId": "8585ef35-e3fb-4031-f3a3-594abbd31607"
      },
      "source": [
        "# Python program to find the largest \r\n",
        "# number among the three numbers \r\n",
        "\r\n",
        "def maximum(a, b, c): \r\n",
        "\r\n",
        "\tif (a >= b) and (a >= c): \r\n",
        "\t\tlargest = a \r\n",
        "\r\n",
        "\telif (b >= a) and (b >= c): \r\n",
        "\t\tlargest = b \r\n",
        "\telse: \r\n",
        "\t\tlargest = c \r\n",
        "\t\t\r\n",
        "\treturn largest \r\n",
        "\r\n",
        "\r\n",
        "# Driven code \r\n",
        "a = 10\r\n",
        "b = 14\r\n",
        "c = 12\r\n",
        "print(maximum(a, b, c)) \r\n"
      ],
      "execution_count": 7,
      "outputs": [
        {
          "output_type": "stream",
          "text": [
            "14\n"
          ],
          "name": "stdout"
        }
      ]
    },
    {
      "cell_type": "markdown",
      "metadata": {
        "id": "0W9ZY7Cfvpzk"
      },
      "source": [
        "Method #2: (Using List)\r\n",
        "* Initialize three number by num1, num2 and num3\r\n",
        "* Add three numbers into list lst = [num1, num2, num3].\r\n",
        "* Using max() function to find the greatest number max(lst).\r\n",
        "* And finally we will print maximum number"
      ]
    },
    {
      "cell_type": "code",
      "metadata": {
        "colab": {
          "base_uri": "https://localhost:8080/"
        },
        "id": "mpaIuWI3vRTZ",
        "outputId": "ad964905-a9a0-4826-a51e-d3941b8d154c"
      },
      "source": [
        "# Python program to find the largest number \r\n",
        "# among the three numbers using library function \r\n",
        "\r\n",
        "def maximum(a, b, c): \r\n",
        "\tlist = [a, b, c] \r\n",
        "\treturn max(list) \r\n",
        "\r\n",
        "# Driven code \r\n",
        "a = 10\r\n",
        "b = 14\r\n",
        "c = 12\r\n",
        "print(maximum(a, b, c)) \r\n"
      ],
      "execution_count": 8,
      "outputs": [
        {
          "output_type": "stream",
          "text": [
            "14\n"
          ],
          "name": "stdout"
        }
      ]
    },
    {
      "cell_type": "markdown",
      "metadata": {
        "id": "va9nCVgZx80T"
      },
      "source": [
        "Method 3 (Using max function)"
      ]
    },
    {
      "cell_type": "code",
      "metadata": {
        "colab": {
          "base_uri": "https://localhost:8080/"
        },
        "id": "0MmEhcchvvSQ",
        "outputId": "4be92571-e5bb-4cba-aa02-5f1746e6c47f"
      },
      "source": [
        "# Python program to find the largest number \r\n",
        "# among the three numbers using library function \r\n",
        "\r\n",
        "# Driven code \r\n",
        "a = 10\r\n",
        "b = 14\r\n",
        "c = 12\r\n",
        "print(max(a, b, c)) \r\n"
      ],
      "execution_count": 9,
      "outputs": [
        {
          "output_type": "stream",
          "text": [
            "14\n"
          ],
          "name": "stdout"
        }
      ]
    },
    {
      "cell_type": "code",
      "metadata": {
        "id": "gfZmKzPAx-3x"
      },
      "source": [
        ""
      ],
      "execution_count": null,
      "outputs": []
    }
  ]
}