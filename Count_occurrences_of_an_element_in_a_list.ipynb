{
  "nbformat": 4,
  "nbformat_minor": 0,
  "metadata": {
    "colab": {
      "name": "Count_occurrences_of_an_element_in_a_list.ipynb",
      "provenance": [],
      "collapsed_sections": []
    },
    "kernelspec": {
      "name": "python3",
      "display_name": "Python 3"
    }
  },
  "cells": [
    {
      "cell_type": "markdown",
      "metadata": {
        "id": "eSlCTBBhvHeP"
      },
      "source": [
        "### **Python | Count occurrences of an element in a list**\r\n",
        "Method 1 (Simple approach)\r\n",
        "We keep a counter that keeps on increasing if the esquired element is found in the list.\r\n",
        "\r\n",
        "\r\n",
        "\r\n",
        "\r\n"
      ]
    },
    {
      "cell_type": "code",
      "metadata": {
        "colab": {
          "base_uri": "https://localhost:8080/"
        },
        "id": "HEM_sUtkGavb",
        "outputId": "55877c5d-8db0-46ee-ffcf-7bceab00c4b9"
      },
      "source": [
        "# Python code to count the number of occurrences \r\n",
        "def countX(lst, x): \r\n",
        "\tcount = 0\r\n",
        "\tfor ele in lst: \r\n",
        "\t\tif (ele == x): \r\n",
        "\t\t\tcount = count + 1\r\n",
        "\treturn count \r\n",
        "\r\n",
        "# Driver Code \r\n",
        "lst = [8, 6, 8, 10, 8, 20, 10, 8, 8] \r\n",
        "x = 8\r\n",
        "print('{} has occurred {} times'.format(x, countX(lst, x))) \r\n"
      ],
      "execution_count": 27,
      "outputs": [
        {
          "output_type": "stream",
          "text": [
            "8 has occurred 5 times\n"
          ],
          "name": "stdout"
        }
      ]
    },
    {
      "cell_type": "markdown",
      "metadata": {
        "id": "vKouqmIUnsD_"
      },
      "source": [
        "Method 2 (Using count())\r\n",
        "The idea is to use list method count() to count number of occurrences."
      ]
    },
    {
      "cell_type": "code",
      "metadata": {
        "colab": {
          "base_uri": "https://localhost:8080/"
        },
        "id": "2tN6UgHEiRtd",
        "outputId": "8950ddc3-ab0d-43e7-8082-e08682342c34"
      },
      "source": [
        "# Python code to count the number of occurrences \r\n",
        "def countX(lst, x): \r\n",
        "\treturn lst.count(x) \r\n",
        "\r\n",
        "# Driver Code \r\n",
        "lst = [8, 6, 8, 10, 8, 20, 10, 8, 8] \r\n",
        "x = 8\r\n",
        "print('{} has occurred {} times'.format(x, countX(lst, x))) \r\n"
      ],
      "execution_count": 28,
      "outputs": [
        {
          "output_type": "stream",
          "text": [
            "8 has occurred 5 times\n"
          ],
          "name": "stdout"
        }
      ]
    },
    {
      "cell_type": "markdown",
      "metadata": {
        "id": "fZ_tjJRU3kpe"
      },
      "source": [
        "Method 2 (Using Counter())\r\n",
        "\r\n",
        "Counter method returns a dictionary with occurrences of all elements as a key-value pair, where key is the element and value is the number of times that element has occurred."
      ]
    },
    {
      "cell_type": "code",
      "metadata": {
        "colab": {
          "base_uri": "https://localhost:8080/"
        },
        "id": "ZAGM-tST0F-b",
        "outputId": "50485187-41c4-4063-9263-0debc053c57a"
      },
      "source": [
        "from collections import Counter \r\n",
        "\r\n",
        "# declaring the list \r\n",
        "l = [1, 1, 2, 2, 3, 3, 4, 4, 5, 5] \r\n",
        "\r\n",
        "# driver program \r\n",
        "x = 3\r\n",
        "d = Counter(l) \r\n",
        "print('{} has occurred {} times'.format(x, d[x])) \r\n"
      ],
      "execution_count": 29,
      "outputs": [
        {
          "output_type": "stream",
          "text": [
            "3 has occurred 2 times\n"
          ],
          "name": "stdout"
        }
      ]
    },
    {
      "cell_type": "code",
      "metadata": {
        "id": "K2tV089v4CrT"
      },
      "source": [
        ""
      ],
      "execution_count": null,
      "outputs": []
    }
  ]
}