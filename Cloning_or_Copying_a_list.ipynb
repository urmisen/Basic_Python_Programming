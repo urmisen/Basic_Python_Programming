{
  "nbformat": 4,
  "nbformat_minor": 0,
  "metadata": {
    "colab": {
      "name": "Cloning_or_Copying_a_list.ipynb",
      "provenance": [],
      "collapsed_sections": []
    },
    "kernelspec": {
      "name": "python3",
      "display_name": "Python 3"
    }
  },
  "cells": [
    {
      "cell_type": "markdown",
      "metadata": {
        "id": "eSlCTBBhvHeP"
      },
      "source": [
        "### **Python | Cloning or Copying a list**\r\n",
        "Method #1 : Using slicing technique\r\n",
        "\r\n",
        "\r\n",
        "\r\n",
        "\r\n"
      ]
    },
    {
      "cell_type": "code",
      "metadata": {
        "colab": {
          "base_uri": "https://localhost:8080/"
        },
        "id": "HEM_sUtkGavb",
        "outputId": "ce105b04-faa8-4b8e-ad81-280444dcc09b"
      },
      "source": [
        "# Python program to copy or clone a list \r\n",
        "# Using the Slice Operator \r\n",
        "def Cloning(li1): \r\n",
        "\tli_copy = li1[:] \r\n",
        "\treturn li_copy \r\n",
        "\r\n",
        "# Driver Code \r\n",
        "li1 = [4, 8, 2, 10, 15, 18] \r\n",
        "li2 = Cloning(li1) \r\n",
        "print(\"Original List:\", li1) \r\n",
        "print(\"After Cloning:\", li2) \r\n"
      ],
      "execution_count": 21,
      "outputs": [
        {
          "output_type": "stream",
          "text": [
            "Original List: [4, 8, 2, 10, 15, 18]\n",
            "After Cloning: [4, 8, 2, 10, 15, 18]\n"
          ],
          "name": "stdout"
        }
      ]
    },
    {
      "cell_type": "markdown",
      "metadata": {
        "id": "vKouqmIUnsD_"
      },
      "source": [
        "Method #2 : Using the extend() method\r\n",
        "The lists can be copied into a new list by using the extend() function. This appends each element of the iterable object (e.g., anothre list) to the end of the new list. "
      ]
    },
    {
      "cell_type": "code",
      "metadata": {
        "colab": {
          "base_uri": "https://localhost:8080/"
        },
        "id": "2tN6UgHEiRtd",
        "outputId": "802e8fef-8cef-4ed1-d0d8-f2a15a76ffbe"
      },
      "source": [
        "# Python code to clone or copy a list \r\n",
        "# Using the in-built function extend() \r\n",
        "def Cloning(li1): \r\n",
        "\tli_copy = [] \r\n",
        "\tli_copy.extend(li1) \r\n",
        "\treturn li_copy \r\n",
        "\r\n",
        "# Driver Code \r\n",
        "li1 = [4, 8, 2, 10, 15, 18] \r\n",
        "li2 = Cloning(li1) \r\n",
        "print(\"Original List:\", li1) \r\n",
        "print(\"After Cloning:\", li2) \r\n"
      ],
      "execution_count": 22,
      "outputs": [
        {
          "output_type": "stream",
          "text": [
            "Original List: [4, 8, 2, 10, 15, 18]\n",
            "After Cloning: [4, 8, 2, 10, 15, 18]\n"
          ],
          "name": "stdout"
        }
      ]
    },
    {
      "cell_type": "markdown",
      "metadata": {
        "id": "fZ_tjJRU3kpe"
      },
      "source": [
        "Using the list() method\r\n",
        "This is the simplest method of cloning a list by using the builtin function list(). "
      ]
    },
    {
      "cell_type": "code",
      "metadata": {
        "colab": {
          "base_uri": "https://localhost:8080/"
        },
        "id": "ZAGM-tST0F-b",
        "outputId": "3f7c14f1-b95f-411e-af54-d23843e1c80c"
      },
      "source": [
        "# Python code to clone or copy a list \r\n",
        "# Using the in-built function list() \r\n",
        "def Cloning(li1): \r\n",
        "\tli_copy = list(li1) \r\n",
        "\treturn li_copy \r\n",
        "\r\n",
        "# Driver Code \r\n",
        "li1 = [4, 8, 2, 10, 15, 18] \r\n",
        "li2 = Cloning(li1) \r\n",
        "print(\"Original List:\", li1) \r\n",
        "print(\"After Cloning:\", li2) \r\n"
      ],
      "execution_count": 23,
      "outputs": [
        {
          "output_type": "stream",
          "text": [
            "Original List: [4, 8, 2, 10, 15, 18]\n",
            "After Cloning: [4, 8, 2, 10, 15, 18]\n"
          ],
          "name": "stdout"
        }
      ]
    },
    {
      "cell_type": "markdown",
      "metadata": {
        "id": "f9LkSuM13umX"
      },
      "source": [
        "Using list comprehension\r\n",
        "The method of list comprehension can be used to copy all the elements individually from one list to another. "
      ]
    },
    {
      "cell_type": "code",
      "metadata": {
        "colab": {
          "base_uri": "https://localhost:8080/"
        },
        "id": "VeYw-e2k3ouH",
        "outputId": "a014eb6b-e3db-4ce2-9fb3-03ad46f1747f"
      },
      "source": [
        "# Python code to clone or copy a list \r\n",
        "# Using list comprehension \r\n",
        "def Cloning(li1): \r\n",
        "\tli_copy = [i for i in li1] \r\n",
        "\treturn li_copy \r\n",
        "\r\n",
        "# Driver Code \r\n",
        "li1 = [4, 8, 2, 10, 15, 18] \r\n",
        "li2 = Cloning(li1) \r\n",
        "print(\"Original List:\", li1) \r\n",
        "print(\"After Cloning:\", li2) \r\n"
      ],
      "execution_count": 24,
      "outputs": [
        {
          "output_type": "stream",
          "text": [
            "Original List: [4, 8, 2, 10, 15, 18]\n",
            "After Cloning: [4, 8, 2, 10, 15, 18]\n"
          ],
          "name": "stdout"
        }
      ]
    },
    {
      "cell_type": "markdown",
      "metadata": {
        "id": "i_vlzdl4329c"
      },
      "source": [
        "Using the append() method\r\n",
        "This can be used for appending and adding elements to list or copying them to a new list. It is used to add elements to the last position of list."
      ]
    },
    {
      "cell_type": "code",
      "metadata": {
        "colab": {
          "base_uri": "https://localhost:8080/"
        },
        "id": "ODFGGpHl3yXB",
        "outputId": "c6a1bb48-dfe5-4ae8-beca-04a8d50f3448"
      },
      "source": [
        "# Python code to clone or copy a list \r\n",
        "# Using append() \r\n",
        "def Cloning(li1): \r\n",
        "\tli_copy =[] \r\n",
        "\tfor item in li1: li_copy.append(item) \r\n",
        "\treturn li_copy \r\n",
        "\r\n",
        "# Driver Code \r\n",
        "li1 = [4, 8, 2, 10, 15, 18] \r\n",
        "li2 = Cloning(li1) \r\n",
        "print(\"Original List:\", li1) \r\n",
        "print(\"After Cloning:\", li2) \r\n"
      ],
      "execution_count": 25,
      "outputs": [
        {
          "output_type": "stream",
          "text": [
            "Original List: [4, 8, 2, 10, 15, 18]\n",
            "After Cloning: [4, 8, 2, 10, 15, 18]\n"
          ],
          "name": "stdout"
        }
      ]
    },
    {
      "cell_type": "markdown",
      "metadata": {
        "id": "JlPScPkS3-9H"
      },
      "source": [
        "Using the copy() method\r\n",
        "The inbuilt method copy is used to copy all the elements from one list to another."
      ]
    },
    {
      "cell_type": "code",
      "metadata": {
        "colab": {
          "base_uri": "https://localhost:8080/"
        },
        "id": "89b3kAZI37gO",
        "outputId": "8067e242-3e47-4749-ae89-fe22cbcfd203"
      },
      "source": [
        "# Python code to clone or copy a list \r\n",
        "# Using bilt-in method copy() \r\n",
        "def Cloning(li1): \r\n",
        "\tli_copy =[] \r\n",
        "\tli_copy = li1.copy() \r\n",
        "\treturn li_copy \r\n",
        "\r\n",
        "# Driver Code \r\n",
        "li1 = [4, 8, 2, 10, 15, 18] \r\n",
        "li2 = Cloning(li1) \r\n",
        "print(\"Original List:\", li1) \r\n",
        "print(\"After Cloning:\", li2) \r\n"
      ],
      "execution_count": 26,
      "outputs": [
        {
          "output_type": "stream",
          "text": [
            "Original List: [4, 8, 2, 10, 15, 18]\n",
            "After Cloning: [4, 8, 2, 10, 15, 18]\n"
          ],
          "name": "stdout"
        }
      ]
    },
    {
      "cell_type": "code",
      "metadata": {
        "id": "K2tV089v4CrT"
      },
      "source": [
        ""
      ],
      "execution_count": null,
      "outputs": []
    }
  ]
}