{
  "nbformat": 4,
  "nbformat_minor": 0,
  "metadata": {
    "colab": {
      "name": "Reversing_a_List.ipynb",
      "provenance": [],
      "collapsed_sections": []
    },
    "kernelspec": {
      "name": "python3",
      "display_name": "Python 3"
    }
  },
  "cells": [
    {
      "cell_type": "markdown",
      "metadata": {
        "id": "eSlCTBBhvHeP"
      },
      "source": [
        "### **Reversing a List in Python**\r\n",
        "\r\n",
        "Method 1: Using the reversed() built-in function.\r\n",
        "In this method, we neither reverse a list in-place(modify the original list), nor we create any copy of the list. Instead, we get a reverse iterator which we use to cycle through the list."
      ]
    },
    {
      "cell_type": "code",
      "metadata": {
        "colab": {
          "base_uri": "https://localhost:8080/"
        },
        "id": "HEM_sUtkGavb",
        "outputId": "22cff324-6da9-4df9-c397-96b0b67c3dd1"
      },
      "source": [
        "# Reversing a list using reversed() \r\n",
        "def Reverse(lst): \r\n",
        "\treturn [ele for ele in reversed(lst)] \r\n",
        "\t\r\n",
        "# Driver Code \r\n",
        "lst = [10, 11, 12, 13, 14, 15] \r\n",
        "print(Reverse(lst)) \r\n"
      ],
      "execution_count": 4,
      "outputs": [
        {
          "output_type": "stream",
          "text": [
            "[15, 14, 13, 12, 11, 10]\n"
          ],
          "name": "stdout"
        }
      ]
    },
    {
      "cell_type": "markdown",
      "metadata": {
        "id": "vKouqmIUnsD_"
      },
      "source": [
        "Method 2: Using the reverse() built-in function.\r\n",
        "Using the reverse() method we can reverse the contents of the list object in-place i.e., we don’t need to create a new list instead we just copy the existing elements to the original list in reverse order. This method directly modifies the original list."
      ]
    },
    {
      "cell_type": "code",
      "metadata": {
        "colab": {
          "base_uri": "https://localhost:8080/"
        },
        "id": "2tN6UgHEiRtd",
        "outputId": "06846efe-668c-4b8b-d883-d4b0a3cf14b4"
      },
      "source": [
        "# Reversing a list using reverse() \r\n",
        "def Reverse(lst): \r\n",
        "\tlst.reverse() \r\n",
        "\treturn lst \r\n",
        "\t\r\n",
        "lst = [10, 11, 12, 13, 14, 15] \r\n",
        "print(Reverse(lst)) \r\n"
      ],
      "execution_count": 5,
      "outputs": [
        {
          "output_type": "stream",
          "text": [
            "[15, 14, 13, 12, 11, 10]\n"
          ],
          "name": "stdout"
        }
      ]
    },
    {
      "cell_type": "markdown",
      "metadata": {
        "id": "4ZaqtbZqpF3s"
      },
      "source": [
        "Method 3: Using the slicing technique.\r\n",
        "In this technique, a copy of the list is made and the list is not sorted in-place. Creating a copy requires more space to hold all of the existing elements. This exhausts more memory."
      ]
    },
    {
      "cell_type": "code",
      "metadata": {
        "colab": {
          "base_uri": "https://localhost:8080/"
        },
        "id": "O_gldxCcn1-S",
        "outputId": "642a2d3c-7bb6-4ff0-c809-0a30a0e4ad7b"
      },
      "source": [
        "# Reversing a list using slicing technique \r\n",
        "def Reverse(lst): \r\n",
        "\tnew_lst = lst[::-1] \r\n",
        "\treturn new_lst \r\n",
        "\t\r\n",
        "lst = [10, 11, 12, 13, 14, 15] \r\n",
        "print(Reverse(lst)) \r\n"
      ],
      "execution_count": 6,
      "outputs": [
        {
          "output_type": "stream",
          "text": [
            "[15, 14, 13, 12, 11, 10]\n"
          ],
          "name": "stdout"
        }
      ]
    },
    {
      "cell_type": "code",
      "metadata": {
        "id": "51b8yWN0pMQL"
      },
      "source": [
        ""
      ],
      "execution_count": null,
      "outputs": []
    }
  ]
}