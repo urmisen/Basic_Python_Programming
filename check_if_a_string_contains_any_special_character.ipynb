{
  "nbformat": 4,
  "nbformat_minor": 0,
  "metadata": {
    "colab": {
      "name": " check_if_a_string_contains_any_special_character.ipynb",
      "provenance": [],
      "collapsed_sections": []
    },
    "kernelspec": {
      "name": "python3",
      "display_name": "Python 3"
    }
  },
  "cells": [
    {
      "cell_type": "markdown",
      "metadata": {
        "id": "eSlCTBBhvHeP"
      },
      "source": [
        "### **Program to check if a string contains any special character**\r\n",
        "\r\n",
        "Approach : Make a regular expression(regex) object of all the special characters that we don’t want, then pass a string in search method. If any one character of string is matching with regex object then search method returns a match object otherwise return None.\r\n",
        "\r\n",
        "\r\n"
      ]
    },
    {
      "cell_type": "code",
      "metadata": {
        "colab": {
          "base_uri": "https://localhost:8080/"
        },
        "id": "HEM_sUtkGavb",
        "outputId": "7f0dd5d1-0786-4837-fcf7-6813d65fdca1"
      },
      "source": [
        "# Python3 program to check if a string \r\n",
        "# contains any special character \r\n",
        "\r\n",
        "# import required package \r\n",
        "import re \r\n",
        "\r\n",
        "# Function checks if the string \r\n",
        "# contains any special character \r\n",
        "def run(string): \r\n",
        "\r\n",
        "\t# Make own character set and pass \r\n",
        "\t# this as argument in compile method \r\n",
        "\tregex = re.compile('[@_!#$%^&*()<>?/\\|}{~:]') \r\n",
        "\t\r\n",
        "\t# Pass the string in search \r\n",
        "\t# method of regex object.\t \r\n",
        "\tif(regex.search(string) == None): \r\n",
        "\t\tprint(\"String is accepted\") \r\n",
        "\t\t\r\n",
        "\telse: \r\n",
        "\t\tprint(\"String is not accepted.\") \r\n",
        "\t\r\n",
        "\r\n",
        "# Driver Code \r\n",
        "if __name__ == '__main__' : \r\n",
        "\t\r\n",
        "\t# Enter the string \r\n",
        "\tstring = \"Geeks$For$Geeks\"\r\n",
        "\t\r\n",
        "\t# calling run function \r\n",
        "\trun(string) \r\n"
      ],
      "execution_count": 29,
      "outputs": [
        {
          "output_type": "stream",
          "text": [
            "String is not accepted.\n"
          ],
          "name": "stdout"
        }
      ]
    },
    {
      "cell_type": "code",
      "metadata": {
        "id": "dC5x6QuHMf1s"
      },
      "source": [
        ""
      ],
      "execution_count": null,
      "outputs": []
    }
  ]
}