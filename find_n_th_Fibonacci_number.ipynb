{
  "nbformat": 4,
  "nbformat_minor": 0,
  "metadata": {
    "colab": {
      "name": "find_n-th_Fibonacci_number.ipynb",
      "provenance": [],
      "collapsed_sections": []
    },
    "kernelspec": {
      "name": "python3",
      "display_name": "Python 3"
    }
  },
  "cells": [
    {
      "cell_type": "markdown",
      "metadata": {
        "id": "eSlCTBBhvHeP"
      },
      "source": [
        "### **Python Program for n-th Fibonacci number**\r\n",
        "\r\n",
        "In mathematical terms, the sequence Fn of Fibonacci numbers is defined by the recurrence relation \r\n",
        "\r\n",
        "Fn = Fn-1 + Fn-2\r\n",
        "With seed values F0 = 0 and F1 = 1.\r\n",
        "\r\n",
        "Method 1 ( Use recursion ) :\r\n"
      ]
    },
    {
      "cell_type": "code",
      "metadata": {
        "colab": {
          "base_uri": "https://localhost:8080/"
        },
        "id": "4EJVB2fFtjLX",
        "outputId": "cc8aa45e-770d-4bdd-ab87-583d45213c45"
      },
      "source": [
        "# Function for nth Fibonacci number \r\n",
        "\r\n",
        "def Fibonacci(n): \r\n",
        "\tif n<0: \r\n",
        "\t\tprint(\"Incorrect input\") \r\n",
        "\t# First Fibonacci number is 0 \r\n",
        "\telif n==1: \r\n",
        "\t\treturn 0\r\n",
        "\t# Second Fibonacci number is 1 \r\n",
        "\telif n==2: \r\n",
        "\t\treturn 1\r\n",
        "\telse: \r\n",
        "\t\treturn Fibonacci(n-1)+Fibonacci(n-2) \r\n",
        "\r\n",
        "# Driver Program \r\n",
        "\r\n",
        "print(Fibonacci(9)) \r\n",
        "\r\n",
        "#This code is contributed by Saket Modi \r\n"
      ],
      "execution_count": 18,
      "outputs": [
        {
          "output_type": "stream",
          "text": [
            "21\n"
          ],
          "name": "stdout"
        }
      ]
    },
    {
      "cell_type": "markdown",
      "metadata": {
        "id": "uhpoe0_f6BCU"
      },
      "source": [
        "Method 3 ( Use Dynamic Programming with Space Optimization) : "
      ]
    },
    {
      "cell_type": "code",
      "metadata": {
        "id": "WEgqa5jW6Cul"
      },
      "source": [
        "# Function for nth fibonacci number - Space Optimisataion \r\n",
        "# Taking 1st two fibonacci numbers as 0 and 1 \r\n",
        "\r\n",
        "def fibonacci(n): \r\n",
        "\ta = 0\r\n",
        "\tb = 1\r\n",
        "\tif n < 0: \r\n",
        "\t\tprint(\"Incorrect input\") \r\n",
        "\telif n == 0: \r\n",
        "\t\treturn a \r\n",
        "\telif n == 1: \r\n",
        "\t\treturn b \r\n",
        "\telse: \r\n",
        "\t\tfor i in range(2,n): \r\n",
        "\t\t\tc = a + b \r\n",
        "\t\t\ta = b \r\n",
        "\t\t\tb = c \r\n",
        "\t\treturn b \r\n",
        "\r\n",
        "# Driver Program \r\n",
        "\r\n",
        "print(fibonacci(9)) \r\n",
        "\r\n",
        "#This code is contributed by Saket Modi \r\n"
      ],
      "execution_count": null,
      "outputs": []
    }
  ]
}