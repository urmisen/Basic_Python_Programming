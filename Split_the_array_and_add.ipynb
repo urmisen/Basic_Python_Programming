{
  "nbformat": 4,
  "nbformat_minor": 0,
  "metadata": {
    "colab": {
      "name": "Split_the_array_and_add.ipynb",
      "provenance": [],
      "collapsed_sections": []
    },
    "kernelspec": {
      "name": "python3",
      "display_name": "Python 3"
    }
  },
  "cells": [
    {
      "cell_type": "markdown",
      "metadata": {
        "id": "eSlCTBBhvHeP"
      },
      "source": [
        "### **Python Program to Split the array and add the first part to the end**\r\n",
        "\r\n",
        "There is a given an array and split it from a specified position, and move the first part of array add to the end."
      ]
    },
    {
      "cell_type": "code",
      "metadata": {
        "colab": {
          "base_uri": "https://localhost:8080/"
        },
        "id": "HEM_sUtkGavb",
        "outputId": "fc9fca7d-09c9-47fb-cfbb-ffb1fecc90db"
      },
      "source": [
        "# Python program to split array and move first \r\n",
        "# part to end. \r\n",
        "\r\n",
        "def splitArr(arr, n, k): \r\n",
        "\tfor i in range(0, k): \r\n",
        "\t\tx = arr[0] \r\n",
        "\t\tfor j in range(0, n-1): \r\n",
        "\t\t\tarr[j] = arr[j + 1] \r\n",
        "\t\t\r\n",
        "\t\tarr[n-1] = x \r\n",
        "\t\t\r\n",
        "\r\n",
        "# main \r\n",
        "arr = [12, 10, 5, 6, 52, 36] \r\n",
        "n = len(arr) \r\n",
        "position = 2\r\n",
        "\r\n",
        "splitArr(arr, n, position) \r\n",
        "\r\n",
        "for i in range(0, n): \r\n",
        "\tprint(arr[i], end = ' ') \r\n",
        "\r\n"
      ],
      "execution_count": 31,
      "outputs": [
        {
          "output_type": "stream",
          "text": [
            "5 6 52 36 12 10 "
          ],
          "name": "stdout"
        }
      ]
    },
    {
      "cell_type": "markdown",
      "metadata": {
        "id": "C36S64wHGOtM"
      },
      "source": [
        "Another Solution :\r\n"
      ]
    },
    {
      "cell_type": "code",
      "metadata": {
        "colab": {
          "base_uri": "https://localhost:8080/"
        },
        "id": "9zLAVv-LG6pU",
        "outputId": "d3b60c21-dd1e-4b28-9f45-a50a6be4239a"
      },
      "source": [
        "# Python program to split array and move first \r\n",
        "# part to end. \r\n",
        "\r\n",
        "def splitArr(a, n, k): \r\n",
        "  b = a[:k] \r\n",
        "  return (a[k::]+b[::]) \r\n",
        "\t\t\r\n",
        "\r\n",
        "# main \r\n",
        "arr = [12, 10, 5, 6, 52, 36] \r\n",
        "n = len(arr) \r\n",
        "position = 2\r\n",
        "arr = splitArr(arr, n, position) \r\n",
        "for i in range(0, n): \r\n",
        "\tprint(arr[i], end = ' ') \r\n"
      ],
      "execution_count": 33,
      "outputs": [
        {
          "output_type": "stream",
          "text": [
            "5 6 52 36 12 10 "
          ],
          "name": "stdout"
        }
      ]
    },
    {
      "cell_type": "code",
      "metadata": {
        "id": "3Fy5GwL4NPMx"
      },
      "source": [
        ""
      ],
      "execution_count": null,
      "outputs": []
    }
  ]
}