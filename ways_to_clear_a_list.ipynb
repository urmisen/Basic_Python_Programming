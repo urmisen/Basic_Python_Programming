{
  "nbformat": 4,
  "nbformat_minor": 0,
  "metadata": {
    "colab": {
      "name": "ways_to_clear_a_list.ipynb",
      "provenance": [],
      "collapsed_sections": []
    },
    "kernelspec": {
      "name": "python3",
      "display_name": "Python 3"
    }
  },
  "cells": [
    {
      "cell_type": "markdown",
      "metadata": {
        "id": "eSlCTBBhvHeP"
      },
      "source": [
        "### **Different ways to clear a list in Python**\r\n",
        "\r\n",
        "Method #1 : Using clear() method"
      ]
    },
    {
      "cell_type": "code",
      "metadata": {
        "colab": {
          "base_uri": "https://localhost:8080/"
        },
        "id": "HEM_sUtkGavb",
        "outputId": "c93acaf4-0fcb-44ce-e581-c3f3b4958184"
      },
      "source": [
        "# Python program to clear a list \r\n",
        "# using clear() method \r\n",
        "\r\n",
        "# Creating list \r\n",
        "GEEK = [6, 0, 4, 1] \r\n",
        "print('GEEK before clear:', GEEK) \r\n",
        "\r\n",
        "# Clearing list \r\n",
        "GEEK.clear() \r\n",
        "print('GEEK after clear:', GEEK) \r\n"
      ],
      "execution_count": 2,
      "outputs": [
        {
          "output_type": "stream",
          "text": [
            "GEEK before clear: [6, 0, 4, 1]\n",
            "GEEK after clear: []\n"
          ],
          "name": "stdout"
        }
      ]
    },
    {
      "cell_type": "markdown",
      "metadata": {
        "id": "vKouqmIUnsD_"
      },
      "source": [
        "Method #2 : Reinitializing the list : The initialization of the list in that scope, initializes the list with no value. i.e list of size 0. Let’s see the example demonstrating Method 1 and 2 to clear list"
      ]
    },
    {
      "cell_type": "code",
      "metadata": {
        "colab": {
          "base_uri": "https://localhost:8080/"
        },
        "id": "2tN6UgHEiRtd",
        "outputId": "faa6badc-6f46-42a6-8ef3-c7bab279b74b"
      },
      "source": [
        "# Python3 code to demonstrate \r\n",
        "# clearing a list using \r\n",
        "# clear and Reinitializing \r\n",
        "\r\n",
        "# Initializing lists \r\n",
        "list1 = [1, 2, 3] \r\n",
        "list2 = [5, 6, 7] \r\n",
        "\r\n",
        "# Printing list1 before deleting \r\n",
        "print (\"List1 before deleting is : \"\r\n",
        "+ str(list1)) \r\n",
        "\r\n",
        "# deleting list using clear() \r\n",
        "list1.clear() \r\n",
        "\r\n",
        "# Printing list1 after clearing \r\n",
        "print (\"List1 after clearing using clear() : \"\r\n",
        "+ str(list1)) \r\n",
        "\r\n",
        "# Printing list2 before deleting \r\n",
        "print (\"List2 before deleting is : \"\r\n",
        "+ str(list2)) \r\n",
        "\r\n",
        "# deleting list using reinitialization \r\n",
        "list2 = [] \r\n",
        "\r\n",
        "# Printing list2 after reinitialization \r\n",
        "print (\"List2 after clearing using reinitialization : \"\r\n",
        "+ str(list2)) \r\n"
      ],
      "execution_count": 3,
      "outputs": [
        {
          "output_type": "stream",
          "text": [
            "List1 before deleting is : [1, 2, 3]\n",
            "List1 after clearing using clear() : []\n",
            "List2 before deleting is : [5, 6, 7]\n",
            "List2 after clearing using reinitialization : []\n"
          ],
          "name": "stdout"
        }
      ]
    },
    {
      "cell_type": "code",
      "metadata": {
        "id": "O_gldxCcn1-S"
      },
      "source": [
        ""
      ],
      "execution_count": null,
      "outputs": []
    }
  ]
}