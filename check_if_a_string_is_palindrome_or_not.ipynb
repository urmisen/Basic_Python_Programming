{
  "nbformat": 4,
  "nbformat_minor": 0,
  "metadata": {
    "colab": {
      "name": "check_if_a_string_is_palindrome_or_not.ipynb",
      "provenance": [],
      "collapsed_sections": []
    },
    "kernelspec": {
      "name": "python3",
      "display_name": "Python 3"
    }
  },
  "cells": [
    {
      "cell_type": "markdown",
      "metadata": {
        "id": "eSlCTBBhvHeP"
      },
      "source": [
        "### **Python program to check if a string is palindrome or not**\r\n",
        "\r\n",
        "Method #1 \r\n",
        "\r\n",
        "* Find reverse of string\r\n",
        "* Check if reverse and original are same or not.\r\n",
        "\r\n",
        "\r\n",
        "\r\n"
      ]
    },
    {
      "cell_type": "code",
      "metadata": {
        "colab": {
          "base_uri": "https://localhost:8080/"
        },
        "id": "HEM_sUtkGavb",
        "outputId": "80fddfd3-5af4-4981-e55b-014c00084023"
      },
      "source": [
        "# function which return reverse of a string\r\n",
        "\r\n",
        "def isPalindrome(s):\r\n",
        "\treturn s == s[::-1]\r\n",
        "\r\n",
        "\r\n",
        "# Driver code\r\n",
        "s = \"malayalam\"\r\n",
        "ans = isPalindrome(s)\r\n",
        "\r\n",
        "if ans:\r\n",
        "\tprint(\"Yes\")\r\n",
        "else:\r\n",
        "\tprint(\"No\")\r\n"
      ],
      "execution_count": 13,
      "outputs": [
        {
          "output_type": "stream",
          "text": [
            "Yes\n"
          ],
          "name": "stdout"
        }
      ]
    },
    {
      "cell_type": "markdown",
      "metadata": {
        "id": "mut12yxoX9ty"
      },
      "source": [
        "Method #2 : Iterative Method: \r\n",
        "\r\n",
        "This method is contributed by Shariq Raza. Run a loop from starting to length/2 and check the first character to the last character of the string and second to second last one and so on …. If any character mismatches, the string wouldn’t be a palindrome."
      ]
    },
    {
      "cell_type": "code",
      "metadata": {
        "colab": {
          "base_uri": "https://localhost:8080/"
        },
        "id": "q8H7nZEwPJrd",
        "outputId": "a50bb63d-4ffa-40fa-ecab-250c5691ad65"
      },
      "source": [
        "# function to check string is \r\n",
        "# palindrome or not \r\n",
        "def isPalindrome(str):\r\n",
        "\r\n",
        "\t# Run loop from 0 to len/2 \r\n",
        "\tfor i in range(0, int(len(str)/2)): \r\n",
        "\t\tif str[i] != str[len(str)-i-1]:\r\n",
        "\t\t\treturn False\r\n",
        "\treturn True\r\n",
        "\r\n",
        "# main function\r\n",
        "s = \"malayalam\"\r\n",
        "ans = isPalindrome(s)\r\n",
        "\r\n",
        "if (ans):\r\n",
        "\tprint(\"Yes\")\r\n",
        "else:\r\n",
        "\tprint(\"No\")\r\n"
      ],
      "execution_count": 14,
      "outputs": [
        {
          "output_type": "stream",
          "text": [
            "Yes\n"
          ],
          "name": "stdout"
        }
      ]
    },
    {
      "cell_type": "code",
      "metadata": {
        "id": "u2B3oYDVZvtR"
      },
      "source": [
        ""
      ],
      "execution_count": null,
      "outputs": []
    }
  ]
}