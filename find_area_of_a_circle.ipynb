{
  "nbformat": 4,
  "nbformat_minor": 0,
  "metadata": {
    "colab": {
      "name": "find_area_of_a_circle.ipynb",
      "provenance": [],
      "collapsed_sections": []
    },
    "kernelspec": {
      "name": "python3",
      "display_name": "Python 3"
    }
  },
  "cells": [
    {
      "cell_type": "markdown",
      "metadata": {
        "id": "eSlCTBBhvHeP"
      },
      "source": [
        "### **Python Program for Program to find area of a circle**\r\n",
        "\r\n",
        "Area = pi * r2\r\n",
        "where r is radius of circle \r\n"
      ]
    },
    {
      "cell_type": "code",
      "metadata": {
        "colab": {
          "base_uri": "https://localhost:8080/"
        },
        "id": "4EJVB2fFtjLX",
        "outputId": "af3054fd-7023-4b23-a9da-939a529ad65d"
      },
      "source": [
        "# Python program to find Area of a circle \r\n",
        "\r\n",
        "def findArea(r): \r\n",
        "\tPI = 3.142\r\n",
        "\treturn PI * (r*r); \r\n",
        "\r\n",
        "# Driver method \r\n",
        "print(\"Area is %.6f\" % findArea(5)); \r\n",
        "\r\n",
        "# This code is contributed by Chinmoy Lenka \r\n"
      ],
      "execution_count": 14,
      "outputs": [
        {
          "output_type": "stream",
          "text": [
            "Area is 78.550000\n"
          ],
          "name": "stdout"
        }
      ]
    },
    {
      "cell_type": "code",
      "metadata": {
        "id": "gfZmKzPAx-3x"
      },
      "source": [
        ""
      ],
      "execution_count": null,
      "outputs": []
    }
  ]
}