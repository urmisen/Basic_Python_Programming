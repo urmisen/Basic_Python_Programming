{
  "nbformat": 4,
  "nbformat_minor": 0,
  "metadata": {
    "colab": {
      "name": "multiply_two_Matrices.ipynb",
      "provenance": [],
      "collapsed_sections": []
    },
    "kernelspec": {
      "name": "python3",
      "display_name": "Python 3"
    }
  },
  "cells": [
    {
      "cell_type": "markdown",
      "metadata": {
        "id": "eSlCTBBhvHeP"
      },
      "source": [
        "### **Python program to multiply two matrices**\r\n",
        "\r\n",
        "Method 1: Using Simple Nested Loops\r\n",
        "\r\n",
        "\r\n",
        "\r\n",
        "\r\n"
      ]
    },
    {
      "cell_type": "code",
      "metadata": {
        "colab": {
          "base_uri": "https://localhost:8080/"
        },
        "id": "HEM_sUtkGavb",
        "outputId": "68c944cc-3a8a-4497-ef67-4f327c7cbbb7"
      },
      "source": [
        "# Program to multiply two matrices using nested loops \r\n",
        "\r\n",
        "# take a 3x3 matrix \r\n",
        "A = [[12, 7, 3], \r\n",
        "\t[4, 5, 6], \r\n",
        "\t[7, 8, 9]] \r\n",
        "\r\n",
        "# take a 3x4 matrix\t \r\n",
        "B = [[5, 8, 1, 2], \r\n",
        "\t[6, 7, 3, 0], \r\n",
        "\t[4, 5, 9, 1]] \r\n",
        "\t\r\n",
        "result = [[0, 0, 0, 0], \r\n",
        "\t\t[0, 0, 0, 0], \r\n",
        "\t\t[0, 0, 0, 0]] \r\n",
        "\r\n",
        "# iterating by row of A \r\n",
        "for i in range(len(A)): \r\n",
        "\r\n",
        "\t# iterating by coloum by B \r\n",
        "\tfor j in range(len(B[0])): \r\n",
        "\r\n",
        "\t\t# iterating by rows of B \r\n",
        "\t\tfor k in range(len(B)): \r\n",
        "\t\t\tresult[i][j] += A[i][k] * B[k][j] \r\n",
        "\r\n",
        "for r in result: \r\n",
        "\tprint(r) \r\n"
      ],
      "execution_count": 1,
      "outputs": [
        {
          "output_type": "stream",
          "text": [
            "[10, 10, 10]\n",
            "[10, 10, 10]\n",
            "[10, 10, 10]\n"
          ],
          "name": "stdout"
        }
      ]
    },
    {
      "cell_type": "markdown",
      "metadata": {
        "id": "P8BRfRnv72TC"
      },
      "source": [
        "Method 2: Matrix Multiplication Using Nested List. We use zip in Python.\r\n",
        "\r\n"
      ]
    },
    {
      "cell_type": "code",
      "metadata": {
        "id": "-1JTYzi077Vb",
        "colab": {
          "base_uri": "https://localhost:8080/"
        },
        "outputId": "9d3dd5d4-4bd3-4ea8-beac-08909ac1ff28"
      },
      "source": [
        "# Program to multiply two matrices using list comprehension \r\n",
        "\r\n",
        "# take a 3x3 matrix \r\n",
        "A = [[12, 7, 3], \r\n",
        "\t[4, 5, 6], \r\n",
        "\t[7, 8, 9]] \r\n",
        "\r\n",
        "# take a 3x4 matrix \r\n",
        "B = [[5, 8, 1, 2], \r\n",
        "\t[6, 7, 3, 0], \r\n",
        "\t[4, 5, 9, 1]] \r\n",
        "\r\n",
        "# result will be 3x4 \r\n",
        "result = [[sum(a * b for a, b in zip(A_row, B_col)) \r\n",
        "\t\t\t\t\t\tfor B_col in zip(*B)] \r\n",
        "\t\t\t\t\t\t\t\tfor A_row in A] \r\n",
        "\r\n",
        "for r in result: \r\n",
        "\tprint(r) \r\n"
      ],
      "execution_count": 2,
      "outputs": [
        {
          "output_type": "stream",
          "text": [
            "[114, 160, 60, 27]\n",
            "[74, 97, 73, 14]\n",
            "[119, 157, 112, 23]\n"
          ],
          "name": "stdout"
        }
      ]
    },
    {
      "cell_type": "markdown",
      "metadata": {
        "id": "uwcOqjj1PGxO"
      },
      "source": [
        "Method 3: Matrix Multiplication (Vectorized implementation)."
      ]
    },
    {
      "cell_type": "code",
      "metadata": {
        "colab": {
          "base_uri": "https://localhost:8080/"
        },
        "id": "1cwLBp9rPDUn",
        "outputId": "b3022295-e2f8-4b1d-f731-ed1f695ccfe4"
      },
      "source": [
        "# Program to multiply two matrices (vectorized implementation) \r\n",
        "\r\n",
        "# Program to multiply two matrices (vectorized implementation) \r\n",
        "import numpy as np \r\n",
        "# take a 3x3 matrix \r\n",
        "A = [[12, 7, 3], \r\n",
        "\t[4, 5, 6], \r\n",
        "\t[7, 8, 9]] \r\n",
        "\r\n",
        "# take a 3x4 matrix \r\n",
        "B = [[5, 8, 1, 2], \r\n",
        "\t[6, 7, 3, 0], \r\n",
        "\t[4, 5, 9, 1]] \r\n",
        "\r\n",
        "# result will be 3x4 \r\n",
        "\r\n",
        "result= [[0,0,0,0], \r\n",
        "\t\t[0,0,0,0], \r\n",
        "\t\t[0,0,0,0]] \r\n",
        "\r\n",
        "result = np.dot(A,B) \r\n",
        "\r\n",
        "for r in result: \r\n",
        "\tprint(r) \r\n"
      ],
      "execution_count": 3,
      "outputs": [
        {
          "output_type": "stream",
          "text": [
            "[114 160  60  27]\n",
            "[74 97 73 14]\n",
            "[119 157 112  23]\n"
          ],
          "name": "stdout"
        }
      ]
    },
    {
      "cell_type": "code",
      "metadata": {
        "id": "q8H7nZEwPJrd"
      },
      "source": [
        ""
      ],
      "execution_count": null,
      "outputs": []
    }
  ]
}