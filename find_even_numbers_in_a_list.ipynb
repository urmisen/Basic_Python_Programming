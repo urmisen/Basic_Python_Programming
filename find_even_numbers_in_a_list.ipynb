{
  "nbformat": 4,
  "nbformat_minor": 0,
  "metadata": {
    "colab": {
      "name": "find_even_numbers_in_a_list.ipynb",
      "provenance": [],
      "collapsed_sections": []
    },
    "kernelspec": {
      "name": "python3",
      "display_name": "Python 3"
    }
  },
  "cells": [
    {
      "cell_type": "markdown",
      "metadata": {
        "id": "eSlCTBBhvHeP"
      },
      "source": [
        "### **Python program to print even numbers in a list**\r\n",
        "Using for loop : Iterate each element in the list using for loop and check if num % 2 == 0. If the condition satisfies, then only print the number.\r\n",
        "\r\n",
        "\r\n"
      ]
    },
    {
      "cell_type": "code",
      "metadata": {
        "colab": {
          "base_uri": "https://localhost:8080/"
        },
        "id": "HEM_sUtkGavb",
        "outputId": "e863ff1b-6a24-454f-edee-c259815299b1"
      },
      "source": [
        "# Python program to print Even Numbers in a List \r\n",
        "\r\n",
        "# list of numbers \r\n",
        "list1 = [10, 21, 4, 45, 66, 93] \r\n",
        "\r\n",
        "# iterating each number in list \r\n",
        "for num in list1: \r\n",
        "\t\r\n",
        "\t# checking condition \r\n",
        "\tif num % 2 == 0: \r\n",
        "\t  print(num, end = \" \") \r\n"
      ],
      "execution_count": 4,
      "outputs": [
        {
          "output_type": "stream",
          "text": [
            "10 4 66 "
          ],
          "name": "stdout"
        }
      ]
    },
    {
      "cell_type": "markdown",
      "metadata": {
        "id": "vKouqmIUnsD_"
      },
      "source": [
        "Method 2 : Using list comprehension :"
      ]
    },
    {
      "cell_type": "code",
      "metadata": {
        "colab": {
          "base_uri": "https://localhost:8080/"
        },
        "id": "2tN6UgHEiRtd",
        "outputId": "b012fc7a-d4a5-42e9-e879-d9f26138fc76"
      },
      "source": [
        "# Python program to print even Numbers in a List \r\n",
        "\r\n",
        "# list of numbers \r\n",
        "list1 = [10, 21, 4, 45, 66, 93] \r\n",
        "\r\n",
        "# using list comprehension \r\n",
        "even_nos = [num for num in list1 if num % 2 == 0] \r\n",
        "\r\n",
        "print(\"Even numbers in the list: \", even_nos) \r\n"
      ],
      "execution_count": 11,
      "outputs": [
        {
          "output_type": "stream",
          "text": [
            "Even numbers in the list:  [10, 4, 66]\n"
          ],
          "name": "stdout"
        }
      ]
    },
    {
      "cell_type": "markdown",
      "metadata": {
        "id": "OlMRWKQaz_Lr"
      },
      "source": [
        "Using lambda expressions :"
      ]
    },
    {
      "cell_type": "code",
      "metadata": {
        "colab": {
          "base_uri": "https://localhost:8080/"
        },
        "id": "9DMPQxJHudRH",
        "outputId": "1a28e884-cac5-4715-a8d4-1e62487df832"
      },
      "source": [
        "# Python program to print Even Numbers in a List \r\n",
        "\r\n",
        "# list of numbers \r\n",
        "list1 = [10, 21, 4, 45, 66, 93, 11] \r\n",
        "\r\n",
        "\r\n",
        "# we can also print even no's using lambda exp. \r\n",
        "even_nos = list(filter(lambda x: (x % 2 == 0), list1)) \r\n",
        "\r\n",
        "print(\"Even numbers in the list: \", even_nos) \r\n"
      ],
      "execution_count": 12,
      "outputs": [
        {
          "output_type": "stream",
          "text": [
            "Even numbers in the list:  [10, 4, 66]\n"
          ],
          "name": "stdout"
        }
      ]
    },
    {
      "cell_type": "code",
      "metadata": {
        "id": "ZAGM-tST0F-b"
      },
      "source": [
        ""
      ],
      "execution_count": null,
      "outputs": []
    }
  ]
}