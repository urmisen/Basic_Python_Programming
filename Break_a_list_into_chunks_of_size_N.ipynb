{
  "nbformat": 4,
  "nbformat_minor": 0,
  "metadata": {
    "colab": {
      "name": "Break_a_list_into_chunks_of_size_N.ipynb",
      "provenance": [],
      "collapsed_sections": []
    },
    "kernelspec": {
      "name": "python3",
      "display_name": "Python 3"
    }
  },
  "cells": [
    {
      "cell_type": "markdown",
      "metadata": {
        "id": "eSlCTBBhvHeP"
      },
      "source": [
        "### **Break a list into chunks of size N in Python**\r\n",
        "\r\n",
        "Method 1: Using yield\r\n",
        "\r\n",
        "The yield keyword enables a function to comeback where it left off when it is called again. \r\n",
        "\r\n",
        "\r\n",
        "\r\n",
        "\r\n"
      ]
    },
    {
      "cell_type": "code",
      "metadata": {
        "colab": {
          "base_uri": "https://localhost:8080/"
        },
        "id": "HEM_sUtkGavb",
        "outputId": "c88b3dc3-2f9b-4bf8-9f57-47910154b7a6"
      },
      "source": [
        "my_list = ['geeks', 'for', 'geeks', 'like', \r\n",
        "\t\t'geeky','nerdy', 'geek', 'love', \r\n",
        "\t\t\t'questions','words', 'life'] \r\n",
        "\r\n",
        "# Yield successive n-sized \r\n",
        "# chunks from l. \r\n",
        "def divide_chunks(l, n): \r\n",
        "\t\r\n",
        "\t# looping till length l \r\n",
        "\tfor i in range(0, len(l), n): \r\n",
        "\t\tyield l[i:i + n] \r\n",
        "\r\n",
        "# How many elements each \r\n",
        "# list should have \r\n",
        "n = 5\r\n",
        "\r\n",
        "x = list(divide_chunks(my_list, n)) \r\n",
        "print (x) \r\n"
      ],
      "execution_count": 31,
      "outputs": [
        {
          "output_type": "stream",
          "text": [
            "[['geeks', 'for', 'geeks', 'like', 'geeky'], ['nerdy', 'geek', 'love', 'questions', 'words'], ['life']]\n"
          ],
          "name": "stdout"
        }
      ]
    },
    {
      "cell_type": "markdown",
      "metadata": {
        "id": "P8BRfRnv72TC"
      },
      "source": [
        "Method 2: Using List comprehension"
      ]
    },
    {
      "cell_type": "code",
      "metadata": {
        "colab": {
          "base_uri": "https://localhost:8080/"
        },
        "id": "K2tV089v4CrT",
        "outputId": "10be2e66-abb8-46b7-93ff-750babd2b3bd"
      },
      "source": [
        "my_list = [1, 2, 3, 4, 5, \r\n",
        "\t\t\t6, 7, 8, 9] \r\n",
        "\r\n",
        "# How many elements each \r\n",
        "# list should have \r\n",
        "n = 4\r\n",
        "\r\n",
        "# using list comprehension \r\n",
        "final = [my_list[i * n:(i + 1) * n] for i in range((len(my_list) + n - 1) // n )] \r\n",
        "print (final) \r\n"
      ],
      "execution_count": 32,
      "outputs": [
        {
          "output_type": "stream",
          "text": [
            "[[1, 2, 3, 4], [5, 6, 7, 8], [9]]\n"
          ],
          "name": "stdout"
        }
      ]
    },
    {
      "cell_type": "code",
      "metadata": {
        "id": "-1JTYzi077Vb"
      },
      "source": [
        ""
      ],
      "execution_count": null,
      "outputs": []
    }
  ]
}