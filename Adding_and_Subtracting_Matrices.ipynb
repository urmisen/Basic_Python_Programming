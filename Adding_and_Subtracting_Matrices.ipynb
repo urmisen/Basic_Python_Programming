{
  "nbformat": 4,
  "nbformat_minor": 0,
  "metadata": {
    "colab": {
      "name": "Adding_and_Subtracting_Matrices.ipynb",
      "provenance": [],
      "collapsed_sections": []
    },
    "kernelspec": {
      "name": "python3",
      "display_name": "Python 3"
    }
  },
  "cells": [
    {
      "cell_type": "markdown",
      "metadata": {
        "id": "eSlCTBBhvHeP"
      },
      "source": [
        "### **Adding and Subtracting Matrices in Python**\r\n",
        "\r\n",
        "1. Adding elements of the matrix\r\n",
        "\r\n",
        "here, we have used np.add() method to add elements of two matrices. If shape of two arrays are not same, that is arr1.shape != arr2.shape, they must be broadcastable to a common shape (which may be the shape of one or the other).\r\n",
        "\r\n",
        "\r\n",
        "\r\n",
        "\r\n"
      ]
    },
    {
      "cell_type": "code",
      "metadata": {
        "colab": {
          "base_uri": "https://localhost:8080/"
        },
        "id": "HEM_sUtkGavb",
        "outputId": "6757770f-1a76-468a-8c4a-428869b2b07a"
      },
      "source": [
        "# importing numpy as np \r\n",
        "import numpy as np \r\n",
        "\r\n",
        "\r\n",
        "# creating first matrix \r\n",
        "A = np.array([[1, 2], [3, 4]]) \r\n",
        "\r\n",
        "# creating second matrix \r\n",
        "B = np.array([[4, 5], [6, 7]]) \r\n",
        "\r\n",
        "print(\"Printing elements of first matrix\") \r\n",
        "print(A) \r\n",
        "print(\"Printing elements of second matrix\") \r\n",
        "print(B) \r\n",
        "\r\n",
        "# adding two matrix \r\n",
        "print(\"Addition of two matrix\") \r\n",
        "print(np.add(A, B)) \r\n"
      ],
      "execution_count": 5,
      "outputs": [
        {
          "output_type": "stream",
          "text": [
            "Printing elements of first matrix\n",
            "[[1 2]\n",
            " [3 4]]\n",
            "Printing elements of second matrix\n",
            "[[4 5]\n",
            " [6 7]]\n",
            "Addition of two matrix\n",
            "[[ 5  7]\n",
            " [ 9 11]]\n"
          ],
          "name": "stdout"
        }
      ]
    },
    {
      "cell_type": "markdown",
      "metadata": {
        "id": "mut12yxoX9ty"
      },
      "source": [
        "2. Subtracting elements of matrices\r\n",
        "\r\n",
        "In the above code, we have used np.subtract() to subtract elements of two matrices. It returns the difference of arr1 and arr2, element-wise."
      ]
    },
    {
      "cell_type": "code",
      "metadata": {
        "colab": {
          "base_uri": "https://localhost:8080/"
        },
        "id": "q8H7nZEwPJrd",
        "outputId": "c0f4c94d-c85c-42f0-bd1d-7b5b92148761"
      },
      "source": [
        "# importing numpy as np \r\n",
        "import numpy as np \r\n",
        "\r\n",
        "\r\n",
        "# creating first matrix \r\n",
        "A = np.array([[1, 2], [3, 4]]) \r\n",
        "\r\n",
        "# creating second matrix \r\n",
        "B = np.array([[4, 5], [6, 7]]) \r\n",
        "\r\n",
        "print(\"Printing elements of first matrix\") \r\n",
        "print(A) \r\n",
        "print(\"Printing elements of second matrix\") \r\n",
        "print(B) \r\n",
        "\r\n",
        "# subtracting two matrix \r\n",
        "print(\"Subtraction of two matrix\") \r\n",
        "print(np.subtract(A, B)) \r\n"
      ],
      "execution_count": 6,
      "outputs": [
        {
          "output_type": "stream",
          "text": [
            "Printing elements of first matrix\n",
            "[[1 2]\n",
            " [3 4]]\n",
            "Printing elements of second matrix\n",
            "[[4 5]\n",
            " [6 7]]\n",
            "Subtraction of two matrix\n",
            "[[-3 -3]\n",
            " [-3 -3]]\n"
          ],
          "name": "stdout"
        }
      ]
    },
    {
      "cell_type": "code",
      "metadata": {
        "id": "zwg5zD1tYAEb"
      },
      "source": [
        ""
      ],
      "execution_count": null,
      "outputs": []
    }
  ]
}