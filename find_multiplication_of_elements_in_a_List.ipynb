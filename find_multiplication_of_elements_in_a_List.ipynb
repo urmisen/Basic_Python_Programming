{
  "nbformat": 4,
  "nbformat_minor": 0,
  "metadata": {
    "colab": {
      "name": "find_multiplication_of_elements in_a_List.ipynb",
      "provenance": [],
      "collapsed_sections": []
    },
    "kernelspec": {
      "name": "python3",
      "display_name": "Python 3"
    }
  },
  "cells": [
    {
      "cell_type": "markdown",
      "metadata": {
        "id": "eSlCTBBhvHeP"
      },
      "source": [
        "### **Python | Multiply all numbers in the list**\r\n",
        "\r\n",
        "Method 1: Traversal\r\n",
        "\r\n",
        "Initialize the value of the product to 1(not 0 as 0 multiplied with anything returns zero). Traverse till the end of the list, multiply every number with the product. The value stored in the product at the end will give you your final answer.\r\n"
      ]
    },
    {
      "cell_type": "code",
      "metadata": {
        "colab": {
          "base_uri": "https://localhost:8080/"
        },
        "id": "HEM_sUtkGavb",
        "outputId": "1b301970-12dc-43bf-9954-4aa993b5b1d7"
      },
      "source": [
        "# Python program to multiply all values in the\r\n",
        "# list using traversal\r\n",
        "\r\n",
        "def multiplyList(myList) :\r\n",
        "\t\r\n",
        "\t# Multiply elements one by one\r\n",
        "\tresult = 1\r\n",
        "\tfor x in myList:\r\n",
        "\t\tresult = result * x \r\n",
        "\treturn result \r\n",
        "\t\r\n",
        "# Driver code\r\n",
        "list1 = [1, 2, 3] \r\n",
        "list2 = [3, 2, 4]\r\n",
        "print(multiplyList(list1))\r\n",
        "print(multiplyList(list2))\r\n"
      ],
      "execution_count": 1,
      "outputs": [
        {
          "output_type": "stream",
          "text": [
            "6\n",
            "24\n"
          ],
          "name": "stdout"
        }
      ]
    },
    {
      "cell_type": "markdown",
      "metadata": {
        "id": "vKouqmIUnsD_"
      },
      "source": [
        "Method 2: Using numpy.prod()\r\n",
        "\r\n",
        "We can use numpy.prod() from import numpy to get the multiplication of all the numbers in the list. It returns an integer or a float value depending on the multiplication result."
      ]
    },
    {
      "cell_type": "code",
      "metadata": {
        "colab": {
          "base_uri": "https://localhost:8080/"
        },
        "id": "2tN6UgHEiRtd",
        "outputId": "a581bc15-fe83-4a8b-9d3f-065c5e60e158"
      },
      "source": [
        "# Python3 program to multiply all values in the\r\n",
        "# list using numpy.prod()\r\n",
        "\r\n",
        "import numpy \r\n",
        "list1 = [1, 2, 3] \r\n",
        "list2 = [3, 2, 4]\r\n",
        "\r\n",
        "# using numpy.prod() to get the multiplications \r\n",
        "result1 = numpy.prod(list1)\r\n",
        "result2 = numpy.prod(list2)\r\n",
        "print(result1)\r\n",
        "print(result2)\r\n"
      ],
      "execution_count": 2,
      "outputs": [
        {
          "output_type": "stream",
          "text": [
            "6\n",
            "24\n"
          ],
          "name": "stdout"
        }
      ]
    },
    {
      "cell_type": "markdown",
      "metadata": {
        "id": "4ZaqtbZqpF3s"
      },
      "source": [
        "Method 3 Using lambda function: Using numpy.array\r\n",
        "\r\n",
        "Lambda’s definition does not include a “return” statement, it always contains an expression that is returned. We can also put a lambda definition anywhere a function is expected, and we don’t have to assign it to a variable at all. This is the simplicity of lambda functions."
      ]
    },
    {
      "cell_type": "code",
      "metadata": {
        "colab": {
          "base_uri": "https://localhost:8080/"
        },
        "id": "O_gldxCcn1-S",
        "outputId": "a1e4edbd-fbc9-49ac-a1dd-842566b4be35"
      },
      "source": [
        "# Python3 program to multiply all values in the\r\n",
        "# list using lambda function and reduce()\r\n",
        "\r\n",
        "from functools import reduce\r\n",
        "list1 = [1, 2, 3] \r\n",
        "list2 = [3, 2, 4]\r\n",
        "\r\n",
        "\r\n",
        "result1 = reduce((lambda x, y: x * y), list1)\r\n",
        "result2 = reduce((lambda x, y: x * y), list2)\r\n",
        "print(result1)\r\n",
        "print(result2)\r\n"
      ],
      "execution_count": 3,
      "outputs": [
        {
          "output_type": "stream",
          "text": [
            "6\n",
            "24\n"
          ],
          "name": "stdout"
        }
      ]
    },
    {
      "cell_type": "code",
      "metadata": {
        "id": "dFaPoqP7qd3o"
      },
      "source": [
        ""
      ],
      "execution_count": 3,
      "outputs": []
    }
  ]
}