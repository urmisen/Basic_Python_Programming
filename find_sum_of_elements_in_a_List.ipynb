{
  "nbformat": 4,
  "nbformat_minor": 0,
  "metadata": {
    "colab": {
      "name": "find_sum_of_elements in_a_List.ipynb",
      "provenance": [],
      "collapsed_sections": []
    },
    "kernelspec": {
      "name": "python3",
      "display_name": "Python 3"
    }
  },
  "cells": [
    {
      "cell_type": "markdown",
      "metadata": {
        "id": "eSlCTBBhvHeP"
      },
      "source": [
        "### **Python program to find sum of elements in list**\r\n",
        "\r\n"
      ]
    },
    {
      "cell_type": "code",
      "metadata": {
        "colab": {
          "base_uri": "https://localhost:8080/"
        },
        "id": "HEM_sUtkGavb",
        "outputId": "c1b3426f-9b48-4006-88f9-2e186a774b26"
      },
      "source": [
        "# Python program to find sum of elements in list\r\n",
        "total = 0\r\n",
        "\r\n",
        "# creating a list\r\n",
        "list1 = [11, 5, 17, 18, 23] \r\n",
        "\r\n",
        "# Iterate each element in list\r\n",
        "# and add them in variale total\r\n",
        "for ele in range(0, len(list1)):\r\n",
        "\ttotal = total + list1[ele]\r\n",
        "\r\n",
        "# printing total value\r\n",
        "print(\"Sum of all elements in given list: \", total)\r\n"
      ],
      "execution_count": 7,
      "outputs": [
        {
          "output_type": "stream",
          "text": [
            "Sum of all elements in given list:  74\n"
          ],
          "name": "stdout"
        }
      ]
    },
    {
      "cell_type": "markdown",
      "metadata": {
        "id": "vKouqmIUnsD_"
      },
      "source": [
        "Example #2 : Using while() loop "
      ]
    },
    {
      "cell_type": "code",
      "metadata": {
        "colab": {
          "base_uri": "https://localhost:8080/"
        },
        "id": "2tN6UgHEiRtd",
        "outputId": "5c6b50e7-d2f5-4200-c727-45047685d5c8"
      },
      "source": [
        "# Python program to find sum of elements in list\r\n",
        "total = 0\r\n",
        "ele = 0\r\n",
        "\r\n",
        "# creating a list\r\n",
        "list1 = [11, 5, 17, 18, 23] \r\n",
        "\r\n",
        "# Iterate each element in list\r\n",
        "# and add them in variale total\r\n",
        "while(ele < len(list1)):\r\n",
        "\ttotal = total + list1[ele]\r\n",
        "\tele += 1\r\n",
        "\t\r\n",
        "# printing total value\r\n",
        "print(\"Sum of all elements in given list: \", total)\r\n"
      ],
      "execution_count": 8,
      "outputs": [
        {
          "output_type": "stream",
          "text": [
            "Sum of all elements in given list:  74\n"
          ],
          "name": "stdout"
        }
      ]
    },
    {
      "cell_type": "markdown",
      "metadata": {
        "id": "4ZaqtbZqpF3s"
      },
      "source": [
        "Example #3: Recursive way "
      ]
    },
    {
      "cell_type": "code",
      "metadata": {
        "colab": {
          "base_uri": "https://localhost:8080/"
        },
        "id": "O_gldxCcn1-S",
        "outputId": "de3a3eea-ba67-4d31-ba08-b1915e0c585b"
      },
      "source": [
        "# Python program to find sum of all \r\n",
        "# elements in list using recursion\r\n",
        "\r\n",
        "# creating a list\r\n",
        "list1 = [11, 5, 17, 18, 23]\r\n",
        "\r\n",
        "# creating sum_list function\r\n",
        "def sumOfList(list, size):\r\n",
        "  if (size == 0):\r\n",
        "    return 0\r\n",
        "  else:\r\n",
        "    return list[size - 1] + sumOfList(list, size - 1)\r\n",
        "\r\n",
        "# Driver code\t \r\n",
        "total = sumOfList(list1, len(list1))\r\n",
        "\r\n",
        "print(\"Sum of all elements in given list: \", total)\r\n"
      ],
      "execution_count": 10,
      "outputs": [
        {
          "output_type": "stream",
          "text": [
            "Sum of all elements in given list:  74\n"
          ],
          "name": "stdout"
        }
      ]
    },
    {
      "cell_type": "markdown",
      "metadata": {
        "id": "7UtjQWalqJ3m"
      },
      "source": [
        "Example #4: Using sum() method \r\n",
        " "
      ]
    },
    {
      "cell_type": "code",
      "metadata": {
        "colab": {
          "base_uri": "https://localhost:8080/"
        },
        "id": "51b8yWN0pMQL",
        "outputId": "2fb97086-b20a-4f6d-8382-599b27598a23"
      },
      "source": [
        "# Python program to find sum of elements in list\r\n",
        "\r\n",
        "# creating a list\r\n",
        "list1 = [11, 5, 17, 18, 23]\r\n",
        "\r\n",
        "# using sum() function\r\n",
        "total = sum(list1)\r\n",
        "\r\n",
        "# printing total value\r\n",
        "print(\"Sum of all elements in given list: \", total)\r\n"
      ],
      "execution_count": 11,
      "outputs": [
        {
          "output_type": "stream",
          "text": [
            "Sum of all elements in given list:  74\n"
          ],
          "name": "stdout"
        }
      ]
    },
    {
      "cell_type": "code",
      "metadata": {
        "id": "dFaPoqP7qd3o"
      },
      "source": [
        ""
      ],
      "execution_count": null,
      "outputs": []
    }
  ]
}