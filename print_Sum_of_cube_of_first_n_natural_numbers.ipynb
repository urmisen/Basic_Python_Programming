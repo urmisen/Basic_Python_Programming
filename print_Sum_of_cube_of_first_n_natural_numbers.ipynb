{
  "nbformat": 4,
  "nbformat_minor": 0,
  "metadata": {
    "colab": {
      "name": "print_Sum_of_cube_of_first_n_natural_numbers.ipynb",
      "provenance": [],
      "collapsed_sections": []
    },
    "kernelspec": {
      "name": "python3",
      "display_name": "Python 3"
    }
  },
  "cells": [
    {
      "cell_type": "markdown",
      "metadata": {
        "id": "eSlCTBBhvHeP"
      },
      "source": [
        "### **Python Program for cube sum of first n natural numbers**\r\n",
        "\r\n",
        "Given a positive integer N. Print the sum of series 1^3 + 2^3 + 3^3 + 4^3 + … + n^3 till n-th term.\r\n",
        "\r\n",
        "Method 1: O(N) The idea is to run a loop from 1 to n and for each i, 1 <= i <= n, find i2 to sum."
      ]
    },
    {
      "cell_type": "code",
      "metadata": {
        "colab": {
          "base_uri": "https://localhost:8080/"
        },
        "id": "4EJVB2fFtjLX",
        "outputId": "123d4a09-3530-4950-a101-25fd50b2658c"
      },
      "source": [
        "# Simple Python program to find sum of series \r\n",
        "# with cubes of first n natural numbers \r\n",
        "\r\n",
        "# Returns the sum of series \r\n",
        "def sumOfSeries(n): \r\n",
        "\tsum = 0\r\n",
        "\tfor i in range(1, n+1): \r\n",
        "\t\tsum +=i*i*i \r\n",
        "\t\t\r\n",
        "\treturn sum\r\n",
        "\r\n",
        "\r\n",
        "# Driver Function \r\n",
        "n = 5\r\n",
        "print(sumOfSeries(n)) \r\n",
        "\r\n",
        "# Code Contributed by Mohit Gupta_OMG <(0_o)> \r\n"
      ],
      "execution_count": 23,
      "outputs": [
        {
          "output_type": "stream",
          "text": [
            "225\n"
          ],
          "name": "stdout"
        }
      ]
    },
    {
      "cell_type": "code",
      "metadata": {
        "id": "ueubT7XiAmhn"
      },
      "source": [
        ""
      ],
      "execution_count": null,
      "outputs": []
    }
  ]
}