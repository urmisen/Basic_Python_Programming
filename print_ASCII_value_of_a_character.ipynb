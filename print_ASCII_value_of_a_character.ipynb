{
  "nbformat": 4,
  "nbformat_minor": 0,
  "metadata": {
    "colab": {
      "name": "print_ASCII_value_of_a_character.ipynb",
      "provenance": [],
      "collapsed_sections": []
    },
    "kernelspec": {
      "name": "python3",
      "display_name": "Python 3"
    }
  },
  "cells": [
    {
      "cell_type": "markdown",
      "metadata": {
        "id": "eSlCTBBhvHeP"
      },
      "source": [
        "### **Program to print ASCII Value of a character**\r\n",
        "\r\n",
        "\r\n"
      ]
    },
    {
      "cell_type": "code",
      "metadata": {
        "colab": {
          "base_uri": "https://localhost:8080/"
        },
        "id": "4EJVB2fFtjLX",
        "outputId": "61816e7c-c827-4871-d1e2-c2a8ca79fa59"
      },
      "source": [
        "# Python program to print \r\n",
        "# ASCII Value of Character \r\n",
        "\r\n",
        "# In c we can assign different \r\n",
        "# characters of which we want ASCII value \r\n",
        "\r\n",
        "c = 'g'\r\n",
        "# print the ASCII value of assigned character in c \r\n",
        "print(\"The ASCII value of '\" + c + \"' is\", ord(c)) \r\n"
      ],
      "execution_count": 20,
      "outputs": [
        {
          "output_type": "stream",
          "text": [
            "The ASCII value of 'g' is 103\n"
          ],
          "name": "stdout"
        }
      ]
    },
    {
      "cell_type": "markdown",
      "metadata": {
        "id": "uhpoe0_f6BCU"
      },
      "source": [
        "ord() : It coverts the given string of length one, return an integer representing the unicode code point of the character. For example, ord(‘a’) returns the integer 97.\r\n"
      ]
    }
  ]
}