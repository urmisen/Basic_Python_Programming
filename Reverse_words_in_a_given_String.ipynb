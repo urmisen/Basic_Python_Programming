{
  "nbformat": 4,
  "nbformat_minor": 0,
  "metadata": {
    "colab": {
      "name": "Reverse_words_in_a_given_String.ipynb",
      "provenance": [],
      "collapsed_sections": []
    },
    "kernelspec": {
      "name": "python3",
      "display_name": "Python 3"
    }
  },
  "cells": [
    {
      "cell_type": "markdown",
      "metadata": {
        "id": "eSlCTBBhvHeP"
      },
      "source": [
        "### **Reverse words in a given String in Python**\r\n",
        "\r\n",
        "Method #1 \r\n",
        "\r\n",
        "* Separate each word in given string using split() method of string data type in python.\r\n",
        "* Reverse the word separated list.\r\n",
        "* Print words of list, in string form after joining each word with space using ” “.join() method in python.\r\n",
        "\r\n",
        "\r\n",
        "\r\n"
      ]
    },
    {
      "cell_type": "code",
      "metadata": {
        "colab": {
          "base_uri": "https://localhost:8080/"
        },
        "id": "HEM_sUtkGavb",
        "outputId": "b74d8763-aed6-4be0-dd8a-7e7185552630"
      },
      "source": [
        "# Function to reverse words of string \r\n",
        "\r\n",
        "def rev_sentence(sentence): \r\n",
        "\r\n",
        "\t# first split the string into words \r\n",
        "\twords = sentence.split(' ') \r\n",
        "\r\n",
        "\t# then reverse the split string list and join using space \r\n",
        "\treverse_sentence = ' '.join(reversed(words)) \r\n",
        "\r\n",
        "\t# finally return the joined string \r\n",
        "\treturn reverse_sentence \r\n",
        "\r\n",
        "if __name__ == \"__main__\": \r\n",
        "\tinput = 'geeks quiz practice code'\r\n",
        "\tprint (rev_sentence(input)) \r\n"
      ],
      "execution_count": 15,
      "outputs": [
        {
          "output_type": "stream",
          "text": [
            "code practice quiz geeks\n"
          ],
          "name": "stdout"
        }
      ]
    },
    {
      "cell_type": "markdown",
      "metadata": {
        "id": "mut12yxoX9ty"
      },
      "source": [
        "Method #2 : Iterative Method: \r\n",
        "\r\n",
        "This method is contributed by Shariq Raza. Run a loop from starting to length/2 and check the first character to the last character of the string and second to second last one and so on …. If any character mismatches, the string wouldn’t be a palindrome."
      ]
    },
    {
      "cell_type": "code",
      "metadata": {
        "colab": {
          "base_uri": "https://localhost:8080/"
        },
        "id": "q8H7nZEwPJrd",
        "outputId": "a50bb63d-4ffa-40fa-ecab-250c5691ad65"
      },
      "source": [
        "# function to check string is \r\n",
        "# palindrome or not \r\n",
        "def isPalindrome(str):\r\n",
        "\r\n",
        "\t# Run loop from 0 to len/2 \r\n",
        "\tfor i in range(0, int(len(str)/2)): \r\n",
        "\t\tif str[i] != str[len(str)-i-1]:\r\n",
        "\t\t\treturn False\r\n",
        "\treturn True\r\n",
        "\r\n",
        "# main function\r\n",
        "s = \"malayalam\"\r\n",
        "ans = isPalindrome(s)\r\n",
        "\r\n",
        "if (ans):\r\n",
        "\tprint(\"Yes\")\r\n",
        "else:\r\n",
        "\tprint(\"No\")\r\n"
      ],
      "execution_count": 14,
      "outputs": [
        {
          "output_type": "stream",
          "text": [
            "Yes\n"
          ],
          "name": "stdout"
        }
      ]
    },
    {
      "cell_type": "code",
      "metadata": {
        "id": "u2B3oYDVZvtR"
      },
      "source": [
        ""
      ],
      "execution_count": null,
      "outputs": []
    }
  ]
}