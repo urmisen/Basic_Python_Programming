{
  "nbformat": 4,
  "nbformat_minor": 0,
  "metadata": {
    "colab": {
      "name": "check_if_given_array_is_Monotonic.ipynb",
      "provenance": [],
      "collapsed_sections": []
    },
    "kernelspec": {
      "name": "python3",
      "display_name": "Python 3"
    }
  },
  "cells": [
    {
      "cell_type": "markdown",
      "metadata": {
        "id": "eSlCTBBhvHeP"
      },
      "source": [
        "### **Python Program to check if given array is Monotonic**\r\n",
        "\r\n",
        "An array is monotonic if it is either monotone increasing or monotone decreasing.\r\n",
        "An array A is monotone increasing if for all i <= j, A[i] <= A[j]. An array A is monotone decreasing if for all i <= j, A[i] >= A[j]."
      ]
    },
    {
      "cell_type": "code",
      "metadata": {
        "colab": {
          "base_uri": "https://localhost:8080/"
        },
        "id": "HEM_sUtkGavb",
        "outputId": "fe5b0f38-9f44-433d-b171-445e8fb0bf5a"
      },
      "source": [
        "# Python3 program to find sum in Nth group \r\n",
        "\r\n",
        "# Check if given array is Monotonic \r\n",
        "def isMonotonic(A): \r\n",
        "\r\n",
        "\treturn (all(A[i] <= A[i + 1] for i in range(len(A) - 1)) or\r\n",
        "\t\t\tall(A[i] >= A[i + 1] for i in range(len(A) - 1))) \r\n",
        "\r\n",
        "# Driver program \r\n",
        "A = [6, 5, 4, 4] \r\n",
        "\r\n",
        "# Print required result \r\n",
        "print(isMonotonic(A)) \r\n",
        "\r\n"
      ],
      "execution_count": 1,
      "outputs": [
        {
          "output_type": "stream",
          "text": [
            "True\n"
          ],
          "name": "stdout"
        }
      ]
    },
    {
      "cell_type": "markdown",
      "metadata": {
        "id": "48rIunQ8Pjvr"
      },
      "source": [
        "Time Complexity: O(N), where N is the length of array."
      ]
    },
    {
      "cell_type": "code",
      "metadata": {
        "id": "3Fy5GwL4NPMx"
      },
      "source": [
        ""
      ],
      "execution_count": 1,
      "outputs": []
    }
  ]
}