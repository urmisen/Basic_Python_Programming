{
  "nbformat": 4,
  "nbformat_minor": 0,
  "metadata": {
    "colab": {
      "name": " to_accept_the_strings_which_contains_all_vowels.ipynb",
      "provenance": [],
      "collapsed_sections": []
    },
    "kernelspec": {
      "name": "python3",
      "display_name": "Python 3"
    }
  },
  "cells": [
    {
      "cell_type": "markdown",
      "metadata": {
        "id": "eSlCTBBhvHeP"
      },
      "source": [
        "### **Python | Program to accept the strings which contains all vowels**\r\n",
        "\r\n",
        "Approach : Firstly, create set of vowels using set() function. Check for each character of the string is vowel or not, if vowel then add into the set s. After coming out of the loop, check length of the set s, if length of set s is equal to the length of the vowels set then string is accepted otherwise not.\r\n",
        "\r\n",
        "\r\n"
      ]
    },
    {
      "cell_type": "code",
      "metadata": {
        "colab": {
          "base_uri": "https://localhost:8080/"
        },
        "id": "HEM_sUtkGavb",
        "outputId": "da5a724f-f0af-44b7-a16a-7ad6257af0ae"
      },
      "source": [
        "# Python program to accept the strings\r\n",
        "# which contains all the vowels\r\n",
        "\r\n",
        "# Function for check if string\r\n",
        "# is accepted or not\r\n",
        "def check(string) :\r\n",
        "\r\n",
        "\tstring = string.lower()\r\n",
        "\r\n",
        "\t# set() function convert \"aeiou\"\r\n",
        "\t# string into set of characters\r\n",
        "\t# i.e.vowels = {'a', 'e', 'i', 'o', 'u'}\r\n",
        "\tvowels = set(\"aeiou\")\r\n",
        "\r\n",
        "\t# set() function convert empty \r\n",
        "\t# dictionary into empty set\r\n",
        "\ts = set({})\r\n",
        "\r\n",
        "\t# looping through each\r\n",
        "\t# character of the string\r\n",
        "\tfor char in string :\r\n",
        "\r\n",
        "\t\t# Check for the character is present inside\r\n",
        "\t\t# the vowels set or not. If present, then\r\n",
        "\t\t# add into the set s by using add method\r\n",
        "\t\tif char in vowels :\r\n",
        "\t\t\ts.add(char)\r\n",
        "\t\telse:\r\n",
        "\t\t\tpass\r\n",
        "\t\t\t\r\n",
        "\t# check the length of set s equal to length \r\n",
        "\t# of vowels set or not. If equal, string is \r\n",
        "\t# accepted otherwise not\r\n",
        "\tif len(s) == len(vowels) :\r\n",
        "\t\tprint(\"Accepted\")\r\n",
        "\telse :\r\n",
        "\t\tprint(\"Not Accepted\")\r\n",
        "\r\n",
        "\r\n",
        "# Driver code\r\n",
        "if __name__ == \"__main__\" :\r\n",
        "\t\r\n",
        "\tstring = \"SEEquoiaL\"\r\n",
        "\r\n",
        "\t# calling function\r\n",
        "\tcheck(string)\r\n"
      ],
      "execution_count": 26,
      "outputs": [
        {
          "output_type": "stream",
          "text": [
            "Accepted\n"
          ],
          "name": "stdout"
        }
      ]
    },
    {
      "cell_type": "code",
      "metadata": {
        "id": "RBnRW9wbAJkU"
      },
      "source": [
        ""
      ],
      "execution_count": null,
      "outputs": []
    }
  ]
}