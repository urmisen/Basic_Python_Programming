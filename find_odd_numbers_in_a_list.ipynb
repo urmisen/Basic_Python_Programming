{
  "nbformat": 4,
  "nbformat_minor": 0,
  "metadata": {
    "colab": {
      "name": "find_odd_numbers_in_a_list.ipynb",
      "provenance": [],
      "collapsed_sections": []
    },
    "kernelspec": {
      "name": "python3",
      "display_name": "Python 3"
    }
  },
  "cells": [
    {
      "cell_type": "markdown",
      "metadata": {
        "id": "eSlCTBBhvHeP"
      },
      "source": [
        "### **Python program to print odd numbers in a List**\r\n",
        "Using for loop : Iterate each element in the list using for loop and check if num % 2 != 0. If the condition satisfies, then only print the number.\r\n",
        "\r\n",
        "\r\n",
        "\r\n",
        "\r\n",
        "\r\n"
      ]
    },
    {
      "cell_type": "code",
      "metadata": {
        "colab": {
          "base_uri": "https://localhost:8080/"
        },
        "id": "HEM_sUtkGavb",
        "outputId": "867bcd61-dd49-4d88-a0f4-733978aeefb7"
      },
      "source": [
        "# Python program to print odd Numbers in a List \r\n",
        "\r\n",
        "# list of numbers \r\n",
        "list1 = [10, 21, 4, 45, 66, 93] \r\n",
        "\r\n",
        "# iterating each number in list \r\n",
        "for num in list1: \r\n",
        "\t\r\n",
        "\t# checking condition \r\n",
        "\tif num % 2 != 0: \r\n",
        "\t  print(num, end = \" \") \r\n"
      ],
      "execution_count": 14,
      "outputs": [
        {
          "output_type": "stream",
          "text": [
            "21 45 93 "
          ],
          "name": "stdout"
        }
      ]
    },
    {
      "cell_type": "markdown",
      "metadata": {
        "id": "vKouqmIUnsD_"
      },
      "source": [
        "Method 2 : Using list comprehension :"
      ]
    },
    {
      "cell_type": "code",
      "metadata": {
        "colab": {
          "base_uri": "https://localhost:8080/"
        },
        "id": "2tN6UgHEiRtd",
        "outputId": "3f851cfd-2c2a-4fa3-b99a-26403dd61739"
      },
      "source": [
        "# Python program to print odd Numbers in a List \r\n",
        "\r\n",
        "# list of numbers \r\n",
        "list1 = [10, 21, 4, 45, 66, 93] \r\n",
        "\r\n",
        "only_odd = [num for num in list1 if num % 2 == 1] \r\n",
        "\r\n",
        "print(only_odd) \r\n"
      ],
      "execution_count": 15,
      "outputs": [
        {
          "output_type": "stream",
          "text": [
            "[21, 45, 93]\n"
          ],
          "name": "stdout"
        }
      ]
    },
    {
      "cell_type": "markdown",
      "metadata": {
        "id": "OlMRWKQaz_Lr"
      },
      "source": [
        "Using lambda expressions :"
      ]
    },
    {
      "cell_type": "code",
      "metadata": {
        "colab": {
          "base_uri": "https://localhost:8080/"
        },
        "id": "9DMPQxJHudRH",
        "outputId": "e76e4ee8-39b7-4401-ba0c-d06fbef0ed88"
      },
      "source": [
        "# Python program to print odd numbers in a List \r\n",
        "\r\n",
        "# list of numbers \r\n",
        "list1 = [10, 21, 4, 45, 66, 93, 11] \r\n",
        "\r\n",
        "\r\n",
        "# we can also print odd no's using lambda exp. \r\n",
        "odd_nos = list(filter(lambda x: (x % 2 != 0), list1)) \r\n",
        "\r\n",
        "print(\"Odd numbers in the list: \", odd_nos) \r\n"
      ],
      "execution_count": 16,
      "outputs": [
        {
          "output_type": "stream",
          "text": [
            "Odd numbers in the list:  [21, 45, 93, 11]\n"
          ],
          "name": "stdout"
        }
      ]
    },
    {
      "cell_type": "code",
      "metadata": {
        "id": "ZAGM-tST0F-b"
      },
      "source": [
        ""
      ],
      "execution_count": null,
      "outputs": []
    }
  ]
}