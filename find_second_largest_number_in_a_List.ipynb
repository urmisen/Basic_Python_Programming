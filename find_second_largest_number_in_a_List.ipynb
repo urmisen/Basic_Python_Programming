{
  "nbformat": 4,
  "nbformat_minor": 0,
  "metadata": {
    "colab": {
      "name": "find_second_largest_number_in_a_List.ipynb",
      "provenance": [],
      "collapsed_sections": []
    },
    "kernelspec": {
      "name": "python3",
      "display_name": "Python 3"
    }
  },
  "cells": [
    {
      "cell_type": "markdown",
      "metadata": {
        "id": "eSlCTBBhvHeP"
      },
      "source": [
        "### **Python program to find second largest number in a list**\r\n",
        "\r\n",
        "Method 1: Sorting is an easier but less optimal method. Given below is an O(n) algorithm to do the same. \r\n",
        "\r\n",
        "\r\n"
      ]
    },
    {
      "cell_type": "code",
      "metadata": {
        "colab": {
          "base_uri": "https://localhost:8080/"
        },
        "id": "HEM_sUtkGavb",
        "outputId": "589798e9-0612-48bf-bbed-87a0edc0780a"
      },
      "source": [
        "# Python program to find second largest\r\n",
        "# number in a list\r\n",
        "\r\n",
        "# list of numbers - length of \r\n",
        "# list should be at least 2\r\n",
        "list1 = [10, 20, 4, 45, 99]\r\n",
        "\r\n",
        "mx=max(list1[0],list1[1]) \r\n",
        "secondmax=min(list1[0],list1[1]) \r\n",
        "n =len(list1)\r\n",
        "for i in range(2,n): \r\n",
        "\tif list1[i]>mx: \r\n",
        "\t\tsecondmax=mx\r\n",
        "\t\tmx=list1[i] \r\n",
        "\telif list1[i]>secondmax and \\\r\n",
        "\t\tmx != list1[i]: \r\n",
        "\t\tsecondmax=list1[i]\r\n",
        "\r\n",
        "print(\"Second highest number is : \",\\\r\n",
        "\tstr(secondmax))\r\n"
      ],
      "execution_count": 12,
      "outputs": [
        {
          "output_type": "stream",
          "text": [
            "Second highest number is :  45\n"
          ],
          "name": "stdout"
        }
      ]
    },
    {
      "cell_type": "markdown",
      "metadata": {
        "id": "vKouqmIUnsD_"
      },
      "source": [
        "Method 2: Sort the list in ascending order and print the second last element in the list. "
      ]
    },
    {
      "cell_type": "code",
      "metadata": {
        "colab": {
          "base_uri": "https://localhost:8080/"
        },
        "id": "2tN6UgHEiRtd",
        "outputId": "1fcb7e3f-3f5e-4d63-86e3-c70270e8c227"
      },
      "source": [
        "# Python program to find largest\r\n",
        "# number in a list\r\n",
        "\r\n",
        "# list of numbers\r\n",
        "list1 = [10, 20, 4, 45, 99]\r\n",
        "\r\n",
        "# sorting the list\r\n",
        "list1.sort()\r\n",
        "\r\n",
        "# printing the second last element\r\n",
        "print(\"Second largest element is:\", list1[-2])\r\n"
      ],
      "execution_count": 13,
      "outputs": [
        {
          "output_type": "stream",
          "text": [
            "Second largest element is: 45\n"
          ],
          "name": "stdout"
        }
      ]
    },
    {
      "cell_type": "markdown",
      "metadata": {
        "id": "4ZaqtbZqpF3s"
      },
      "source": [
        "Method 3: By removing the max element from the list "
      ]
    },
    {
      "cell_type": "code",
      "metadata": {
        "colab": {
          "base_uri": "https://localhost:8080/"
        },
        "id": "O_gldxCcn1-S",
        "outputId": "a6ef5511-1d02-4220-fb95-23fb5ec61099"
      },
      "source": [
        "# Python program to find second largest\r\n",
        "# number in a list\r\n",
        "\r\n",
        "# list of numbers\r\n",
        "list1 = [10, 20, 4, 45, 99]\r\n",
        "\r\n",
        "# new_list is a set of list1\r\n",
        "new_list = set(list1)\r\n",
        "\r\n",
        "# removing the largest element from temp list\r\n",
        "new_list.remove(max(new_list))\r\n",
        "\r\n",
        "# elements in original list are not changed\r\n",
        "# print(list1)\r\n",
        "\r\n",
        "print(max(new_list))\r\n"
      ],
      "execution_count": 14,
      "outputs": [
        {
          "output_type": "stream",
          "text": [
            "45\n"
          ],
          "name": "stdout"
        }
      ]
    },
    {
      "cell_type": "markdown",
      "metadata": {
        "id": "0suPbvfwuYAU"
      },
      "source": [
        "Method 4: Find max list element on inputs provided by the user "
      ]
    },
    {
      "cell_type": "code",
      "metadata": {
        "colab": {
          "base_uri": "https://localhost:8080/"
        },
        "id": "dFaPoqP7qd3o",
        "outputId": "c1cf5bff-8810-49ba-a0dc-4595683f234d"
      },
      "source": [
        "# Python program to find second largest\r\n",
        "# number in a list\r\n",
        "\r\n",
        "# creating empty list\r\n",
        "list1 = []\r\n",
        "\r\n",
        "# asking number of elements to put in list\r\n",
        "num = int(input(\"Enter number of elements in list: \"))\r\n",
        "\r\n",
        "# iterating till num to append elements in list\r\n",
        "for i in range(1, num + 1):\r\n",
        "\tele = int(input(\"Enter elements: \"))\r\n",
        "\tlist1.append(ele)\r\n",
        "\r\n",
        "'''\r\n",
        "# sort the list \r\n",
        "list1.sort()\r\n",
        "\t\r\n",
        "# print second maximum element\r\n",
        "print(\"Second largest element is:\", list1[-2])\r\n",
        "\r\n",
        "'''\r\n",
        "\r\n",
        "# print second maximum element using sorted() method\r\n",
        "print(\"Second largest element is:\", sorted(list1)[-2])\r\n"
      ],
      "execution_count": 18,
      "outputs": [
        {
          "output_type": "stream",
          "text": [
            "Enter number of elements in list: 4\n",
            "Enter elements: 6\n",
            "Enter elements: 7\n",
            "Enter elements: 3\n",
            "Enter elements: 11\n",
            "Second largest element is: 7\n"
          ],
          "name": "stdout"
        }
      ]
    },
    {
      "cell_type": "code",
      "metadata": {
        "id": "9DMPQxJHudRH"
      },
      "source": [
        ""
      ],
      "execution_count": null,
      "outputs": []
    }
  ]
}