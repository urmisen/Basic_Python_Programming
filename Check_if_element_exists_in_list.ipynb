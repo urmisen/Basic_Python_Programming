{
  "nbformat": 4,
  "nbformat_minor": 0,
  "metadata": {
    "colab": {
      "name": "Check_if_element_exists_in_list.ipynb",
      "provenance": [],
      "collapsed_sections": []
    },
    "kernelspec": {
      "name": "python3",
      "display_name": "Python 3"
    }
  },
  "cells": [
    {
      "cell_type": "markdown",
      "metadata": {
        "id": "eSlCTBBhvHeP"
      },
      "source": [
        "### **Check if element exists in list in Python**\r\n",
        "\r\n",
        "Method 1 : Naive Method\r\n",
        "\r\n",
        "In Naive method, one easily uses a loop that iterates through all the elements to check the existence of the target element. This is the simplest way to check the existence of the element in the list."
      ]
    },
    {
      "cell_type": "code",
      "metadata": {
        "colab": {
          "base_uri": "https://localhost:8080/"
        },
        "id": "HEM_sUtkGavb",
        "outputId": "709642ca-5afa-4905-fbd0-656a8e3b6d07"
      },
      "source": [
        "# Python code to demonstrate \r\n",
        "# checking of element existence \r\n",
        "# using loops and in \r\n",
        "\r\n",
        "# Initializing list \r\n",
        "test_list = [ 1, 6, 3, 5, 3, 4 ] \r\n",
        "\r\n",
        "print(\"Checking if 4 exists in list ( using loop ) : \") \r\n",
        "\r\n",
        "# Checking if 4 exists in list \r\n",
        "# using loop \r\n",
        "for i in test_list: \r\n",
        "\tif(i == 4) : \r\n",
        "\t\tprint (\"Element Exists\") \r\n",
        "\r\n",
        "print(\"Checking if 4 exists in list ( using in ) : \") \r\n",
        "\r\n",
        "# Checking if 4 exists in list \r\n",
        "# using in \r\n",
        "if (4 in test_list): \r\n",
        "\tprint (\"Element Exists\") \r\n"
      ],
      "execution_count": 1,
      "outputs": [
        {
          "output_type": "stream",
          "text": [
            "Checking if 4 exists in list ( using loop ) : \n",
            "Element Exists\n",
            "Checking if 4 exists in list ( using in ) : \n",
            "Element Exists\n"
          ],
          "name": "stdout"
        }
      ]
    },
    {
      "cell_type": "code",
      "metadata": {
        "id": "2tN6UgHEiRtd"
      },
      "source": [
        ""
      ],
      "execution_count": 1,
      "outputs": []
    }
  ]
}