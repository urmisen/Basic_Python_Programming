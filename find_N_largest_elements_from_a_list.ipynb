{
  "nbformat": 4,
  "nbformat_minor": 0,
  "metadata": {
    "colab": {
      "name": "find_N_largest_elements_from_a_list.ipynb",
      "provenance": [],
      "collapsed_sections": []
    },
    "kernelspec": {
      "name": "python3",
      "display_name": "Python 3"
    }
  },
  "cells": [
    {
      "cell_type": "markdown",
      "metadata": {
        "id": "eSlCTBBhvHeP"
      },
      "source": [
        "### **Python program to find N largest elements from a list**\r\n",
        "\r\n",
        "A simple solution traverse the given list N times. In every traversal, find the maximum, add it to result, and remove it from the list. Below is the implementation :\r\n"
      ]
    },
    {
      "cell_type": "code",
      "metadata": {
        "colab": {
          "base_uri": "https://localhost:8080/"
        },
        "id": "HEM_sUtkGavb",
        "outputId": "7fd37c9d-8b6b-4acd-dc83-d08c6797f8aa"
      },
      "source": [
        "# Python program to find N largest \r\n",
        "# element from given list of integers \r\n",
        "\r\n",
        "# Function returns N largest elements \r\n",
        "def Nmaxelements(list1, N): \r\n",
        "\tfinal_list = [] \r\n",
        "\r\n",
        "\tfor i in range(0, N): \r\n",
        "\t\tmax1 = 0\r\n",
        "\t\t\r\n",
        "\t\tfor j in range(len(list1)):\t \r\n",
        "\t\t\tif list1[j] > max1: \r\n",
        "\t\t\t\tmax1 = list1[j]; \r\n",
        "\t\t\t\t\r\n",
        "\t\tlist1.remove(max1); \r\n",
        "\t\tfinal_list.append(max1) \r\n",
        "\t\t\r\n",
        "\tprint(final_list) \r\n",
        "\r\n",
        "# Driver code \r\n",
        "list1 = [2, 6, 41, 85, 0, 3, 7, 6, 10] \r\n",
        "N = 2\r\n",
        "\r\n",
        "# Calling the function \r\n",
        "Nmaxelements(list1, N) \r\n"
      ],
      "execution_count": 1,
      "outputs": [
        {
          "output_type": "stream",
          "text": [
            "[85, 41]\n"
          ],
          "name": "stdout"
        }
      ]
    },
    {
      "cell_type": "markdown",
      "metadata": {
        "id": "vKouqmIUnsD_"
      },
      "source": [
        "Method 2"
      ]
    },
    {
      "cell_type": "code",
      "metadata": {
        "colab": {
          "base_uri": "https://localhost:8080/"
        },
        "id": "2tN6UgHEiRtd",
        "outputId": "1cb99890-7f65-4a7d-ee80-9e67b5a17e4e"
      },
      "source": [
        "# Python program to find N largest \r\n",
        "# element from given list of integers \r\n",
        "\r\n",
        "l = [1000,298,3579,100,200,-45,900] \r\n",
        "n = 4\r\n",
        "\r\n",
        "l.sort() \r\n",
        "print(l[-n:]) \r\n"
      ],
      "execution_count": 2,
      "outputs": [
        {
          "output_type": "stream",
          "text": [
            "[298, 900, 1000, 3579]\n"
          ],
          "name": "stdout"
        }
      ]
    },
    {
      "cell_type": "code",
      "metadata": {
        "id": "9DMPQxJHudRH"
      },
      "source": [
        ""
      ],
      "execution_count": 2,
      "outputs": []
    }
  ]
}