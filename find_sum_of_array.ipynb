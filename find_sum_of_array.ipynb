{
  "nbformat": 4,
  "nbformat_minor": 0,
  "metadata": {
    "colab": {
      "name": "find_sum_of_array.ipynb",
      "provenance": [],
      "collapsed_sections": []
    },
    "kernelspec": {
      "name": "python3",
      "display_name": "Python 3"
    }
  },
  "cells": [
    {
      "cell_type": "markdown",
      "metadata": {
        "id": "eSlCTBBhvHeP"
      },
      "source": [
        "### **Python Program to find sum of array**"
      ]
    },
    {
      "cell_type": "code",
      "metadata": {
        "colab": {
          "base_uri": "https://localhost:8080/"
        },
        "id": "4EJVB2fFtjLX",
        "outputId": "6326ccce-2fc9-44cc-81f5-da8350073210"
      },
      "source": [
        "# Python 3 code to find sum \r\n",
        "# of elements in given array \r\n",
        "def _sum(arr): \r\n",
        "\t\r\n",
        "\t# initialize a variable \r\n",
        "\t# to store the sum \r\n",
        "\t# while iterating through \r\n",
        "\t# the array later \r\n",
        "\tsum=0\r\n",
        "\t\r\n",
        "\t# iterate through the array \r\n",
        "\t# and add each element to the sum variable \r\n",
        "\t# one at a time \r\n",
        "\tfor i in arr: \r\n",
        "\t\tsum = sum + i \r\n",
        "\t\t\r\n",
        "\treturn(sum) \r\n",
        "\r\n",
        "# driver function \r\n",
        "arr=[] \r\n",
        "# input values to list \r\n",
        "arr = [12, 3, 4, 15] \r\n",
        "\r\n",
        "# calculating length of array \r\n",
        "n = len(arr) \r\n",
        "\r\n",
        "ans = _sum(arr) \r\n",
        "\r\n",
        "# display sum \r\n",
        "print ('Sum of the array is ', ans) \r\n",
        "\r\n",
        "# This code is contributed by Himanshu Ranjan \r\n"
      ],
      "execution_count": 24,
      "outputs": [
        {
          "output_type": "stream",
          "text": [
            "Sum of the array is  34\n"
          ],
          "name": "stdout"
        }
      ]
    },
    {
      "cell_type": "code",
      "metadata": {
        "id": "ueubT7XiAmhn"
      },
      "source": [
        ""
      ],
      "execution_count": null,
      "outputs": []
    }
  ]
}