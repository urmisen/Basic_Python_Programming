{
  "nbformat": 4,
  "nbformat_minor": 0,
  "metadata": {
    "colab": {
      "name": " Check_if_a_Substring_is_Present_in_a_Given_String.ipynb",
      "provenance": [],
      "collapsed_sections": []
    },
    "kernelspec": {
      "name": "python3",
      "display_name": "Python 3"
    }
  },
  "cells": [
    {
      "cell_type": "markdown",
      "metadata": {
        "id": "eSlCTBBhvHeP"
      },
      "source": [
        "### **Python | Check if a Substring is Present in a Given String**\r\n",
        "\r\n",
        "Method 1: Using user defined function.\r\n",
        "\r\n",
        "\r\n",
        "\r\n"
      ]
    },
    {
      "cell_type": "code",
      "metadata": {
        "colab": {
          "base_uri": "https://localhost:8080/"
        },
        "id": "HEM_sUtkGavb",
        "outputId": "e2939f9d-d353-42c3-eacb-555300a1ce49"
      },
      "source": [
        "# function to check if small string is \r\n",
        "# there in big string \r\n",
        "def check(string, sub_str): \r\n",
        "\tif (string.find(sub_str) == -1): \r\n",
        "\t\tprint(\"NO\") \r\n",
        "\telse: \r\n",
        "\t\tprint(\"YES\") \r\n",
        "\t\t\t\r\n",
        "# driver code \r\n",
        "string = \"geeks for geeks\"\r\n",
        "sub_str =\"geek\"\r\n",
        "check(string, sub_str) \r\n"
      ],
      "execution_count": 20,
      "outputs": [
        {
          "output_type": "stream",
          "text": [
            "YES\n"
          ],
          "name": "stdout"
        }
      ]
    },
    {
      "cell_type": "markdown",
      "metadata": {
        "id": "LliOai1C_pJV"
      },
      "source": [
        "Method 2 : Method 2: Using “count()” method:-\r\n",
        "\r\n"
      ]
    },
    {
      "cell_type": "code",
      "metadata": {
        "id": "u2B3oYDVZvtR",
        "colab": {
          "base_uri": "https://localhost:8080/"
        },
        "outputId": "c210c377-cfed-4edf-e9de-19aa6e5d638b"
      },
      "source": [
        "def check(s2, s1): \r\n",
        "\tif (s2.count(s1)>0):\t \r\n",
        "\t\tprint(\"YES\") \r\n",
        "\telse: \r\n",
        "\t\tprint(\"NO\") \r\n",
        "\t\t\t\r\n",
        "s2 = \"A geek in need is a geek indeed\"\r\n",
        "s1 =\"geek\"\r\n",
        "check(s2, s1) \r\n"
      ],
      "execution_count": 21,
      "outputs": [
        {
          "output_type": "stream",
          "text": [
            "YES\n"
          ],
          "name": "stdout"
        }
      ]
    },
    {
      "cell_type": "markdown",
      "metadata": {
        "id": "hICnpThfABkE"
      },
      "source": [
        "Method 3: Using regular expressions\r\n",
        "\r\n",
        "RegEx can be used to check if a string contains the specified search pattern. Python has a built-in package called re, which can be used to work with Regular Expressions."
      ]
    },
    {
      "cell_type": "code",
      "metadata": {
        "colab": {
          "base_uri": "https://localhost:8080/"
        },
        "id": "JjO8Xedk_zIs",
        "outputId": "f84db1d4-0272-421a-8f2a-b78ca328fc71"
      },
      "source": [
        "# When you have imported the re module, you can start using regular expressions. \r\n",
        "import re \r\n",
        "\r\n",
        "# Take input from users \r\n",
        "MyString1 = \"A geek in need is a geek indeed\"\r\n",
        "MyString2 =\"geek\"\r\n",
        "\r\n",
        "# re.search() returns a Match object if there is a match anywhere in the string \r\n",
        "if re.search( MyString2, MyString1 ): \r\n",
        "\tprint(\"YES,string '{0}' is present in string '{1}' \" .format(MyString2,MyString1)) \r\n",
        "else: \r\n",
        "\tprint(\"NO,string '{0}' is not present in string {1} \" .format(MyString2, MyString1) ) \r\n"
      ],
      "execution_count": 22,
      "outputs": [
        {
          "output_type": "stream",
          "text": [
            "YES,string 'geek' is present in string 'A geek in need is a geek indeed' \n"
          ],
          "name": "stdout"
        }
      ]
    },
    {
      "cell_type": "code",
      "metadata": {
        "id": "RBnRW9wbAJkU"
      },
      "source": [
        ""
      ],
      "execution_count": null,
      "outputs": []
    }
  ]
}