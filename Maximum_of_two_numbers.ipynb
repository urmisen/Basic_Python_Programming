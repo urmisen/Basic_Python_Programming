{
  "nbformat": 4,
  "nbformat_minor": 0,
  "metadata": {
    "colab": {
      "name": "Maximum_of_two_numbers.ipynb",
      "provenance": []
    },
    "kernelspec": {
      "name": "python3",
      "display_name": "Python 3"
    }
  },
  "cells": [
    {
      "cell_type": "markdown",
      "metadata": {
        "id": "eSlCTBBhvHeP"
      },
      "source": [
        "### **Maximum of two numbers in Python**\r\n",
        "\r\n",
        "Method-1: If-else method"
      ]
    },
    {
      "cell_type": "code",
      "metadata": {
        "colab": {
          "base_uri": "https://localhost:8080/"
        },
        "id": "4EJVB2fFtjLX",
        "outputId": "a6a30e47-a177-48e0-ed56-4d4d167e0b6e"
      },
      "source": [
        "# Python program to find the \r\n",
        "# maximum of two numbers \r\n",
        "  \r\n",
        "  \r\n",
        "def maximum(a, b): \r\n",
        "      \r\n",
        "    if a >= b: \r\n",
        "        return a \r\n",
        "    else: \r\n",
        "        return b \r\n",
        "      \r\n",
        "# Driver code \r\n",
        "a = 8\r\n",
        "b = 6\r\n",
        "print(maximum(a, b)) "
      ],
      "execution_count": 5,
      "outputs": [
        {
          "output_type": "stream",
          "text": [
            "8\n"
          ],
          "name": "stdout"
        }
      ]
    },
    {
      "cell_type": "markdown",
      "metadata": {
        "id": "0W9ZY7Cfvpzk"
      },
      "source": [
        "Method #2: Using max() function"
      ]
    },
    {
      "cell_type": "code",
      "metadata": {
        "colab": {
          "base_uri": "https://localhost:8080/"
        },
        "id": "mpaIuWI3vRTZ",
        "outputId": "938b6453-476c-49fe-cc33-e6ff2e7aaf24"
      },
      "source": [
        "# Python program to find the \r\n",
        "# maximum of two numbers \r\n",
        "\r\n",
        "\r\n",
        "a = 8\r\n",
        "b = 4\r\n",
        "\r\n",
        "maximum = max(a, b) \r\n",
        "print(maximum) \r\n"
      ],
      "execution_count": 6,
      "outputs": [
        {
          "output_type": "stream",
          "text": [
            "8\n"
          ],
          "name": "stdout"
        }
      ]
    },
    {
      "cell_type": "code",
      "metadata": {
        "id": "0MmEhcchvvSQ"
      },
      "source": [
        ""
      ],
      "execution_count": null,
      "outputs": []
    }
  ]
}