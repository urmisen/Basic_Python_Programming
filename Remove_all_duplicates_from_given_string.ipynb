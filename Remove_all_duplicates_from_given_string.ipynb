{
  "nbformat": 4,
  "nbformat_minor": 0,
  "metadata": {
    "colab": {
      "name": " Remove_all_duplicates_from_given_string.ipynb",
      "provenance": [],
      "collapsed_sections": []
    },
    "kernelspec": {
      "name": "python3",
      "display_name": "Python 3"
    }
  },
  "cells": [
    {
      "cell_type": "markdown",
      "metadata": {
        "id": "eSlCTBBhvHeP"
      },
      "source": [
        "### **Remove all duplicates from a given string in Python**\r\n",
        "\r\n",
        "Method 1:\r\n",
        "\r\n",
        "\r\n"
      ]
    },
    {
      "cell_type": "code",
      "metadata": {
        "colab": {
          "base_uri": "https://localhost:8080/"
        },
        "id": "HEM_sUtkGavb",
        "outputId": "1506b432-4d0b-4091-ea18-e07e03f53f20"
      },
      "source": [
        "from collections import OrderedDict \r\n",
        "\r\n",
        "# Function to remove all duplicates from string \r\n",
        "# and order does not matter \r\n",
        "def removeDupWithoutOrder(str): \r\n",
        "\r\n",
        "\t# set() --> A Set is an unordered collection \r\n",
        "\t#\t\t data type that is iterable, mutable, \r\n",
        "\t#\t\t and has no duplicate elements. \r\n",
        "\t# \"\".join() --> It joins two adjacent elements in \r\n",
        "\t#\t\t\t iterable with any symbol defined in \r\n",
        "\t#\t\t\t \"\" ( double quotes ) and returns a \r\n",
        "\t#\t\t\t single string \r\n",
        "\treturn \"\".join(set(str)) \r\n",
        "\r\n",
        "# Function to remove all duplicates from string \r\n",
        "# and keep the order of characters same \r\n",
        "def removeDupWithOrder(str): \r\n",
        "\treturn \"\".join(OrderedDict.fromkeys(str)) \r\n",
        "\r\n",
        "# Driver program \r\n",
        "if __name__ == \"__main__\": \r\n",
        "\tstr = \"geeksforgeeks\"\r\n",
        "\tprint (\"Without Order = \",removeDupWithoutOrder(str)) \r\n",
        "\tprint (\"With Order = \",removeDupWithOrder(str)) \r\n"
      ],
      "execution_count": 27,
      "outputs": [
        {
          "output_type": "stream",
          "text": [
            "Without Order =  krfseog\n",
            "With Order =  geksfor\n"
          ],
          "name": "stdout"
        }
      ]
    },
    {
      "cell_type": "code",
      "metadata": {
        "colab": {
          "base_uri": "https://localhost:8080/"
        },
        "id": "RBnRW9wbAJkU",
        "outputId": "8e5cca8d-6e8e-49b5-dd4a-7c6479ea09a3"
      },
      "source": [
        "def removeDuplicate(str): \r\n",
        "\ts=set(str) \r\n",
        "\ts=\"\".join(s) \r\n",
        "\tprint(\"Without Order:\",s) \r\n",
        "\tt=\"\" \r\n",
        "\tfor i in str: \r\n",
        "\t\tif(i in t): \r\n",
        "\t\t\tpass\r\n",
        "\t\telse: \r\n",
        "\t\t\tt=t+i \r\n",
        "\t\tprint(\"With Order:\",t) \r\n",
        "\t\r\n",
        "str=\"geeksforgeeks\"\r\n",
        "removeDuplicate(str) \r\n"
      ],
      "execution_count": 28,
      "outputs": [
        {
          "output_type": "stream",
          "text": [
            "Without Order: krfseog\n",
            "With Order: g\n",
            "With Order: ge\n",
            "With Order: ge\n",
            "With Order: gek\n",
            "With Order: geks\n",
            "With Order: geksf\n",
            "With Order: geksfo\n",
            "With Order: geksfor\n",
            "With Order: geksfor\n",
            "With Order: geksfor\n",
            "With Order: geksfor\n",
            "With Order: geksfor\n",
            "With Order: geksfor\n"
          ],
          "name": "stdout"
        }
      ]
    },
    {
      "cell_type": "code",
      "metadata": {
        "id": "dC5x6QuHMf1s"
      },
      "source": [
        ""
      ],
      "execution_count": null,
      "outputs": []
    }
  ]
}