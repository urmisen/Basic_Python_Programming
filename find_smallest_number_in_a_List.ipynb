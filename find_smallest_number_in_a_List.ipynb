{
  "nbformat": 4,
  "nbformat_minor": 0,
  "metadata": {
    "colab": {
      "name": "find_smallest_number_in_a_List.ipynb",
      "provenance": [],
      "collapsed_sections": []
    },
    "kernelspec": {
      "name": "python3",
      "display_name": "Python 3"
    }
  },
  "cells": [
    {
      "cell_type": "markdown",
      "metadata": {
        "id": "eSlCTBBhvHeP"
      },
      "source": [
        "### **Python program to find smallest number in a list**\r\n",
        "\r\n",
        "Method 1 : Sort the list in ascending order and print the first element in the list.  \r\n",
        "\r\n",
        "\r\n"
      ]
    },
    {
      "cell_type": "code",
      "metadata": {
        "colab": {
          "base_uri": "https://localhost:8080/"
        },
        "id": "HEM_sUtkGavb",
        "outputId": "8073bb8e-ad3e-4278-c5f6-8484d372f8eb"
      },
      "source": [
        "# Python program to find smallest \r\n",
        "# number in a list\r\n",
        "\r\n",
        "# list of numbers\r\n",
        "list1 = [10, 20, 4, 45, 99]\r\n",
        "\r\n",
        "# sorting the list\r\n",
        "list1.sort()\r\n",
        "\r\n",
        "# printing the first element\r\n",
        "print(\"Smallest element is:\", *list1[:1])\r\n"
      ],
      "execution_count": 4,
      "outputs": [
        {
          "output_type": "stream",
          "text": [
            "Smallest element is: 4\n"
          ],
          "name": "stdout"
        }
      ]
    },
    {
      "cell_type": "markdown",
      "metadata": {
        "id": "vKouqmIUnsD_"
      },
      "source": [
        "Method 2 : Using min() method  \r\n",
        "\r\n"
      ]
    },
    {
      "cell_type": "code",
      "metadata": {
        "colab": {
          "base_uri": "https://localhost:8080/"
        },
        "id": "2tN6UgHEiRtd",
        "outputId": "1101fb5d-770c-4a74-a631-0caf730e1227"
      },
      "source": [
        "# Python program to find smallest \r\n",
        "# number in a list\r\n",
        "\r\n",
        "# list of numbers\r\n",
        "list1 = [10, 20, 1, 45, 99]\r\n",
        "\r\n",
        "\r\n",
        "# printing the maximum element\r\n",
        "print(\"Smallest element is:\", min(list1))\r\n"
      ],
      "execution_count": 5,
      "outputs": [
        {
          "output_type": "stream",
          "text": [
            "Smallest element is: 1\n"
          ],
          "name": "stdout"
        }
      ]
    },
    {
      "cell_type": "markdown",
      "metadata": {
        "id": "4ZaqtbZqpF3s"
      },
      "source": [
        "Method 3 : Find min list element on inputs provided by user. "
      ]
    },
    {
      "cell_type": "code",
      "metadata": {
        "colab": {
          "base_uri": "https://localhost:8080/"
        },
        "id": "O_gldxCcn1-S",
        "outputId": "0362166c-c6d5-43aa-8dd8-4def93ba2997"
      },
      "source": [
        "# Python program to find smallest \r\n",
        "# number in a list\r\n",
        "\r\n",
        "# creating empty list\r\n",
        "list1 = []\r\n",
        "\r\n",
        "# asking number of elements to put in list\r\n",
        "num = int(input(\"Enter number of elements in list: \"))\r\n",
        "\r\n",
        "# iterating till num to append elements in list\r\n",
        "for i in range(1, num + 1):\r\n",
        "\tele= int(input(\"Enter elements: \"))\r\n",
        "\tlist1.append(ele)\r\n",
        "\t\r\n",
        "# print maximum element\r\n",
        "print(\"Smallest element is:\", min(list1))\r\n"
      ],
      "execution_count": 6,
      "outputs": [
        {
          "output_type": "stream",
          "text": [
            "Enter number of elements in list: 5\n",
            "Enter elements: 3\n",
            "Enter elements: 5\n",
            "Enter elements: 8\n",
            "Enter elements: 9\n",
            "Enter elements: 22\n",
            "Smallest element is: 3\n"
          ],
          "name": "stdout"
        }
      ]
    },
    {
      "cell_type": "markdown",
      "metadata": {
        "id": "0suPbvfwuYAU"
      },
      "source": [
        "Method 4: Find the smallest element in list.  "
      ]
    },
    {
      "cell_type": "code",
      "metadata": {
        "colab": {
          "base_uri": "https://localhost:8080/"
        },
        "id": "dFaPoqP7qd3o",
        "outputId": "8c17a2bd-e665-4437-c3a7-a695964af4cd"
      },
      "source": [
        "# Python program to find smallest \r\n",
        "# number in a list\r\n",
        "\r\n",
        "l=[ int(l) for l in input(\"List:\").split(\",\")]\r\n",
        "print(\"The list is \",l)\r\n",
        "\r\n",
        "# Assign first element as a minimum.\r\n",
        "min1 = l[0]\r\n",
        "\r\n",
        "for i in range(len(l)):\r\n",
        "\r\n",
        "\t# If the other element is min than first element\r\n",
        "\tif l[i] < min1: \r\n",
        "\t\tmin1 = l[i] #It will change\r\n",
        "\r\n",
        "print(\"The smallest element in the list is \",min1)\r\n"
      ],
      "execution_count": 7,
      "outputs": [
        {
          "output_type": "stream",
          "text": [
            "List:4,6,8,11,15\n",
            "The list is  [4, 6, 8, 11, 15]\n",
            "The smallest element in the list is  4\n"
          ],
          "name": "stdout"
        }
      ]
    },
    {
      "cell_type": "code",
      "metadata": {
        "id": "9DMPQxJHudRH"
      },
      "source": [
        ""
      ],
      "execution_count": null,
      "outputs": []
    }
  ]
}