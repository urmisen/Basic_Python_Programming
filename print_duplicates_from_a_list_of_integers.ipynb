{
  "nbformat": 4,
  "nbformat_minor": 0,
  "metadata": {
    "colab": {
      "name": "print_duplicates_from_a_list_of_integers.ipynb",
      "provenance": [],
      "collapsed_sections": []
    },
    "kernelspec": {
      "name": "python3",
      "display_name": "Python 3"
    }
  },
  "cells": [
    {
      "cell_type": "markdown",
      "metadata": {
        "id": "eSlCTBBhvHeP"
      },
      "source": [
        "### **Python | Program to print duplicates from a list of integers**\r\n",
        "\r\n",
        "Given a list of integers with duplicate elements in it. The task to generate another list, which contains only the duplicate elements.\r\n",
        "\r\n",
        "\r\n",
        "\r\n",
        "\r\n"
      ]
    },
    {
      "cell_type": "code",
      "metadata": {
        "colab": {
          "base_uri": "https://localhost:8080/"
        },
        "id": "HEM_sUtkGavb",
        "outputId": "e00058f4-4f26-4cbc-f183-163807999a89"
      },
      "source": [
        "# Python program to print \r\n",
        "# duplicates from a list \r\n",
        "# of integers \r\n",
        "def Repeat(x): \r\n",
        "\t_size = len(x) \r\n",
        "\trepeated = [] \r\n",
        "\tfor i in range(_size): \r\n",
        "\t\tk = i + 1\r\n",
        "\t\tfor j in range(k, _size): \r\n",
        "\t\t\tif x[i] == x[j] and x[i] not in repeated: \r\n",
        "\t\t\t\trepeated.append(x[i]) \r\n",
        "\treturn repeated \r\n",
        "\r\n",
        "# Driver Code \r\n",
        "list1 = [10, 20, 30, 20, 20, 30, 40, \r\n",
        "\t\t50, -20, 60, 60, -20, -20] \r\n",
        "print (Repeat(list1)) \r\n",
        "\t\r\n",
        "# This code is contributed \r\n",
        "# by Sandeep_anand \r\n"
      ],
      "execution_count": 30,
      "outputs": [
        {
          "output_type": "stream",
          "text": [
            "[20, 30, -20, 60]\n"
          ],
          "name": "stdout"
        }
      ]
    },
    {
      "cell_type": "code",
      "metadata": {
        "id": "K2tV089v4CrT"
      },
      "source": [
        ""
      ],
      "execution_count": null,
      "outputs": []
    }
  ]
}