{
  "nbformat": 4,
  "nbformat_minor": 0,
  "metadata": {
    "colab": {
      "name": "Matrix_Product.ipynb",
      "provenance": [],
      "collapsed_sections": []
    },
    "kernelspec": {
      "name": "python3",
      "display_name": "Python 3"
    }
  },
  "cells": [
    {
      "cell_type": "markdown",
      "metadata": {
        "id": "eSlCTBBhvHeP"
      },
      "source": [
        "### **Python | Matrix Product**\r\n",
        "\r\n",
        "Method #1 : Using list comprehension + loop\r\n",
        "We can solve this problem using the list comprehension as a potential shorthand to the conventional loops that we may use to perform this particular task. We just iterate and product the nested list and at end return the cumulative product using function.\r\n",
        "\r\n",
        "\r\n",
        "\r\n",
        "\r\n"
      ]
    },
    {
      "cell_type": "code",
      "metadata": {
        "colab": {
          "base_uri": "https://localhost:8080/"
        },
        "id": "HEM_sUtkGavb",
        "outputId": "50ffa2f4-7235-47ef-e3e1-f465687368f8"
      },
      "source": [
        "# Python3 code to demonstrate \r\n",
        "# Matrix Product \r\n",
        "# Using list comprehension + loop \r\n",
        "\r\n",
        "# getting Product \r\n",
        "def prod(val) : \r\n",
        "\tres = 1\r\n",
        "\tfor ele in val: \r\n",
        "\t\tres *= ele \r\n",
        "\treturn res \r\n",
        "\r\n",
        "# initializing list \r\n",
        "test_list = [[1, 4, 5], [7, 3], [4], [46, 7, 3]] \r\n",
        "\r\n",
        "# printing original list \r\n",
        "print(\"The original list : \" + str(test_list)) \r\n",
        "\r\n",
        "# using list comprehension + loop \r\n",
        "# Matrix Product \r\n",
        "res = prod([ele for sub in test_list for ele in sub]) \r\n",
        "\r\n",
        "# print result \r\n",
        "print(\"The total element product in lists is : \" + str(res)) \r\n"
      ],
      "execution_count": 4,
      "outputs": [
        {
          "output_type": "stream",
          "text": [
            "The original list : [[1, 4, 5], [7, 3], [4], [46, 7, 3]]\n",
            "The total element product in lists is : 1622880\n"
          ],
          "name": "stdout"
        }
      ]
    },
    {
      "cell_type": "code",
      "metadata": {
        "id": "q8H7nZEwPJrd"
      },
      "source": [
        ""
      ],
      "execution_count": null,
      "outputs": []
    }
  ]
}