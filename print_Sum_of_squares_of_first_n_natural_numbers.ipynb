{
  "nbformat": 4,
  "nbformat_minor": 0,
  "metadata": {
    "colab": {
      "name": "print_Sum_of_squares_of_first_n_natural_numbers.ipynb",
      "provenance": [],
      "collapsed_sections": []
    },
    "kernelspec": {
      "name": "python3",
      "display_name": "Python 3"
    }
  },
  "cells": [
    {
      "cell_type": "markdown",
      "metadata": {
        "id": "eSlCTBBhvHeP"
      },
      "source": [
        "### **Python Program for Sum of squares of first n natural numbers**\r\n",
        "\r\n",
        "Given a positive integer N. The task is to find 12 + 22 + 32 + ….. + N2.\r\n",
        "\r\n",
        "Method 1: O(N) The idea is to run a loop from 1 to n and for each i, 1 <= i <= n, find i2 to sum."
      ]
    },
    {
      "cell_type": "code",
      "metadata": {
        "colab": {
          "base_uri": "https://localhost:8080/"
        },
        "id": "4EJVB2fFtjLX",
        "outputId": "ff1ecefa-3144-4d9c-a80b-729a581aa4df"
      },
      "source": [
        "# Python3 Program to \r\n",
        "# find sum of square \r\n",
        "# of first n natural \r\n",
        "# numbers \r\n",
        "\r\n",
        "\r\n",
        "# Return the sum of \r\n",
        "# square of first n \r\n",
        "# natural numbers \r\n",
        "def squaresum(n) : \r\n",
        "\r\n",
        "\t# Iterate i from 1 \r\n",
        "\t# and n finding \r\n",
        "\t# square of i and \r\n",
        "\t# add to sum. \r\n",
        "\tsm = 0\r\n",
        "\tfor i in range(1, n+1) : \r\n",
        "\t\tsm = sm + (i * i) \r\n",
        "\t\r\n",
        "\treturn sm \r\n",
        "\r\n",
        "# Driven Program \r\n",
        "n = 4\r\n",
        "print(squaresum(n)) \r\n",
        "\r\n",
        "# This code is contributed by Nikita Tiwari.*/ \r\n"
      ],
      "execution_count": 21,
      "outputs": [
        {
          "output_type": "stream",
          "text": [
            "30\n"
          ],
          "name": "stdout"
        }
      ]
    },
    {
      "cell_type": "markdown",
      "metadata": {
        "id": "HcyicikiAgRW"
      },
      "source": [
        "Method 2: O(1)"
      ]
    },
    {
      "cell_type": "code",
      "metadata": {
        "colab": {
          "base_uri": "https://localhost:8080/"
        },
        "id": "1DO0wmGWAZK2",
        "outputId": "a8d1b867-bfd1-4b9e-adf7-8289aeb19d31"
      },
      "source": [
        "# Python3 Program to \r\n",
        "# find sum of square \r\n",
        "# of first n natural \r\n",
        "# numbers \r\n",
        "\r\n",
        "# Return the sum of \r\n",
        "# square of first n \r\n",
        "# natural numbers \r\n",
        "def squaresum(n) : \r\n",
        "\treturn (n * (n + 1) * (2 * n + 1)) // 6\r\n",
        "\r\n",
        "# Driven Program \r\n",
        "n = 4\r\n",
        "print(squaresum(n)) \r\n",
        "\r\n",
        "#This code is contributed by Nikita Tiwari.\t\t\t\t\t\t\t\t\t\t\t\t\t\t\t \r\n"
      ],
      "execution_count": 22,
      "outputs": [
        {
          "output_type": "stream",
          "text": [
            "30\n"
          ],
          "name": "stdout"
        }
      ]
    },
    {
      "cell_type": "code",
      "metadata": {
        "id": "ueubT7XiAmhn"
      },
      "source": [
        ""
      ],
      "execution_count": null,
      "outputs": []
    }
  ]
}