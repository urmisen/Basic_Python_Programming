{
  "nbformat": 4,
  "nbformat_minor": 0,
  "metadata": {
    "colab": {
      "name": "Matrix_creation_of_n*n.ipynb",
      "provenance": [],
      "collapsed_sections": []
    },
    "kernelspec": {
      "name": "python3",
      "display_name": "Python 3"
    }
  },
  "cells": [
    {
      "cell_type": "markdown",
      "metadata": {
        "id": "eSlCTBBhvHeP"
      },
      "source": [
        "### **Python | Matrix creation of n*n**\r\n",
        "\r\n",
        "Method #1 : Using list comprehension\r\n",
        "\r\n",
        "List comprehension can be used to accomplish this particular task by using the range function for each list that needs to be constructed consecutively.\r\n",
        "\r\n",
        "\r\n",
        "\r\n"
      ]
    },
    {
      "cell_type": "code",
      "metadata": {
        "colab": {
          "base_uri": "https://localhost:8080/"
        },
        "id": "HEM_sUtkGavb",
        "outputId": "3833478f-81b5-4194-ce31-42b6bde49c43"
      },
      "source": [
        "# Python3 code to demonstrate \r\n",
        "# matrix creation of n * n \r\n",
        "# using list comprehension \r\n",
        "\r\n",
        "# initializing N \r\n",
        "N = 4\r\n",
        "\r\n",
        "# printing dimension \r\n",
        "print(\"The dimension : \" + str(N)) \r\n",
        "\r\n",
        "# using list comprehension \r\n",
        "# matrix creation of n * n \r\n",
        "res = [list(range(1 + N * i, 1 + N * (i + 1))) \r\n",
        "\t\t\t\t\t\t\tfor i in range(N)] \r\n",
        "\r\n",
        "# print result \r\n",
        "print(\"The created matrix of N * N: \" + str(res)) \r\n"
      ],
      "execution_count": 11,
      "outputs": [
        {
          "output_type": "stream",
          "text": [
            "The dimension : 4\n",
            "The created matrix of N * N: [[1, 2, 3, 4], [5, 6, 7, 8], [9, 10, 11, 12], [13, 14, 15, 16]]\n"
          ],
          "name": "stdout"
        }
      ]
    },
    {
      "cell_type": "markdown",
      "metadata": {
        "id": "mut12yxoX9ty"
      },
      "source": [
        "Method #2 : Using next() + itertools.count()\r\n",
        "\r\n",
        "The count function can be used start the count of numbers and next function does the task of creation of sublist consecutively. List comprehension handles the processing."
      ]
    },
    {
      "cell_type": "code",
      "metadata": {
        "colab": {
          "base_uri": "https://localhost:8080/"
        },
        "id": "q8H7nZEwPJrd",
        "outputId": "c4876517-7067-47e8-cf98-85bdcaee3989"
      },
      "source": [
        "# Python3 code to demonstrate \r\n",
        "# matrix creation of n * n \r\n",
        "# using next() + itertools.count() \r\n",
        "import itertools \r\n",
        "\r\n",
        "# initializing N \r\n",
        "N = 4\r\n",
        "\r\n",
        "# printing dimension \r\n",
        "print(\"The dimension : \" + str(N)) \r\n",
        "\r\n",
        "# using next() + itertools.count() \r\n",
        "# matrix creation of n * n \r\n",
        "temp = itertools.count(1) \r\n",
        "res = [[next(temp) for i in range(N)] for i in range(N)] \r\n",
        "\r\n",
        "# print result \r\n",
        "print(\"The created matrix of N * N: \" + str(res)) \r\n"
      ],
      "execution_count": 12,
      "outputs": [
        {
          "output_type": "stream",
          "text": [
            "The dimension : 4\n",
            "The created matrix of N * N: [[1, 2, 3, 4], [5, 6, 7, 8], [9, 10, 11, 12], [13, 14, 15, 16]]\n"
          ],
          "name": "stdout"
        }
      ]
    },
    {
      "cell_type": "code",
      "metadata": {
        "id": "u2B3oYDVZvtR"
      },
      "source": [
        ""
      ],
      "execution_count": null,
      "outputs": []
    }
  ]
}