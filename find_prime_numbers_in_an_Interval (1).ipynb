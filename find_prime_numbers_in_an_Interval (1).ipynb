{
  "nbformat": 4,
  "nbformat_minor": 0,
  "metadata": {
    "colab": {
      "name": "find_prime_numbers_in_an_Interval.ipynb",
      "provenance": [],
      "collapsed_sections": []
    },
    "kernelspec": {
      "name": "python3",
      "display_name": "Python 3"
    }
  },
  "cells": [
    {
      "cell_type": "markdown",
      "metadata": {
        "id": "eSlCTBBhvHeP"
      },
      "source": [
        "### **Python program to check whether a number is Prime or not**\r\n",
        "\r\n",
        "A prime number is a natural number greater than 1 that has no positive divisors other than 1 and itself.\r\n"
      ]
    },
    {
      "cell_type": "code",
      "metadata": {
        "colab": {
          "base_uri": "https://localhost:8080/"
        },
        "id": "4EJVB2fFtjLX",
        "outputId": "71ac95d1-4332-40fa-ff32-a3a8bdfd28d8"
      },
      "source": [
        "# Python program to check if\r\n",
        "# given number is prime or not\r\n",
        "\r\n",
        "num = 11\r\n",
        "\r\n",
        "# If given number is greater than 1\r\n",
        "if num > 1:\r\n",
        "\r\n",
        "\t# Iterate from 2 to n / 2\r\n",
        "\tfor i in range(2, int(num/2)+1):\r\n",
        "\r\n",
        "\t\t# If num is divisible by any number between\r\n",
        "\t\t# 2 and n / 2, it is not prime\r\n",
        "\t\tif (num % i) == 0:\r\n",
        "\t\t\tprint(num, \"is not a prime number\")\r\n",
        "\t\t\tbreak\r\n",
        "\telse:\r\n",
        "\t\tprint(num, \"is a prime number\")\r\n",
        "\r\n",
        "else:\r\n",
        "\tprint(num, \"is not a prime number\")\r\n"
      ],
      "execution_count": 17,
      "outputs": [
        {
          "output_type": "stream",
          "text": [
            "11 is a prime number\n"
          ],
          "name": "stdout"
        }
      ]
    },
    {
      "cell_type": "code",
      "metadata": {
        "id": "gfZmKzPAx-3x"
      },
      "source": [
        ""
      ],
      "execution_count": null,
      "outputs": []
    }
  ]
}