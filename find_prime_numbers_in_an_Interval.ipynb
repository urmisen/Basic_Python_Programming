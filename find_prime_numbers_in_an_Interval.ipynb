{
  "nbformat": 4,
  "nbformat_minor": 0,
  "metadata": {
    "colab": {
      "name": "find_prime_numbers_in_an_Interval.ipynb",
      "provenance": [],
      "collapsed_sections": []
    },
    "kernelspec": {
      "name": "python3",
      "display_name": "Python 3"
    }
  },
  "cells": [
    {
      "cell_type": "markdown",
      "metadata": {
        "id": "eSlCTBBhvHeP"
      },
      "source": [
        "### **Python program to print all Prime numbers in an Interval**\r\n",
        "\r\n",
        "A prime number is a natural number greater than 1 that has no positive divisors other than 1 and itself.\r\n"
      ]
    },
    {
      "cell_type": "code",
      "metadata": {
        "colab": {
          "base_uri": "https://localhost:8080/"
        },
        "id": "4EJVB2fFtjLX",
        "outputId": "622a3b2c-6b10-4b4d-8d54-dd0c54b11544"
      },
      "source": [
        "# Python program to print all \r\n",
        "# prime number in an interval \r\n",
        "# number should be greater than 1 \r\n",
        "start = 11\r\n",
        "end = 25\r\n",
        "\r\n",
        "for i in range(start, end+1): \r\n",
        "  if i>1: \r\n",
        "    for j in range(2,i): \r\n",
        "      if(i % j==0): \r\n",
        "        break\r\n",
        "    else: \r\n",
        "      print(i) \r\n"
      ],
      "execution_count": 16,
      "outputs": [
        {
          "output_type": "stream",
          "text": [
            "11\n",
            "13\n",
            "17\n",
            "19\n",
            "23\n"
          ],
          "name": "stdout"
        }
      ]
    },
    {
      "cell_type": "code",
      "metadata": {
        "id": "gfZmKzPAx-3x"
      },
      "source": [
        ""
      ],
      "execution_count": null,
      "outputs": []
    }
  ]
}