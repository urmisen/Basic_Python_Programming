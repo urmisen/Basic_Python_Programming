{
  "nbformat": 4,
  "nbformat_minor": 0,
  "metadata": {
    "colab": {
      "name": "Reversal_algorithm_for_array_rotation.ipynb",
      "provenance": [],
      "collapsed_sections": []
    },
    "kernelspec": {
      "name": "python3",
      "display_name": "Python 3"
    }
  },
  "cells": [
    {
      "cell_type": "markdown",
      "metadata": {
        "id": "eSlCTBBhvHeP"
      },
      "source": [
        "### **Python Program for Reversal algorithm for array rotation**\r\n",
        "\r\n",
        "Write a function rotate(ar[], d, n) that rotates arr[] of size n by d elements. \r\n",
        "\r\n",
        "(Using temp array)  \r\n",
        "\r\n",
        "\r\n",
        "\r\n",
        "Input arr[] = [1, 2, 3, 4, 5, 6, 7], d = 2, n =7\r\n",
        "1. Store d elements in a temp array\r\n",
        "   temp[] = [1, 2]\r\n",
        "2. Shift rest of the arr[]\r\n",
        "   arr[] = [3, 4, 5, 6, 7, 6, 7]\r\n",
        "3. Store back the d elements\r\n",
        "   arr[] = [3, 4, 5, 6, 7, 1, 2]"
      ]
    },
    {
      "cell_type": "code",
      "metadata": {
        "colab": {
          "base_uri": "https://localhost:8080/"
        },
        "id": "HEM_sUtkGavb",
        "outputId": "d0c0097c-859b-4e0f-e1a4-dafbf3b47da0"
      },
      "source": [
        "# Python program for reversal algorithm of array rotation \r\n",
        "\r\n",
        "# Function to reverse arr[] from index start to end \r\n",
        "def rverseArray(arr, start, end): \r\n",
        "\twhile (start < end): \r\n",
        "\t\ttemp = arr[start] \r\n",
        "\t\tarr[start] = arr[end] \r\n",
        "\t\tarr[end] = temp \r\n",
        "\t\tstart += 1\r\n",
        "\t\tend = end-1\r\n",
        "\r\n",
        "# Function to left rotate arr[] of size n by d \r\n",
        "def leftRotate(arr, d): \r\n",
        "\tn = len(arr) \r\n",
        "\trverseArray(arr, 0, d-1) \r\n",
        "\trverseArray(arr, d, n-1) \r\n",
        "\trverseArray(arr, 0, n-1) \r\n",
        "\r\n",
        "# Function to print an array \r\n",
        "def printArray(arr): \r\n",
        "\tfor i in range(0, len(arr)): \r\n",
        "\t\tprint (arr[i]) \r\n",
        "\r\n",
        "# Driver function to test above functions \r\n",
        "arr = [1, 2, 3, 4, 5, 6, 7] \r\n",
        "leftRotate(arr, 2) # Rotate array by 2 \r\n",
        "printArray(arr) \r\n",
        "\r\n",
        "# This code is contributed by Devesh Agrawal \r\n"
      ],
      "execution_count": 30,
      "outputs": [
        {
          "output_type": "stream",
          "text": [
            "3\n",
            "4\n",
            "5\n",
            "6\n",
            "7\n",
            "1\n",
            "2\n"
          ],
          "name": "stdout"
        }
      ]
    },
    {
      "cell_type": "markdown",
      "metadata": {
        "id": "C36S64wHGOtM"
      },
      "source": [
        "Time complexity: O(n) \r\n"
      ]
    },
    {
      "cell_type": "code",
      "metadata": {
        "id": "9zLAVv-LG6pU"
      },
      "source": [
        ""
      ],
      "execution_count": null,
      "outputs": []
    }
  ]
}