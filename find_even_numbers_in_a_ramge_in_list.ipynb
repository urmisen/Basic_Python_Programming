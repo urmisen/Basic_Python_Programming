{
  "nbformat": 4,
  "nbformat_minor": 0,
  "metadata": {
    "colab": {
      "name": "find_even_numbers_in_a_ramge_in_list.ipynb",
      "provenance": [],
      "collapsed_sections": []
    },
    "kernelspec": {
      "name": "python3",
      "display_name": "Python 3"
    }
  },
  "cells": [
    {
      "cell_type": "markdown",
      "metadata": {
        "id": "eSlCTBBhvHeP"
      },
      "source": [
        "### **Python program to print all even numbers in a range**\r\n",
        "Example #1: Print all even numbers from given list using for loop\r\n",
        "\r\n",
        "Define start and end limit of range. Iterate from start till the range in the list using for loop and check if num % 2 == 0. If the condition satisfies, then only print the number.\r\n",
        "\r\n",
        "\r\n",
        "\r\n",
        "\r\n"
      ]
    },
    {
      "cell_type": "code",
      "metadata": {
        "colab": {
          "base_uri": "https://localhost:8080/"
        },
        "id": "HEM_sUtkGavb",
        "outputId": "57918431-ba3d-446d-eb58-06ea0e96dcf1"
      },
      "source": [
        "# Python program to print Even Numbers in given range \r\n",
        "\r\n",
        "start, end = 4, 19\r\n",
        "\r\n",
        "# iterating each number in list \r\n",
        "for num in range(start, end + 1): \r\n",
        "\t\r\n",
        "\t# checking condition \r\n",
        "\tif num % 2 == 0: \r\n",
        "\t\tprint(num, end = \" \") \r\n"
      ],
      "execution_count": 17,
      "outputs": [
        {
          "output_type": "stream",
          "text": [
            "4 6 8 10 12 14 16 18 "
          ],
          "name": "stdout"
        }
      ]
    },
    {
      "cell_type": "markdown",
      "metadata": {
        "id": "vKouqmIUnsD_"
      },
      "source": [
        " Example #2: Taking range limit from user input"
      ]
    },
    {
      "cell_type": "code",
      "metadata": {
        "colab": {
          "base_uri": "https://localhost:8080/"
        },
        "id": "2tN6UgHEiRtd",
        "outputId": "12c8d361-b967-4a95-89aa-c4263db6df4c"
      },
      "source": [
        "# Python program to print Even Numbers in given range \r\n",
        "\r\n",
        "start = int(input(\"Enter the start of range: \")) \r\n",
        "end = int(input(\"Enter the end of range: \")) \r\n",
        "\r\n",
        "# iterating each number in list \r\n",
        "for num in range(start, end + 1): \r\n",
        "\t\r\n",
        "\t# checking condition \r\n",
        "\tif num % 2 == 0: \r\n",
        "\t\tprint(num, end = \" \") \r\n"
      ],
      "execution_count": 18,
      "outputs": [
        {
          "output_type": "stream",
          "text": [
            "Enter the start of range: 4\n",
            "Enter the end of range: 25\n",
            "4 6 8 10 12 14 16 18 20 22 24 "
          ],
          "name": "stdout"
        }
      ]
    },
    {
      "cell_type": "code",
      "metadata": {
        "id": "ZAGM-tST0F-b"
      },
      "source": [
        ""
      ],
      "execution_count": null,
      "outputs": []
    }
  ]
}