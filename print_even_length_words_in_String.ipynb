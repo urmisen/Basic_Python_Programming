{
  "nbformat": 4,
  "nbformat_minor": 0,
  "metadata": {
    "colab": {
      "name": " print_even_length_words_in_String.ipynb",
      "provenance": [],
      "collapsed_sections": []
    },
    "kernelspec": {
      "name": "python3",
      "display_name": "Python 3"
    }
  },
  "cells": [
    {
      "cell_type": "markdown",
      "metadata": {
        "id": "eSlCTBBhvHeP"
      },
      "source": [
        "### **Python program to print even length words in a string**\r\n",
        "\r\n",
        "Approach: Split the string using split() function. Iterate in the words of a string using for loop. Calculate the length of the word using len() function. If the length is even, then print the word.\r\n",
        "\r\n",
        "\r\n",
        "\r\n"
      ]
    },
    {
      "cell_type": "code",
      "metadata": {
        "colab": {
          "base_uri": "https://localhost:8080/"
        },
        "id": "HEM_sUtkGavb",
        "outputId": "d4ec02ed-256b-43e8-f3eb-f6443d2810de"
      },
      "source": [
        "# Python3 program to print \r\n",
        "# even length words in a string \r\n",
        "\r\n",
        "def printWords(s): \r\n",
        "\t\r\n",
        "\t# split the string \r\n",
        "\ts = s.split(' ') \r\n",
        "\t\r\n",
        "\t# iterate in words of string \r\n",
        "\tfor word in s: \r\n",
        "\t\t\r\n",
        "\t\t# if length is even \r\n",
        "\t\tif len(word)%2==0: \r\n",
        "\t\t\tprint(word) \r\n",
        "\r\n",
        "\r\n",
        "# Driver Code \r\n",
        "s = \"i am urmi\"\r\n",
        "printWords(s) \r\n"
      ],
      "execution_count": 25,
      "outputs": [
        {
          "output_type": "stream",
          "text": [
            "am\n",
            "urmi\n"
          ],
          "name": "stdout"
        }
      ]
    },
    {
      "cell_type": "markdown",
      "metadata": {
        "id": "LliOai1C_pJV"
      },
      "source": [
        "Method #2 : Using Counter() + split()\r\n",
        "\r\n",
        "The combination of above methods can also be used to solve this problem. In this, we perform the task of counting using Counter() and separation of words using split()."
      ]
    },
    {
      "cell_type": "code",
      "metadata": {
        "id": "u2B3oYDVZvtR",
        "colab": {
          "base_uri": "https://localhost:8080/"
        },
        "outputId": "2c0c9d8c-c28b-4d0c-9dfd-211874dfadfa"
      },
      "source": [
        "# Python3 code to demonstrate working of \r\n",
        "# Words Frequency in String Shorthands \r\n",
        "# Using Counter() + split() \r\n",
        "from collections import Counter \r\n",
        "\r\n",
        "# initializing string \r\n",
        "test_str = 'Gfg is best . Geeks are good and Geeks like Gfg'\r\n",
        "\r\n",
        "# printing original string \r\n",
        "print(\"The original string is : \" + str(test_str)) \r\n",
        "\r\n",
        "# Words Frequency in String Shorthands \r\n",
        "# Using Counter() + split() \r\n",
        "res = Counter(test_str.split()) \r\n",
        "\r\n",
        "# printing result \r\n",
        "print(\"The words frequency : \" + str(dict(res))) \r\n"
      ],
      "execution_count": 24,
      "outputs": [
        {
          "output_type": "stream",
          "text": [
            "The original string is : Gfg is best . Geeks are good and Geeks like Gfg\n",
            "The words frequency : {'Gfg': 2, 'is': 1, 'best': 1, '.': 1, 'Geeks': 2, 'are': 1, 'good': 1, 'and': 1, 'like': 1}\n"
          ],
          "name": "stdout"
        }
      ]
    },
    {
      "cell_type": "code",
      "metadata": {
        "id": "RBnRW9wbAJkU"
      },
      "source": [
        ""
      ],
      "execution_count": null,
      "outputs": []
    }
  ]
}