{
  "nbformat": 4,
  "nbformat_minor": 0,
  "metadata": {
    "colab": {
      "name": "Ways_to_find_length_of_list.ipynb",
      "provenance": [],
      "collapsed_sections": []
    },
    "kernelspec": {
      "name": "python3",
      "display_name": "Python 3"
    }
  },
  "cells": [
    {
      "cell_type": "markdown",
      "metadata": {
        "id": "eSlCTBBhvHeP"
      },
      "source": [
        "### **Ways to find length of list**\r\n",
        "\r\n",
        "Method 1 : Naive Method\r\n",
        "\r\n",
        "In this method one just runs a loop and increases the counter till the last element of the list to know its count. This is the most basic strategy that can be possibly employed in the absence of other present techniques."
      ]
    },
    {
      "cell_type": "code",
      "metadata": {
        "colab": {
          "base_uri": "https://localhost:8080/"
        },
        "id": "HEM_sUtkGavb",
        "outputId": "a604e6be-c6b2-4338-d50c-adc1e5fae038"
      },
      "source": [
        "# Python code to demonstrate \r\n",
        "# length of list \r\n",
        "# using naive method \r\n",
        "\r\n",
        "# Initializing list \r\n",
        "test_list = [ 1, 4, 5, 7, 8 ] \r\n",
        "\r\n",
        "# Printing test_list \r\n",
        "print (\"The list is : \" + str(test_list)) \r\n",
        "\r\n",
        "# Finding length of list \r\n",
        "# using loop \r\n",
        "# Initializing counter \r\n",
        "counter = 0\r\n",
        "for i in test_list: \r\n",
        "\t\r\n",
        "\t# incrementing counter \r\n",
        "\tcounter = counter + 1\r\n",
        "\r\n",
        "# Printing length of list \r\n",
        "print (\"Length of list using naive method is : \" + str(counter)) \r\n"
      ],
      "execution_count": 1,
      "outputs": [
        {
          "output_type": "stream",
          "text": [
            "The list is : [1, 4, 5, 7, 8]\n",
            "Length of list using naive method is : 5\n"
          ],
          "name": "stdout"
        }
      ]
    },
    {
      "cell_type": "markdown",
      "metadata": {
        "id": "48rIunQ8Pjvr"
      },
      "source": [
        "Method 2 : Using len()\r\n",
        "\r\n",
        "The len() method offers the most used and easy way to find length of any list. This is the most conventional technique adopted by all the programmers today."
      ]
    },
    {
      "cell_type": "code",
      "metadata": {
        "colab": {
          "base_uri": "https://localhost:8080/"
        },
        "id": "3Fy5GwL4NPMx",
        "outputId": "4f9928d7-f003-4cba-85c4-e00b9a6ec58a"
      },
      "source": [
        "# Python program to demonstrate working \r\n",
        "# of len() \r\n",
        "a = [] \r\n",
        "a.append(\"Hello\") \r\n",
        "a.append(\"Geeks\") \r\n",
        "a.append(\"For\") \r\n",
        "a.append(\"Geeks\") \r\n",
        "print(\"The length of list is: \", len(a)) \r\n"
      ],
      "execution_count": 2,
      "outputs": [
        {
          "output_type": "stream",
          "text": [
            "The length of list is:  4\n"
          ],
          "name": "stdout"
        }
      ]
    },
    {
      "cell_type": "markdown",
      "metadata": {
        "id": "RmHyyyIKh9eL"
      },
      "source": [
        "Method 3 : Using length_hint()\r\n",
        "\r\n",
        "This technique is lesser known technique of finding list length. This particular method is defined in operator class and it can also tell the no. of elements present in the list.\r\n"
      ]
    },
    {
      "cell_type": "code",
      "metadata": {
        "colab": {
          "base_uri": "https://localhost:8080/"
        },
        "id": "PcduO0AFRXei",
        "outputId": "e6d7ccc8-4f52-4839-8725-f83cde4bea21"
      },
      "source": [
        "# Python code to demonstrate \r\n",
        "# length of list \r\n",
        "# using len() and length_hint \r\n",
        "from operator import length_hint \r\n",
        "\r\n",
        "# Initializing list \r\n",
        "test_list = [ 1, 4, 5, 7, 8 ] \r\n",
        "\r\n",
        "# Printing test_list \r\n",
        "print (\"The list is : \" + str(test_list)) \r\n",
        "\r\n",
        "# Finding length of list \r\n",
        "# using len() \r\n",
        "list_len = len(test_list) \r\n",
        "\r\n",
        "# Finding length of list \r\n",
        "# using length_hint() \r\n",
        "list_len_hint = length_hint(test_list) \r\n",
        "\r\n",
        "# Printing length of list \r\n",
        "print (\"Length of list using len() is : \" + str(list_len)) \r\n",
        "print (\"Length of list using length_hint() is : \" + str(list_len_hint)) \r\n"
      ],
      "execution_count": 3,
      "outputs": [
        {
          "output_type": "stream",
          "text": [
            "The list is : [1, 4, 5, 7, 8]\n",
            "Length of list using len() is : 5\n",
            "Length of list using length_hint() is : 5\n"
          ],
          "name": "stdout"
        }
      ]
    },
    {
      "cell_type": "markdown",
      "metadata": {
        "id": "4kmNsfeaiO50"
      },
      "source": [
        "Performance Analysis – Naive vs len() vs length_hint()"
      ]
    },
    {
      "cell_type": "code",
      "metadata": {
        "colab": {
          "base_uri": "https://localhost:8080/"
        },
        "id": "28tzJ9LCiGXu",
        "outputId": "56116ee1-0b51-436c-f657-c1271cad61c2"
      },
      "source": [
        "# Python code to demonstrate \r\n",
        "# length of list \r\n",
        "# Performance Analysis \r\n",
        "from operator import length_hint \r\n",
        "import time \r\n",
        "\r\n",
        "# Initializing list \r\n",
        "test_list = [ 1, 4, 5, 7, 8 ] \r\n",
        "\r\n",
        "# Printing test_list \r\n",
        "print (\"The list is : \" + str(test_list)) \r\n",
        "\r\n",
        "# Finding length of list \r\n",
        "# using loop \r\n",
        "# Initializing counter \r\n",
        "start_time_naive = time.time() \r\n",
        "counter = 0\r\n",
        "for i in test_list: \r\n",
        "\t\r\n",
        "\t# incrementing counter \r\n",
        "\tcounter = counter + 1\r\n",
        "end_time_naive = str(time.time() - start_time_naive) \r\n",
        "\r\n",
        "# Finding length of list \r\n",
        "# using len() \r\n",
        "start_time_len = time.time() \r\n",
        "list_len = len(test_list) \r\n",
        "end_time_len = str(time.time() - start_time_len) \r\n",
        "\r\n",
        "# Finding length of list \r\n",
        "# using length_hint() \r\n",
        "start_time_hint = time.time() \r\n",
        "list_len_hint = length_hint(test_list) \r\n",
        "end_time_hint = str(time.time() - start_time_hint) \r\n",
        "\r\n",
        "# Printing Times of each \r\n",
        "print (\"Time taken using naive method is : \" + end_time_naive) \r\n",
        "print (\"Time taken using len() is : \" + end_time_len) \r\n",
        "print (\"Time taken using length_hint() is : \" + end_time_hint) \r\n"
      ],
      "execution_count": 4,
      "outputs": [
        {
          "output_type": "stream",
          "text": [
            "The list is : [1, 4, 5, 7, 8]\n",
            "Time taken using naive method is : 0.00010514259338378906\n",
            "Time taken using len() is : 3.552436828613281e-05\n",
            "Time taken using length_hint() is : 3.4332275390625e-05\n"
          ],
          "name": "stdout"
        }
      ]
    },
    {
      "cell_type": "code",
      "metadata": {
        "id": "2tN6UgHEiRtd"
      },
      "source": [
        ""
      ],
      "execution_count": 4,
      "outputs": []
    }
  ]
}